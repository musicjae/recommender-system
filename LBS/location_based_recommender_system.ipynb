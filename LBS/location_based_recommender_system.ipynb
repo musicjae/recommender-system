{
  "nbformat": 4,
  "nbformat_minor": 0,
  "metadata": {
    "kernelspec": {
      "display_name": "Python 3",
      "language": "python",
      "name": "python3"
    },
    "language_info": {
      "codemirror_mode": {
        "name": "ipython",
        "version": 3
      },
      "file_extension": ".py",
      "mimetype": "text/x-python",
      "name": "python",
      "nbconvert_exporter": "python",
      "pygments_lexer": "ipython3",
      "version": "3.7.2"
    },
    "colab": {
      "name": "location based recommender system.ipynb",
      "provenance": [],
      "include_colab_link": true
    }
  },
  "cells": [
    {
      "cell_type": "markdown",
      "metadata": {
        "id": "view-in-github",
        "colab_type": "text"
      },
      "source": [
        "<a href=\"https://colab.research.google.com/github/musicjae/recommender-system/blob/main/LBS/location_based_recommender_system.ipynb\" target=\"_parent\"><img src=\"https://colab.research.google.com/assets/colab-badge.svg\" alt=\"Open In Colab\"/></a>"
      ]
    },
    {
      "cell_type": "code",
      "metadata": {
        "colab": {
          "base_uri": "https://localhost:8080/"
        },
        "id": "LN_0rvQkIb7w",
        "outputId": "56b5dbba-ff29-489e-e2ed-e85698cf7dcd"
      },
      "source": [
        "from google.colab import drive\r\n",
        "drive.mount('/content/drive')"
      ],
      "execution_count": 1,
      "outputs": [
        {
          "output_type": "stream",
          "text": [
            "Mounted at /content/drive\n"
          ],
          "name": "stdout"
        }
      ]
    },
    {
      "cell_type": "code",
      "metadata": {
        "id": "9SzGahTBIaRG"
      },
      "source": [
        "import pandas as pd\n",
        "import numpy as np\n",
        "from math import sin, cos, sqrt, atan2"
      ],
      "execution_count": 2,
      "outputs": []
    },
    {
      "cell_type": "code",
      "metadata": {
        "id": "Xlgm1BJNIaRI"
      },
      "source": [
        "laundry=pd.read_csv('/content/drive/MyDrive/dataset/location-based-recsys/laundry.csv')\n",
        "user=pd.read_csv('/content/drive/MyDrive/dataset/location-based-recsys/user.csv')"
      ],
      "execution_count": 17,
      "outputs": []
    },
    {
      "cell_type": "markdown",
      "metadata": {
        "id": "gv7J_o1fXDEM"
      },
      "source": [
        "## 데이터 조사"
      ]
    },
    {
      "cell_type": "code",
      "metadata": {
        "colab": {
          "base_uri": "https://localhost:8080/",
          "height": 142
        },
        "id": "WgmQkye-XDxM",
        "outputId": "862c71e5-4836-4860-d250-f2698281fb43"
      },
      "source": [
        "laundry.head(3)"
      ],
      "execution_count": 5,
      "outputs": [
        {
          "output_type": "execute_result",
          "data": {
            "text/html": [
              "<div>\n",
              "<style scoped>\n",
              "    .dataframe tbody tr th:only-of-type {\n",
              "        vertical-align: middle;\n",
              "    }\n",
              "\n",
              "    .dataframe tbody tr th {\n",
              "        vertical-align: top;\n",
              "    }\n",
              "\n",
              "    .dataframe thead th {\n",
              "        text-align: right;\n",
              "    }\n",
              "</style>\n",
              "<table border=\"1\" class=\"dataframe\">\n",
              "  <thead>\n",
              "    <tr style=\"text-align: right;\">\n",
              "      <th></th>\n",
              "      <th>Unnamed: 0</th>\n",
              "      <th>Count</th>\n",
              "      <th>placeID</th>\n",
              "      <th>ave_rating</th>\n",
              "      <th>latitude</th>\n",
              "      <th>longitude</th>\n",
              "      <th>Service</th>\n",
              "    </tr>\n",
              "  </thead>\n",
              "  <tbody>\n",
              "    <tr>\n",
              "      <th>0</th>\n",
              "      <td>0</td>\n",
              "      <td>56</td>\n",
              "      <td>135032</td>\n",
              "      <td>1.3</td>\n",
              "      <td>22.152481</td>\n",
              "      <td>-100.973486</td>\n",
              "      <td>Cafeteria</td>\n",
              "    </tr>\n",
              "    <tr>\n",
              "      <th>1</th>\n",
              "      <td>1</td>\n",
              "      <td>56</td>\n",
              "      <td>135032</td>\n",
              "      <td>1.3</td>\n",
              "      <td>22.152481</td>\n",
              "      <td>-100.973486</td>\n",
              "      <td>Contemporary</td>\n",
              "    </tr>\n",
              "    <tr>\n",
              "      <th>2</th>\n",
              "      <td>2</td>\n",
              "      <td>56</td>\n",
              "      <td>135032</td>\n",
              "      <td>1.3</td>\n",
              "      <td>22.152481</td>\n",
              "      <td>-100.973486</td>\n",
              "      <td>Cafeteria</td>\n",
              "    </tr>\n",
              "  </tbody>\n",
              "</table>\n",
              "</div>"
            ],
            "text/plain": [
              "   Unnamed: 0  Count  placeID  ave_rating   latitude   longitude       Service\n",
              "0           0     56   135032         1.3  22.152481 -100.973486     Cafeteria\n",
              "1           1     56   135032         1.3  22.152481 -100.973486  Contemporary\n",
              "2           2     56   135032         1.3  22.152481 -100.973486     Cafeteria"
            ]
          },
          "metadata": {
            "tags": []
          },
          "execution_count": 5
        }
      ]
    },
    {
      "cell_type": "code",
      "metadata": {
        "colab": {
          "base_uri": "https://localhost:8080/"
        },
        "id": "V7HKFXL6XFrp",
        "outputId": "185b0a22-4850-4d1e-fbf1-ff4f1105a2fd"
      },
      "source": [
        "laundry_loc = laundry[['latitude','longitude']]\r\n",
        "print(laundry_loc.head(2))"
      ],
      "execution_count": 9,
      "outputs": [
        {
          "output_type": "stream",
          "text": [
            "    latitude   longitude\n",
            "0  22.152481 -100.973486\n",
            "1  22.152481 -100.973486\n"
          ],
          "name": "stdout"
        }
      ]
    },
    {
      "cell_type": "code",
      "metadata": {
        "colab": {
          "base_uri": "https://localhost:8080/",
          "height": 142
        },
        "id": "qK0aT2fTXURQ",
        "outputId": "6f186c6f-6c92-40dc-eeb5-06bd322e6149"
      },
      "source": [
        "user.head(3)"
      ],
      "execution_count": 10,
      "outputs": [
        {
          "output_type": "execute_result",
          "data": {
            "text/html": [
              "<div>\n",
              "<style scoped>\n",
              "    .dataframe tbody tr th:only-of-type {\n",
              "        vertical-align: middle;\n",
              "    }\n",
              "\n",
              "    .dataframe tbody tr th {\n",
              "        vertical-align: top;\n",
              "    }\n",
              "\n",
              "    .dataframe thead th {\n",
              "        text-align: right;\n",
              "    }\n",
              "</style>\n",
              "<table border=\"1\" class=\"dataframe\">\n",
              "  <thead>\n",
              "    <tr style=\"text-align: right;\">\n",
              "      <th></th>\n",
              "      <th>Unnamed: 0</th>\n",
              "      <th>userID</th>\n",
              "      <th>latitude</th>\n",
              "      <th>longitude</th>\n",
              "      <th>Service</th>\n",
              "    </tr>\n",
              "  </thead>\n",
              "  <tbody>\n",
              "    <tr>\n",
              "      <th>0</th>\n",
              "      <td>0</td>\n",
              "      <td>U1001</td>\n",
              "      <td>22.139997</td>\n",
              "      <td>-100.978803</td>\n",
              "      <td>American</td>\n",
              "    </tr>\n",
              "    <tr>\n",
              "      <th>1</th>\n",
              "      <td>1</td>\n",
              "      <td>U1002</td>\n",
              "      <td>22.150087</td>\n",
              "      <td>-100.983325</td>\n",
              "      <td>Mexican</td>\n",
              "    </tr>\n",
              "    <tr>\n",
              "      <th>2</th>\n",
              "      <td>2</td>\n",
              "      <td>U1003</td>\n",
              "      <td>22.119847</td>\n",
              "      <td>-100.946527</td>\n",
              "      <td>Mexican</td>\n",
              "    </tr>\n",
              "  </tbody>\n",
              "</table>\n",
              "</div>"
            ],
            "text/plain": [
              "   Unnamed: 0 userID   latitude   longitude   Service\n",
              "0           0  U1001  22.139997 -100.978803  American\n",
              "1           1  U1002  22.150087 -100.983325   Mexican\n",
              "2           2  U1003  22.119847 -100.946527   Mexican"
            ]
          },
          "metadata": {
            "tags": []
          },
          "execution_count": 10
        }
      ]
    },
    {
      "cell_type": "code",
      "metadata": {
        "colab": {
          "base_uri": "https://localhost:8080/"
        },
        "id": "JKcYA2DAXY1A",
        "outputId": "1077c2aa-19b1-4bc2-fd14-e611a626135b"
      },
      "source": [
        "user_loc = user[['latitude','longitude']]\r\n",
        "print(user_loc.head(2))"
      ],
      "execution_count": 12,
      "outputs": [
        {
          "output_type": "stream",
          "text": [
            "    latitude   longitude\n",
            "0  22.139997 -100.978803\n",
            "1  22.150087 -100.983325\n"
          ],
          "name": "stdout"
        }
      ]
    },
    {
      "cell_type": "code",
      "metadata": {
        "colab": {
          "base_uri": "https://localhost:8080/"
        },
        "id": "qxARb9QLZEkX",
        "outputId": "61c7691f-de13-4910-bac5-32e1d5308bc5"
      },
      "source": [
        "laundry.columns"
      ],
      "execution_count": 18,
      "outputs": [
        {
          "output_type": "execute_result",
          "data": {
            "text/plain": [
              "Index(['Unnamed: 0', 'Count', 'placeID', 'ave_rating', 'latitude', 'longitude',\n",
              "       'Service'],\n",
              "      dtype='object')"
            ]
          },
          "metadata": {
            "tags": []
          },
          "execution_count": 18
        }
      ]
    },
    {
      "cell_type": "markdown",
      "metadata": {
        "id": "ahU473GgaVae"
      },
      "source": [
        "## 데이터 전처리 및 분석"
      ]
    },
    {
      "cell_type": "code",
      "metadata": {
        "id": "o96AqKBHY_MF"
      },
      "source": [
        "laundry.drop('Unnamed: 0',axis=1,inplace=True)\r\n",
        "user.drop('Unnamed: 0',axis=1,inplace=True)"
      ],
      "execution_count": 19,
      "outputs": []
    },
    {
      "cell_type": "code",
      "metadata": {
        "colab": {
          "base_uri": "https://localhost:8080/"
        },
        "id": "QJLLSApiIaRJ",
        "outputId": "7fca272c-4db9-4e6c-bbf7-4a219688a839"
      },
      "source": [
        "laundry=laundry.groupby(['placeID','latitude','longitude','Service']).mean()\n",
        "print(laundry.head(2))\n",
        "laundry.reset_index(inplace=True)\n",
        "print('\\n\\n')\n",
        "print(laundry.head(2))"
      ],
      "execution_count": 21,
      "outputs": [
        {
          "output_type": "stream",
          "text": [
            "                                         Count  ave_rating\n",
            "placeID latitude  longitude   Service                     \n",
            "132560  23.752304 -99.166913  Regional       4       0.175\n",
            "132572  22.141647 -100.992712 Cafeteria     15       0.740\n",
            "\n",
            "\n",
            "\n",
            "   placeID   latitude   longitude    Service  Count  ave_rating\n",
            "0   132560  23.752304  -99.166913   Regional      4       0.175\n",
            "1   132572  22.141647 -100.992712  Cafeteria     15       0.740\n"
          ],
          "name": "stdout"
        }
      ]
    },
    {
      "cell_type": "markdown",
      "metadata": {
        "id": "nAzAzCmMZ1zH"
      },
      "source": [
        "- 아래는 placeID의 134986이 8번 평가되었음을 의미.  \r\n",
        "- 또한 이 placeID는 가장 높은 평가점수를 가졌음을 의미"
      ]
    },
    {
      "cell_type": "code",
      "metadata": {
        "colab": {
          "base_uri": "https://localhost:8080/"
        },
        "id": "AzJ171KGIaRK",
        "outputId": "f2872a34-46a5-4eec-c814-9b51b916a114"
      },
      "source": [
        "laundry=laundry.sort_values(by=['ave_rating','Count'], ascending=[False, False])\n",
        "print(laundry.head(10))\n",
        "print('\\n')\n",
        "print(laundry.size)"
      ],
      "execution_count": 34,
      "outputs": [
        {
          "output_type": "stream",
          "text": [
            "     placeID   latitude   longitude          Service  Count  ave_rating\n",
            "59    134986  18.928798  -99.239513    International      8    2.700000\n",
            "91    135055  22.148854 -101.008472          Mexican      7    2.314286\n",
            "73    135034  22.140517 -101.021422         Japanese      5    2.140000\n",
            "52    132955  22.147622 -101.010275  Bar_Pub_Brewery      5    2.140000\n",
            "22    132755  22.153324 -101.019546          Mexican      5    2.020000\n",
            "102   135074  22.149689 -100.999525     Contemporary      4    1.850000\n",
            "47    132922  22.151135 -100.982311        Cafeteria      6    1.833333\n",
            "60    134999  18.915421  -99.184871         Japanese      5    1.740000\n",
            "25    132768  18.925773  -99.232636           Family     10    1.710000\n",
            "64    135025  22.149550 -100.977970          Mexican     15    1.706667\n",
            "\n",
            "\n",
            "672\n"
          ],
          "name": "stdout"
        }
      ]
    },
    {
      "cell_type": "code",
      "metadata": {
        "colab": {
          "base_uri": "https://localhost:8080/"
        },
        "id": "VkJZFcQ9IaRL",
        "outputId": "ab413aa8-366b-4c68-bb57-c79a8364d971"
      },
      "source": [
        "users = user['userID'].unique()\n",
        "print(f'유저 수: {len(users)}') #unique users"
      ],
      "execution_count": 28,
      "outputs": [
        {
          "output_type": "stream",
          "text": [
            "유저 수: 138\n"
          ],
          "name": "stdout"
        }
      ]
    },
    {
      "cell_type": "code",
      "metadata": {
        "colab": {
          "base_uri": "https://localhost:8080/",
          "height": 142
        },
        "id": "K--wOkhKazZF",
        "outputId": "4f71a41d-072b-4973-c453-b48c6028235a"
      },
      "source": [
        "user.head(3)   LBS/location_based_recommender_system.ipynb"
      ],
      "execution_count": 29,
      "outputs": [
        {
          "output_type": "execute_result",
          "data": {
            "text/html": [
              "<div>\n",
              "<style scoped>\n",
              "    .dataframe tbody tr th:only-of-type {\n",
              "        vertical-align: middle;\n",
              "    }\n",
              "\n",
              "    .dataframe tbody tr th {\n",
              "        vertical-align: top;\n",
              "    }\n",
              "\n",
              "    .dataframe thead th {\n",
              "        text-align: right;\n",
              "    }\n",
              "</style>\n",
              "<table border=\"1\" class=\"dataframe\">\n",
              "  <thead>\n",
              "    <tr style=\"text-align: right;\">\n",
              "      <th></th>\n",
              "      <th>userID</th>\n",
              "      <th>latitude</th>\n",
              "      <th>longitude</th>\n",
              "      <th>Service</th>\n",
              "    </tr>\n",
              "  </thead>\n",
              "  <tbody>\n",
              "    <tr>\n",
              "      <th>0</th>\n",
              "      <td>U1001</td>\n",
              "      <td>22.139997</td>\n",
              "      <td>-100.978803</td>\n",
              "      <td>American</td>\n",
              "    </tr>\n",
              "    <tr>\n",
              "      <th>1</th>\n",
              "      <td>U1002</td>\n",
              "      <td>22.150087</td>\n",
              "      <td>-100.983325</td>\n",
              "      <td>Mexican</td>\n",
              "    </tr>\n",
              "    <tr>\n",
              "      <th>2</th>\n",
              "      <td>U1003</td>\n",
              "      <td>22.119847</td>\n",
              "      <td>-100.946527</td>\n",
              "      <td>Mexican</td>\n",
              "    </tr>\n",
              "  </tbody>\n",
              "</table>\n",
              "</div>"
            ],
            "text/plain": [
              "  userID   latitude   longitude   Service\n",
              "0  U1001  22.139997 -100.978803  American\n",
              "1  U1002  22.150087 -100.983325   Mexican\n",
              "2  U1003  22.119847 -100.946527   Mexican"
            ]
          },
          "metadata": {
            "tags": []
          },
          "execution_count": 29
        }
      ]
    },
    {
      "cell_type": "markdown",
      "metadata": {
        "id": "DFHTJ5JbaaDP"
      },
      "source": [
        "## 간단한 추천 모델"
      ]
    },
    {
      "cell_type": "markdown",
      "metadata": {
        "id": "__2PHMusk8I0"
      },
      "source": [
        "- Haversine 공식:  \r\n",
        "  https://ttarnawski.usermd.net/2017/08/17/haversine-formula/  \r\n",
        "    \r\n",
        "    - atan2: https://en.wikipedia.org/wiki/Atan2"
      ]
    },
    {
      "cell_type": "code",
      "metadata": {
        "id": "PXWG5O3qIaRL"
      },
      "source": [
        "class recomendation_py():\n",
        "    def __init__(self):\n",
        "        self.user_ID=None\n",
        "        \n",
        "    def recomendme(self,user_ID,user,laundry):\n",
        "        print(user_ID)\n",
        "        #print(user.head(15))\n",
        "        #print(laundry.head())\n",
        "        #print(user.loc[user['userID'] == 'user_ID'])\n",
        "        #select=user.userID == user_ID\n",
        "        lat=user.loc[user.userID == user_ID,'latitude'].item()\n",
        "        long=user.loc[user.userID == user_ID,'longitude'].item()\n",
        "        serv=user.loc[user.userID == user_ID,'Service'].item()\n",
        "        print(f'\\nuser s latitude: {lat}')\n",
        "        print(f'user s longitude: {long}')\n",
        "        print(f'user s service country: {serv}\\n')\n",
        "        laundry=pd.DataFrame(laundry[laundry['Service'] == serv])\n",
        "        #print(laundry)\n",
        "        laundry =laundry.reset_index(drop=True)\n",
        "        R = 6373.0\n",
        "        list=[]\n",
        "        for lat1,long1 in zip(laundry['latitude'],laundry['longitude']):\n",
        "            dlon = long1 - long # 모든 세탁소를 조사하는 동안에, 각각의 세탁소와 입력된 해당 세탁소의 경도를 구한다\n",
        "            dlat = lat1 - lat #  # 모든 세탁소를 조사하는 동안에, 각각의 세탁소와 입력된 해당 세탁소의 위도를 구한다\n",
        "            \n",
        "            a = (sin(dlat/2)**2 + cos(lat)*cos(lat1)*(sin(dlon/2)**2))\n",
        "            c = 2*atan2(np.sqrt(a),np.sqrt(1-a))\n",
        "            distance = R*c\n",
        "            list.append(distance)\n",
        "        laundry['distance']=pd.Series(list)\n",
        "        laundry=laundry.sort_values(by=['distance'])\n",
        "\n",
        "        print(laundry)"
      ],
      "execution_count": 46,
      "outputs": []
    },
    {
      "cell_type": "code",
      "metadata": {
        "colab": {
          "base_uri": "https://localhost:8080/"
        },
        "id": "RnNbKC2FIaRM",
        "outputId": "bd52ae24-351c-4bf3-fd95-2860f5adb3b9"
      },
      "source": [
        "pm=recomendation_py()\n",
        "user_ID = users[21]\n",
        "\n",
        "pm.recomendme(user_ID,user,laundry)\n"
      ],
      "execution_count": 48,
      "outputs": [
        {
          "output_type": "stream",
          "text": [
            "U1022\n",
            "\n",
            "user s latitude: 22.146708\n",
            "user s longitude: -100.964355\n",
            "user s service country: Mexican\n",
            "\n",
            "    placeID   latitude   longitude  Service  Count  ave_rating     distance\n",
            "21   135027  22.147145 -100.974494  Mexican      8    0.425000    63.894140\n",
            "5    135106  22.149709 -100.976093  Mexican     10    1.410000    76.319124\n",
            "14   132925  22.153500 -100.976243  Mexican      5    0.880000    86.426499\n",
            "2    135025  22.149550 -100.977970  Mexican     15    1.706667    87.594419\n",
            "12   132825  22.147392 -100.983092  Mexican     32    1.009375   118.043198\n",
            "7    135028  22.146658 -100.987219  Mexican     15    1.293333   143.953640\n",
            "17   132834  22.156469 -100.985540  Mexican     25    0.724000   147.080130\n",
            "4    132754  22.147738 -100.990616  Mexican     13    1.423077   165.459093\n",
            "0    135055  22.148854 -101.008472  Mexican      7    2.314286   278.051714\n",
            "8    132723  22.148934 -101.019845  Mexican     12    1.225000   349.593117\n",
            "1    132755  22.153324 -101.019546  Mexican      5    2.020000   349.850565\n",
            "25   132845  22.126293 -100.900776  Mexican      5    0.320000   421.488632\n",
            "16   132665  23.736798  -99.134241  Mexican      5    0.740000  8749.281163\n",
            "15   132608  23.758805  -99.165130  Mexican      6    0.833333  8755.409006\n",
            "20   132706  23.729216  -99.132357  Mexican      4    0.500000  8758.334955\n",
            "19   132630  23.752931  -99.164473  Mexican      6    0.600000  8761.869146\n",
            "10   132613  23.752903  -99.165076  Mexican      6    1.066667  8762.618708\n",
            "9    132584  23.752365  -99.165288  Mexican      6    1.133333  8763.535655\n",
            "26   132594  23.752168  -99.165709  Mexican      5    0.260000  8764.277044\n",
            "27   132663  23.752511  -99.166954  Mexican      6    0.166667  8765.328281\n",
            "22   132740  23.752197  -99.166632  Mexican      8    0.412500  8765.332614\n",
            "18   135104  23.752982  -99.168434  Mexican      7    0.685714  8766.509244\n",
            "13   132668  23.738212  -99.151955  Mexican      3    1.000000  8766.555551\n",
            "23   132732  23.754357  -99.171288  Mexican      8    0.400000  8768.254614\n",
            "24   132715  23.732423  -99.158660  Mexican      4    0.400000  8781.398514\n",
            "11   132773  18.869993  -99.210319  Mexican      8    1.050000  8877.910041\n",
            "3    135018  18.859803  -99.222164  Mexican      4    1.600000  8942.024698\n",
            "6    134976  18.916654  -99.227110  Mexican     12    1.325000  9032.259009\n"
          ],
          "name": "stdout"
        }
      ]
    },
    {
      "cell_type": "code",
      "metadata": {
        "id": "3NeEiFa7IaRN"
      },
      "source": [
        ""
      ],
      "execution_count": null,
      "outputs": []
    }
  ]
}