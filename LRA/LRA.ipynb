{
  "nbformat": 4,
  "nbformat_minor": 0,
  "metadata": {
    "colab": {
      "name": "LRA.ipynb",
      "provenance": [],
      "collapsed_sections": [],
      "toc_visible": true,
      "authorship_tag": "ABX9TyOUKuE16E7bT0koT19G2LwC",
      "include_colab_link": true
    },
    "kernelspec": {
      "name": "python3",
      "display_name": "Python 3"
    }
  },
  "cells": [
    {
      "cell_type": "markdown",
      "metadata": {
        "id": "view-in-github",
        "colab_type": "text"
      },
      "source": [
        "<a href=\"https://colab.research.google.com/github/musicjae/recommender-system/blob/main/LRA/LRA.ipynb\" target=\"_parent\"><img src=\"https://colab.research.google.com/assets/colab-badge.svg\" alt=\"Open In Colab\"/></a>"
      ]
    },
    {
      "cell_type": "markdown",
      "metadata": {
        "id": "bDb7b0oX9oN7"
      },
      "source": [
        "# References  \n",
        "[1] https://github.com/lsorber/recommender-system-tutorial/blob/master/recommender-system.ipynb"
      ]
    },
    {
      "cell_type": "markdown",
      "metadata": {
        "id": "fZW-QNEW5r24"
      },
      "source": [
        "#  1M movie ratings data download\n"
      ]
    },
    {
      "cell_type": "code",
      "metadata": {
        "id": "xMuhQjR35fLt"
      },
      "source": [
        "from urllib.request import urlretrieve\n",
        "url = 'http://files.grouplens.org/datasets/movielens/'\n",
        "filename = 'ml-1m.zip'\n",
        "urlretrieve(url + filename, filename);"
      ],
      "execution_count": 2,
      "outputs": []
    },
    {
      "cell_type": "markdown",
      "metadata": {
        "id": "FY-asCBJ9_hF"
      },
      "source": [
        "## dataset info  \n",
        "  \n",
        "- 출처: [url](http://files.grouplens.org/datasets/movielens/ml-1m-README.txt)  \n",
        "\n"
      ]
    },
    {
      "cell_type": "markdown",
      "metadata": {
        "id": "ow7ScmR5-pFN"
      },
      "source": [
        "### RATINGS FILE DESCRIPTION   \n",
        " - UserID::MovieID::Rating::Timestamp\n",
        "\n",
        " - UserIDs range between 1 and 6040 \n",
        " - MovieIDs range between 1 and 3952\n",
        " - Ratings are made on a 5-star scale (whole-star ratings only)\n",
        " - Timestamp is represented in seconds since the epoch as returned by time(2)  \n",
        "   평점이 매겨진 뒤부터 얼마나 시간이 지났는지를 보여준다\n",
        " - Each user has at least 20 ratings\n"
      ]
    },
    {
      "cell_type": "markdown",
      "metadata": {
        "id": "iSa-ku3T-Xb9"
      },
      "source": [
        "### USERS FILE DESCRIPTION  \n",
        "  \n",
        " - Gender is denoted by a \"M\" for male and \"F\" for female\n",
        " - Age is chosen from the following ranges:\n",
        "\n",
        "\t*  1:  \"Under 18\"\n",
        "\t* 18:  \"18-24\"\n",
        "\t* 25:  \"25-34\"\n",
        "\t* 35:  \"35-44\"\n",
        "\t* 45:  \"45-49\"\n",
        "\t* 50:  \"50-55\"\n",
        "\t* 56:  \"56+\"  \n",
        "      \n",
        "- Occupation is chosen from the following choices:\n",
        "\n",
        "\t*  0:  \"other\" or not specified\n",
        "\t*  1:  \"academic/educator\"\n",
        "\t*  2:  \"artist\"\n",
        "\t*  3:  \"clerical/admin\"\n",
        "\t*  4:  \"college/grad student\"\n",
        "\t*  5:  \"customer service\"\n",
        "\t*  6:  \"doctor/health care\"\n",
        "\t*  7:  \"executive/managerial\"\n",
        "\t*  8:  \"farmer\"\n",
        "\t*  9:  \"homemaker\"\n",
        "\t* 10:  \"K-12 student\"\n",
        "\t* 11:  \"lawyer\"\n",
        "\t* 12:  \"programmer\"\n",
        "\t* 13:  \"retired\"\n",
        "\t* 14:  \"sales/marketing\"\n",
        "\t* 15:  \"scientist\"\n",
        "\t* 16:  \"self-employed\"\n",
        "\t* 17:  \"technician/engineer\"\n",
        "\t* 18:  \"tradesman/craftsman\"\n",
        "\t* 19:  \"unemployed\"\n",
        "\t* 20:  \"writer\"\n"
      ]
    },
    {
      "cell_type": "markdown",
      "metadata": {
        "id": "YLwnVCh7-lOl"
      },
      "source": [
        "### MOVIES FILE DESCRIPTION   \n",
        "\n",
        "MovieID::Title::Genres\n",
        "\n",
        "- Titles are identical to titles provided by the IMDB (including\n",
        "year of release)\n",
        "- Genres are pipe-separated and are selected from the following genres:\n",
        "\n",
        "\t* Action\n",
        "\t* Adventure\n",
        "\t* Animation\n",
        "\t* Children's\n",
        "\t* Comedy\n",
        "\t* Crime\n",
        "\t* Documentary\n",
        "\t* Drama\n",
        "\t* Fantasy\n",
        "\t* Film-Noir\n",
        "\t* Horror\n",
        "\t* Musical\n",
        "\t* Mystery\n",
        "\t* Romance\n",
        "\t* Sci-Fi\n",
        "\t* Thriller\n",
        "\t* War\n",
        "\t* Western\n",
        "\n",
        "- Some MovieIDs do not correspond to a movie due to accidental duplicate\n",
        "entries and/or test entries\n",
        "- Movies are mostly entered by hand, so errors and inconsistencies may exist "
      ]
    },
    {
      "cell_type": "markdown",
      "metadata": {
        "id": "pYLJlrMK5rgR"
      },
      "source": [
        " zip files containing csv-like tables. Unfortunately, the 1M data set is provided in a less standard format, and requires a bit of parsing before we can hand it off to pandas for reading."
      ]
    },
    {
      "cell_type": "markdown",
      "metadata": {
        "id": "iWHjyuum-2n8"
      },
      "source": [
        "평점 매김 파일로 데이터 전처리\n"
      ]
    },
    {
      "cell_type": "code",
      "metadata": {
        "id": "rlM700-L6tVg",
        "outputId": "996cb0fc-1ecc-4b22-a07f-691aedd5f9af",
        "colab": {
          "base_uri": "https://localhost:8080/",
          "height": 204
        }
      },
      "source": [
        "# Read the movie ratings from the zip file.\n",
        "import pandas as pd\n",
        "from zipfile import ZipFile\n",
        "from io import StringIO\n",
        "filename = 'ml-1m.zip'\n",
        "with ZipFile(filename, 'r') as ml:\n",
        "    if 'small' in filename:\n",
        "        csv = filename.replace('.zip', '') + '/ratings.csv'\n",
        "        df = pd.read_csv(ml.open(csv))\n",
        "    elif '1m' in filename:\n",
        "        csv = filename.replace('.zip', '') + '/ratings.dat'\n",
        "        with ml.open(csv) as csv:\n",
        "            data = ''.join(map(lambda line: line.decode('utf-8'), csv.readlines()))\n",
        "            df = pd.read_csv(StringIO(data), sep='::', engine='python',\n",
        "                             header=None, names=['userId', 'movieId', 'rating', 'timestamp'])\n",
        "df.head()"
      ],
      "execution_count": 3,
      "outputs": [
        {
          "output_type": "execute_result",
          "data": {
            "text/html": [
              "<div>\n",
              "<style scoped>\n",
              "    .dataframe tbody tr th:only-of-type {\n",
              "        vertical-align: middle;\n",
              "    }\n",
              "\n",
              "    .dataframe tbody tr th {\n",
              "        vertical-align: top;\n",
              "    }\n",
              "\n",
              "    .dataframe thead th {\n",
              "        text-align: right;\n",
              "    }\n",
              "</style>\n",
              "<table border=\"1\" class=\"dataframe\">\n",
              "  <thead>\n",
              "    <tr style=\"text-align: right;\">\n",
              "      <th></th>\n",
              "      <th>userId</th>\n",
              "      <th>movieId</th>\n",
              "      <th>rating</th>\n",
              "      <th>timestamp</th>\n",
              "    </tr>\n",
              "  </thead>\n",
              "  <tbody>\n",
              "    <tr>\n",
              "      <th>0</th>\n",
              "      <td>1</td>\n",
              "      <td>1193</td>\n",
              "      <td>5</td>\n",
              "      <td>978300760</td>\n",
              "    </tr>\n",
              "    <tr>\n",
              "      <th>1</th>\n",
              "      <td>1</td>\n",
              "      <td>661</td>\n",
              "      <td>3</td>\n",
              "      <td>978302109</td>\n",
              "    </tr>\n",
              "    <tr>\n",
              "      <th>2</th>\n",
              "      <td>1</td>\n",
              "      <td>914</td>\n",
              "      <td>3</td>\n",
              "      <td>978301968</td>\n",
              "    </tr>\n",
              "    <tr>\n",
              "      <th>3</th>\n",
              "      <td>1</td>\n",
              "      <td>3408</td>\n",
              "      <td>4</td>\n",
              "      <td>978300275</td>\n",
              "    </tr>\n",
              "    <tr>\n",
              "      <th>4</th>\n",
              "      <td>1</td>\n",
              "      <td>2355</td>\n",
              "      <td>5</td>\n",
              "      <td>978824291</td>\n",
              "    </tr>\n",
              "  </tbody>\n",
              "</table>\n",
              "</div>"
            ],
            "text/plain": [
              "   userId  movieId  rating  timestamp\n",
              "0       1     1193       5  978300760\n",
              "1       1      661       3  978302109\n",
              "2       1      914       3  978301968\n",
              "3       1     3408       4  978300275\n",
              "4       1     2355       5  978824291"
            ]
          },
          "metadata": {
            "tags": []
          },
          "execution_count": 3
        }
      ]
    },
    {
      "cell_type": "code",
      "metadata": {
        "id": "kBJiAau5r6Dj",
        "outputId": "95dea576-c2e2-42bf-910a-29e6ab47fba8",
        "colab": {
          "base_uri": "https://localhost:8080/"
        }
      },
      "source": [
        "df['userId']"
      ],
      "execution_count": 80,
      "outputs": [
        {
          "output_type": "execute_result",
          "data": {
            "text/plain": [
              "0             1\n",
              "1             1\n",
              "2             1\n",
              "3             1\n",
              "4             1\n",
              "           ... \n",
              "1000204    6040\n",
              "1000205    6040\n",
              "1000206    6040\n",
              "1000207    6040\n",
              "1000208    6040\n",
              "Name: userId, Length: 1000209, dtype: category\n",
              "Categories (6040, int64): [1, 2, 3, 4, ..., 6037, 6038, 6039, 6040]"
            ]
          },
          "metadata": {
            "tags": []
          },
          "execution_count": 80
        }
      ]
    },
    {
      "cell_type": "code",
      "metadata": {
        "id": "RPA1u_CysAKa",
        "outputId": "09db0d08-6ed0-4be7-c134-e2c35176a488",
        "colab": {
          "base_uri": "https://localhost:8080/"
        }
      },
      "source": [
        "print(df['movieId'])\n",
        "print(len(df['movieId']))"
      ],
      "execution_count": 83,
      "outputs": [
        {
          "output_type": "stream",
          "text": [
            "0          1193\n",
            "1           661\n",
            "2           914\n",
            "3          3408\n",
            "4          2355\n",
            "           ... \n",
            "1000204    1091\n",
            "1000205    1094\n",
            "1000206     562\n",
            "1000207    1096\n",
            "1000208    1097\n",
            "Name: movieId, Length: 1000209, dtype: category\n",
            "Categories (3706, int64): [1, 2, 3, 4, ..., 3949, 3950, 3951, 3952]\n",
            "1000209\n"
          ],
          "name": "stdout"
        }
      ]
    },
    {
      "cell_type": "code",
      "metadata": {
        "id": "zDWmkXHJ6yER",
        "outputId": "ba40f7fd-6410-4d60-e0e6-18ab47fbc1ad",
        "colab": {
          "base_uri": "https://localhost:8080/"
        }
      },
      "source": [
        "df.count() # 백만 개 있다."
      ],
      "execution_count": 5,
      "outputs": [
        {
          "output_type": "execute_result",
          "data": {
            "text/plain": [
              "userId       1000209\n",
              "movieId      1000209\n",
              "rating       1000209\n",
              "timestamp    1000209\n",
              "dtype: int64"
            ]
          },
          "metadata": {
            "tags": []
          },
          "execution_count": 5
        }
      ]
    },
    {
      "cell_type": "markdown",
      "metadata": {
        "id": "TwgoUnsH7mAO"
      },
      "source": [
        "#2. Preprocess the data set"
      ]
    },
    {
      "cell_type": "markdown",
      "metadata": {
        "id": "DcVGt2Fn7nt9"
      },
      "source": [
        "As a preprocessing step, we'll translate the user and movie ids to zero-based consecutive user and movie indices.  \n",
        "  \n",
        "- Todo: userId --> indices, movieId --> movie indices  \n",
        "- step (1):  convert these columns to a categorical data type  \n",
        "- step (2):  use the category indices as user and movie indices."
      ]
    },
    {
      "cell_type": "code",
      "metadata": {
        "id": "OGg21pNs8tbN",
        "outputId": "19edd422-4eca-4928-887f-f8aff96f0f76",
        "colab": {
          "base_uri": "https://localhost:8080/"
        }
      },
      "source": [
        "df.dtypes"
      ],
      "execution_count": 19,
      "outputs": [
        {
          "output_type": "execute_result",
          "data": {
            "text/plain": [
              "userId       category\n",
              "movieId      category\n",
              "rating          int64\n",
              "timestamp       int64\n",
              "dtype: object"
            ]
          },
          "metadata": {
            "tags": []
          },
          "execution_count": 19
        }
      ]
    },
    {
      "cell_type": "code",
      "metadata": {
        "id": "KvRf81m97w5o",
        "outputId": "7768d5ce-cf3c-4dea-a632-46651acbe493",
        "colab": {
          "base_uri": "https://localhost:8080/"
        }
      },
      "source": [
        "df.userId = df.userId.astype('category')\n",
        "df.movieId = df.movieId.astype('category')\n",
        "df.dtypes"
      ],
      "execution_count": 18,
      "outputs": [
        {
          "output_type": "execute_result",
          "data": {
            "text/plain": [
              "userId       category\n",
              "movieId      category\n",
              "rating          int64\n",
              "timestamp       int64\n",
              "dtype: object"
            ]
          },
          "metadata": {
            "tags": []
          },
          "execution_count": 18
        }
      ]
    },
    {
      "cell_type": "code",
      "metadata": {
        "id": "m-ss-nA9KlJi",
        "outputId": "9cea0b2e-4a9d-40e9-f424-cb9d49888f9b",
        "colab": {
          "base_uri": "https://localhost:8080/"
        }
      },
      "source": [
        "df.movieId.describe()"
      ],
      "execution_count": 35,
      "outputs": [
        {
          "output_type": "execute_result",
          "data": {
            "text/plain": [
              "count     1000209\n",
              "unique       3706\n",
              "top          2858\n",
              "freq         3428\n",
              "Name: movieId, dtype: int64"
            ]
          },
          "metadata": {
            "tags": []
          },
          "execution_count": 35
        }
      ]
    },
    {
      "cell_type": "markdown",
      "metadata": {
        "id": "KJOvcOIL82ow"
      },
      "source": [
        "The `userId` and `movieId` columns may contain non-consecutive numbers.\n",
        "Here, we add the category codes to the DataFrame as a zero-based consecutive version of these ids.  \n",
        "  \n",
        "- Id 들에 비연속적 수 --> 0 기반의 연속 수 버젼으로 코드 추가"
      ]
    },
    {
      "cell_type": "code",
      "metadata": {
        "id": "Fs46rHsj9Ejm",
        "outputId": "e90c3638-2b66-4e7e-b217-78698deed514",
        "colab": {
          "base_uri": "https://localhost:8080/",
          "height": 204
        }
      },
      "source": [
        "df['userIndex'] = df.userId.cat.codes\n",
        "df['movieIndex'] = df.movieId.cat.codes\n",
        "df.head()"
      ],
      "execution_count": 20,
      "outputs": [
        {
          "output_type": "execute_result",
          "data": {
            "text/html": [
              "<div>\n",
              "<style scoped>\n",
              "    .dataframe tbody tr th:only-of-type {\n",
              "        vertical-align: middle;\n",
              "    }\n",
              "\n",
              "    .dataframe tbody tr th {\n",
              "        vertical-align: top;\n",
              "    }\n",
              "\n",
              "    .dataframe thead th {\n",
              "        text-align: right;\n",
              "    }\n",
              "</style>\n",
              "<table border=\"1\" class=\"dataframe\">\n",
              "  <thead>\n",
              "    <tr style=\"text-align: right;\">\n",
              "      <th></th>\n",
              "      <th>userId</th>\n",
              "      <th>movieId</th>\n",
              "      <th>rating</th>\n",
              "      <th>timestamp</th>\n",
              "      <th>userIndex</th>\n",
              "      <th>movieIndex</th>\n",
              "    </tr>\n",
              "  </thead>\n",
              "  <tbody>\n",
              "    <tr>\n",
              "      <th>0</th>\n",
              "      <td>1</td>\n",
              "      <td>1193</td>\n",
              "      <td>5</td>\n",
              "      <td>978300760</td>\n",
              "      <td>0</td>\n",
              "      <td>1104</td>\n",
              "    </tr>\n",
              "    <tr>\n",
              "      <th>1</th>\n",
              "      <td>1</td>\n",
              "      <td>661</td>\n",
              "      <td>3</td>\n",
              "      <td>978302109</td>\n",
              "      <td>0</td>\n",
              "      <td>639</td>\n",
              "    </tr>\n",
              "    <tr>\n",
              "      <th>2</th>\n",
              "      <td>1</td>\n",
              "      <td>914</td>\n",
              "      <td>3</td>\n",
              "      <td>978301968</td>\n",
              "      <td>0</td>\n",
              "      <td>853</td>\n",
              "    </tr>\n",
              "    <tr>\n",
              "      <th>3</th>\n",
              "      <td>1</td>\n",
              "      <td>3408</td>\n",
              "      <td>4</td>\n",
              "      <td>978300275</td>\n",
              "      <td>0</td>\n",
              "      <td>3177</td>\n",
              "    </tr>\n",
              "    <tr>\n",
              "      <th>4</th>\n",
              "      <td>1</td>\n",
              "      <td>2355</td>\n",
              "      <td>5</td>\n",
              "      <td>978824291</td>\n",
              "      <td>0</td>\n",
              "      <td>2162</td>\n",
              "    </tr>\n",
              "  </tbody>\n",
              "</table>\n",
              "</div>"
            ],
            "text/plain": [
              "  userId movieId  rating  timestamp  userIndex  movieIndex\n",
              "0      1    1193       5  978300760          0        1104\n",
              "1      1     661       3  978302109          0         639\n",
              "2      1     914       3  978301968          0         853\n",
              "3      1    3408       4  978300275          0        3177\n",
              "4      1    2355       5  978824291          0        2162"
            ]
          },
          "metadata": {
            "tags": []
          },
          "execution_count": 20
        }
      ]
    },
    {
      "cell_type": "code",
      "metadata": {
        "id": "uAj-MomvJPhG",
        "outputId": "e37bfc4a-e461-4f62-d3df-f6b9ad7b20c9",
        "colab": {
          "base_uri": "https://localhost:8080/",
          "height": 419
        }
      },
      "source": [
        "df.select_dtypes(include=['int64'])"
      ],
      "execution_count": 34,
      "outputs": [
        {
          "output_type": "execute_result",
          "data": {
            "text/html": [
              "<div>\n",
              "<style scoped>\n",
              "    .dataframe tbody tr th:only-of-type {\n",
              "        vertical-align: middle;\n",
              "    }\n",
              "\n",
              "    .dataframe tbody tr th {\n",
              "        vertical-align: top;\n",
              "    }\n",
              "\n",
              "    .dataframe thead th {\n",
              "        text-align: right;\n",
              "    }\n",
              "</style>\n",
              "<table border=\"1\" class=\"dataframe\">\n",
              "  <thead>\n",
              "    <tr style=\"text-align: right;\">\n",
              "      <th></th>\n",
              "      <th>rating</th>\n",
              "      <th>timestamp</th>\n",
              "    </tr>\n",
              "  </thead>\n",
              "  <tbody>\n",
              "    <tr>\n",
              "      <th>0</th>\n",
              "      <td>5</td>\n",
              "      <td>978300760</td>\n",
              "    </tr>\n",
              "    <tr>\n",
              "      <th>1</th>\n",
              "      <td>3</td>\n",
              "      <td>978302109</td>\n",
              "    </tr>\n",
              "    <tr>\n",
              "      <th>2</th>\n",
              "      <td>3</td>\n",
              "      <td>978301968</td>\n",
              "    </tr>\n",
              "    <tr>\n",
              "      <th>3</th>\n",
              "      <td>4</td>\n",
              "      <td>978300275</td>\n",
              "    </tr>\n",
              "    <tr>\n",
              "      <th>4</th>\n",
              "      <td>5</td>\n",
              "      <td>978824291</td>\n",
              "    </tr>\n",
              "    <tr>\n",
              "      <th>...</th>\n",
              "      <td>...</td>\n",
              "      <td>...</td>\n",
              "    </tr>\n",
              "    <tr>\n",
              "      <th>1000204</th>\n",
              "      <td>1</td>\n",
              "      <td>956716541</td>\n",
              "    </tr>\n",
              "    <tr>\n",
              "      <th>1000205</th>\n",
              "      <td>5</td>\n",
              "      <td>956704887</td>\n",
              "    </tr>\n",
              "    <tr>\n",
              "      <th>1000206</th>\n",
              "      <td>5</td>\n",
              "      <td>956704746</td>\n",
              "    </tr>\n",
              "    <tr>\n",
              "      <th>1000207</th>\n",
              "      <td>4</td>\n",
              "      <td>956715648</td>\n",
              "    </tr>\n",
              "    <tr>\n",
              "      <th>1000208</th>\n",
              "      <td>4</td>\n",
              "      <td>956715569</td>\n",
              "    </tr>\n",
              "  </tbody>\n",
              "</table>\n",
              "<p>1000209 rows × 2 columns</p>\n",
              "</div>"
            ],
            "text/plain": [
              "         rating  timestamp\n",
              "0             5  978300760\n",
              "1             3  978302109\n",
              "2             3  978301968\n",
              "3             4  978300275\n",
              "4             5  978824291\n",
              "...         ...        ...\n",
              "1000204       1  956716541\n",
              "1000205       5  956704887\n",
              "1000206       5  956704746\n",
              "1000207       4  956715648\n",
              "1000208       4  956715569\n",
              "\n",
              "[1000209 rows x 2 columns]"
            ]
          },
          "metadata": {
            "tags": []
          },
          "execution_count": 34
        }
      ]
    },
    {
      "cell_type": "markdown",
      "metadata": {
        "id": "-C195yZX-_Od"
      },
      "source": [
        "# 3. Split the data set into train, validation and test"
      ]
    },
    {
      "cell_type": "markdown",
      "metadata": {
        "id": "TJak9iqM_A3Q"
      },
      "source": [
        "we should split it into:  \n",
        "  \n",
        "- a training set for optimizing our model's parameters,\n",
        "  \n",
        "- a validation set for optimizing our model's hyperparameters (such as the number of iterations and amount of regularization), and\n",
        "  \n",
        "- a test set for estimating the generalization performance of the resulting model."
      ]
    },
    {
      "cell_type": "code",
      "metadata": {
        "id": "lrtC8v6x_F7D",
        "outputId": "0564c919-9905-4ffd-8a58-5ebcfc9413b5",
        "colab": {
          "base_uri": "https://localhost:8080/"
        }
      },
      "source": [
        "# a feature matrix (prefixed by an uppercase X) and a vector of labels (prefixed by a lowercase y)\n",
        "\n",
        "try:\n",
        "    from sklearn.model_selection import train_test_split  # sklearn 0.18+\n",
        "except:\n",
        "    from sklearn.cross_validation import train_test_split\n",
        "\n",
        "###################################################################################################################################################\n",
        "######################################################## train set split  #########################################################################\n",
        "###################################################################################################################################################\n",
        "\n",
        "X_train, X_test, y_train, y_test = train_test_split(df[['userIndex', 'movieIndex']].values, df['rating'].values, test_size = 0.2, random_state=42)\n",
        "\n",
        "###################################################################################################################################################\n",
        "######################################################## val set split  #########################################################################\n",
        "###################################################################################################################################################\n",
        "\n",
        "X_validation, X_test, y_validation, y_test = train_test_split(\n",
        "    X_test,\n",
        "    y_test,\n",
        "    test_size=0.5,\n",
        "    random_state=42)\n",
        "\n",
        "###################################################################################################################################################\n",
        "######################################################## 유저 수, 영화 수  #########################################################################\n",
        "###################################################################################################################################################\n",
        "\n",
        "n_users, n_movies = df.userIndex.max() + 1, df.movieIndex.max() + 1\n",
        "\n",
        "print('데이터셋 안에 {n_users} 명의 사용자와  {n_movies} 개의 영화가 있다.'.format(n_users=n_users, n_movies=n_movies))\n",
        "print('\\n트레이닝, 검증, 테스트 인덱스의 사이즈는 각각 {train_shape}, {validation_shape} and {test_shape}'.format(\n",
        "    train_shape=X_train.shape, validation_shape=X_validation.shape, test_shape=X_test.shape))\n",
        "print('\\n평점label (ratings)의 범위는 {y_min} 부터 {y_max}까지 있다.'.format(y_min=y_train.min(), y_max=y_train.max()))"
      ],
      "execution_count": 25,
      "outputs": [
        {
          "output_type": "stream",
          "text": [
            "데이터셋 안에 6040 명의 사용자와  3706 개의 영화가 있다.\n",
            "\n",
            "트레이닝, 검증, 테스트 인덱스의 사이즈는 각각 (800167, 2), (100021, 2) and (100021, 2)\n",
            "\n",
            "평점label (ratings)의 범위는 1 부터 5까지 있다.\n"
          ],
          "name": "stdout"
        }
      ]
    },
    {
      "cell_type": "markdown",
      "metadata": {
        "id": "VryR_q4Cedgr"
      },
      "source": [
        "# 4 Implementations  \n",
        "  \n",
        "- the RMSE function,\n",
        "  \n",
        "- the L2 function,\n",
        "  \n",
        "- the sigmoid function,\n",
        "  \n",
        "- the prediction function $\\hat{R}'$\n",
        "  \n",
        "- the loss function."
      ]
    },
    {
      "cell_type": "code",
      "metadata": {
        "id": "JZzCR2eVedMU"
      },
      "source": [
        "# We'll be using a thin wrapper around numpy called autograd.\n",
        "# Later on, autograd will provide us with a gradient of the loss function automatically.\n",
        "import autograd.numpy as np\n",
        "from autograd import grad\n",
        "import matplotlib.pyplot as plt\n",
        "%matplotlib inline"
      ],
      "execution_count": 45,
      "outputs": []
    },
    {
      "cell_type": "markdown",
      "metadata": {
        "id": "SS0isTHdeoMA"
      },
      "source": [
        "## 4.1 RMSE"
      ]
    },
    {
      "cell_type": "code",
      "metadata": {
        "id": "LaoLR5XhitTr",
        "outputId": "86e1c54d-8af7-413c-e042-dddd6c45bd32",
        "colab": {
          "base_uri": "https://localhost:8080/"
        }
      },
      "source": [
        "test1 = np.arange(6).reshape(2,3)\n",
        "test2 = np.arange(6).reshape(2,3)\n",
        "\n",
        "print(test1-test2) # 단순하게 표현해도 행렬 간 연산 가능"
      ],
      "execution_count": 47,
      "outputs": [
        {
          "output_type": "stream",
          "text": [
            "[[0 0 0]\n",
            " [0 0 0]]\n"
          ],
          "name": "stdout"
        }
      ]
    },
    {
      "cell_type": "code",
      "metadata": {
        "id": "nXDARxiGeyvM"
      },
      "source": [
        "def rmse(predicted_ratings, true_ratings):\n",
        "    \n",
        "    error = predicted_ratings - true_ratings # 사실 제곱을 취할 것이기 때문에 순서는 상관 없다,\n",
        "    rmse = np.sqrt((error**2).mean())\n",
        "\n",
        "    return rmse\n",
        "\n",
        "# Test if our implementation works.\n",
        "assert rmse(np.array([1, 5]), np.array([1, 5])) == 0.  # Perfect predictions.\n",
        "assert rmse(np.array([2, 5]), np.array([4, 3])) == 2.  # Two stars incorrect."
      ],
      "execution_count": 50,
      "outputs": []
    },
    {
      "cell_type": "markdown",
      "metadata": {
        "id": "2sxcEmB2jSO2"
      },
      "source": [
        "## 4.2 L2"
      ]
    },
    {
      "cell_type": "code",
      "metadata": {
        "id": "SiG_oPg0jR98"
      },
      "source": [
        "def L2(userfeatures, moviefeatures):\n",
        "   \n",
        "    L2 = np.sum(userfeatures**2)+np.sum(moviefeatures**2)\n",
        "\n",
        "    return L2\n",
        "\n",
        "\n",
        "# Test if our implementation works.\n",
        "userfeatures = np.array([[1.0, 0.5], [0.0, -2.0]])\n",
        "moviefeatures = np.array([[1.0, 2.0], [0.5, 1.0]])\n",
        "\n",
        "assert L2(userfeatures, moviefeatures) == 11.5"
      ],
      "execution_count": 60,
      "outputs": []
    },
    {
      "cell_type": "markdown",
      "metadata": {
        "id": "F5n2BGWFlNxg"
      },
      "source": [
        "## 4.3 sigmoid"
      ]
    },
    {
      "cell_type": "code",
      "metadata": {
        "id": "vXLUNxw8lQd0",
        "outputId": "4aaf1593-c15b-4beb-beec-26972ce6e40f",
        "colab": {
          "base_uri": "https://localhost:8080/",
          "height": 283
        }
      },
      "source": [
        "def sigmoid(x):\n",
        "\n",
        "    sigmoid = 1/(1+np.exp(-x))\n",
        "\n",
        "    return sigmoid\n",
        "\n",
        "x = np.linspace(-10., 10., 100)\n",
        "y = 5. * sigmoid(x)\n",
        "plt.plot(x, y)\n",
        "plt.xlabel('x'); plt.ylabel('5 * sigmoid(x)')\n",
        "plt.ylim(-1, 6); plt.grid()"
      ],
      "execution_count": 64,
      "outputs": [
        {
          "output_type": "display_data",
          "data": {
            "image/png": "[encoded data removed]",
            "text/plain": [
              "<Figure size 432x288 with 1 Axes>"
            ]
          },
          "metadata": {
            "tags": [],
            "needs_background": "light"
          }
        }
      ]
    },
    {
      "cell_type": "markdown",
      "metadata": {
        "id": "2OwjtZrllcIb"
      },
      "source": [
        "## 4.4 predicted function $\\hat{R}$"
      ]
    },
    {
      "cell_type": "code",
      "metadata": {
        "id": "__TdO9Qhligj",
        "outputId": "8b9cae91-e0a3-41ac-da4d-8e0e87875939",
        "colab": {
          "base_uri": "https://localhost:8080/"
        }
      },
      "source": [
        "def predict_ratings(userfeatures, moviefeatures, userindices, movieindices):\n",
        "\n",
        "    \"\"\"\n",
        "    Args:\n",
        "            userfeatures (np.ndarray): An n_users x k array, where k is the number of features per user.\n",
        "            moviefeatures (np.ndarray): An n_movies x k array, where k is the number of features per movie.\n",
        "            userindices (np.array): An array of user indices to predict ratings for.\n",
        "            movieindices (np.array): An array of movie indices to predict ratings for.\n",
        "\n",
        "    \"\"\"\n",
        "\n",
        "    # 5 * sigmoid(\\sum_i userfeatures[userindex, i] * moviefeatures[movieindex, i])\n",
        "\n",
        "    predicted_ratings = 5*sigmoid(np.sum(userfeatures[userindices,:]*moviefeatures[movieindices,:],axis=1)) # axis=1\n",
        "\n",
        "    # 포인트: sum(dot product btn a and b)\n",
        "\n",
        "    return predicted_ratings\n",
        "\n",
        "userfeatures = np.array([[1.0, 0.5], [0.0, -2.0]])\n",
        "moviefeatures = np.array([[1.0, 2.0], [0.5, 1.0]])\n",
        "userindices = np.array([0, 0, 1, 1])\n",
        "movieindices = np.array([0, 0, 1, 1])\n",
        "assert np.all(predict_ratings(userfeatures, moviefeatures, userindices, movieindices) >= 0.) \n",
        "assert np.all(predict_ratings(userfeatures, moviefeatures, userindices, movieindices) <= 5.)\n",
        "print(predict_ratings(userfeatures, moviefeatures, userindices, movieindices))\n",
        "assert np.all(np.isclose(predict_ratings(userfeatures, moviefeatures, userindices, movieindices), np.array([4.404, 4.404, 0.596, 0.596]), rtol=1e-3))  "
      ],
      "execution_count": 75,
      "outputs": [
        {
          "output_type": "stream",
          "text": [
            "[4.40398539 4.40398539 0.59601461 0.59601461]\n"
          ],
          "name": "stdout"
        }
      ]
    },
    {
      "cell_type": "markdown",
      "metadata": {
        "id": "SNwrVCyIoBcJ"
      },
      "source": [
        "## 4.5 Loss"
      ]
    },
    {
      "cell_type": "code",
      "metadata": {
        "id": "OdvJtmJvmfHw"
      },
      "source": [
        "def loss(weights, userindices=None, movieindices=None, true_ratings=None, regL2=0.):\n",
        "    \"\"\"Given the user and movie features, predict the ratings and compare with the true ratings.\n",
        "    \n",
        "    Args:\n",
        "        weights (tuple): The user features and movie features as a tuple of the form (np.ndarray, np.ndarray).\n",
        "        userindices (np.array): An array of user indices to predict ratings for.\n",
        "        movieindices (np.array): An array of movie indices to predict ratings for.\n",
        "        true_ratings (np.array): A numpy array containing the true ratings.\n",
        "        regL2 (float): The coefficient for the L2 regularization term of the loss function.\n",
        "    \n",
        "    Returns:\n",
        "        np.array: The RMSE between the predicted ratings generated with `predict_ratings`,\n",
        "            and the given `true_ratings`, summed with regL2 times the L2 norm of the weights:\n",
        "            \n",
        "                rmse(predicted_ratings, true_ratings) + regL2 * L2(userfeatures, moviefeatures)\n",
        "    \"\"\"\n",
        "    # Unpack the weights tuple into the user and movie features to pass to `predict_ratings`.\n",
        "    userfeatures, moviefeatures = weights\n",
        "\n",
        "    \"\"\"\n",
        "    (1) 예측값 R_hat\n",
        "    (2) rmse\n",
        "    (3) L2\n",
        "\n",
        "    \"\"\"\n",
        "    # Predict the ratings.\n",
        "    # TODO: predicted_ratings =\n",
        "    predicted_ratings = predict_ratings(userfeatures,moviefeatures,userindices,movieindices)\n",
        "\n",
        "    # Compute the loss as the RMSE between the predicted and the true ratings,\n",
        "    rmse_value = rmse(predicted_ratings, true_ratings)\n",
        "\n",
        "    # summed with regL2 times the L2 norm of the user- and moviefeatures.\n",
        "    L2_value = L2(userfeatures,movieindices)\n",
        "    \n",
        "    # TODO: loss = \n",
        "    loss= rmse_value +regL2*L2_value\n",
        "\n",
        "    return loss\n",
        "\n",
        "# Test if our implementation works.\n",
        "userfeatures = np.array([[1.0, 0.5], [0.0, -2.0]])\n",
        "moviefeatures = np.array([[1.0, 2.0], [0.5, 1.0]])\n",
        "userindices = np.array([0, 0, 1, 1])\n",
        "movieindices = np.array([0, 0, 1, 1])\n",
        "true_ratings = np.array([2., 2., -2., 0.])\n",
        "assert np.isclose(loss((userfeatures, moviefeatures), userindices, movieindices, true_ratings), 2.159, rtol=1e-03)"
      ],
      "execution_count": 79,
      "outputs": []
    }
  ]
}