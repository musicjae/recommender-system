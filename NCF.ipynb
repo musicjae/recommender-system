{
  "nbformat": 4,
  "nbformat_minor": 0,
  "metadata": {
    "colab": {
      "name": "NCF.ipynb",
      "provenance": [],
      "collapsed_sections": [],
      "toc_visible": true,
      "authorship_tag": "ABX9TyMkxRfFNIjB8iNUuC/6hWFx",
      "include_colab_link": true
    },
    "kernelspec": {
      "name": "python3",
      "display_name": "Python 3"
    },
    "accelerator": "GPU"
  },
  "cells": [
    {
      "cell_type": "markdown",
      "metadata": {
        "id": "view-in-github",
        "colab_type": "text"
      },
      "source": [
        "<a href=\"https://colab.research.google.com/github/musicjae/recommender-system/blob/main/NCF.ipynb\" target=\"_parent\"><img src=\"https://colab.research.google.com/assets/colab-badge.svg\" alt=\"Open In Colab\"/></a>"
      ]
    },
    {
      "cell_type": "markdown",
      "metadata": {
        "id": "aBEMfj9guKMe"
      },
      "source": [
        "# References  \n",
        "[1] https://keras.io/examples/structured_data/collaborative_filtering_movielens/  \n",
        "[2] [He, Xiangnan, et al. \"Neural collaborative filtering.\" Proceedings of the 26th international conference on world wide web. 2017.](https://arxiv.org/abs/1708.05031)  \n",
        "[3] https://medium.com/@jdwittenauer/deep-learning-with-keras-recommender-systems-e7b99cb29929  \n",
        "[4] https://www.kaggle.com/dalwindr/movielens-recommendation-engine-dalwins001"
      ]
    },
    {
      "cell_type": "code",
      "metadata": {
        "id": "1SjlDMhEivDD",
        "outputId": "472582c5-9207-4f89-cb38-c089b4ce9e6c",
        "colab": {
          "base_uri": "https://localhost:8080/"
        }
      },
      "source": [
        "from google.colab import drive\n",
        "drive.mount('/content/drive')"
      ],
      "execution_count": 1,
      "outputs": [
        {
          "output_type": "stream",
          "text": [
            "Mounted at /content/drive\n"
          ],
          "name": "stdout"
        }
      ]
    },
    {
      "cell_type": "markdown",
      "metadata": {
        "id": "OlWDXqhnjGSF"
      },
      "source": [
        "# 0 Import"
      ]
    },
    {
      "cell_type": "code",
      "metadata": {
        "id": "3tz0TGFFi0FR"
      },
      "source": [
        "import pandas as pd\n",
        "import numpy as np\n",
        "from zipfile import ZipFile\n",
        "import tensorflow as tf\n",
        "from tensorflow import keras\n",
        "from tensorflow.keras import layers\n",
        "from pathlib import Path\n",
        "import matplotlib.pyplot as plt\n",
        "from time import time"
      ],
      "execution_count": 87,
      "outputs": []
    },
    {
      "cell_type": "markdown",
      "metadata": {
        "id": "VA-tiDSpjPge"
      },
      "source": [
        "# 1 Data Load"
      ]
    },
    {
      "cell_type": "markdown",
      "metadata": {
        "id": "W8xodJsEqJP_"
      },
      "source": [
        "- [데이터셋](http://files.grouplens.org/datasets/movielens/)"
      ]
    },
    {
      "cell_type": "code",
      "metadata": {
        "id": "UdHw19sxnlLi",
        "outputId": "abd267a8-ca44-43d0-b261-88cc447a2f20",
        "colab": {
          "base_uri": "https://localhost:8080/"
        }
      },
      "source": [
        "movielens_data_file_url = (\n",
        "    \"http://files.grouplens.org/datasets/movielens/ml-latest-small.zip\"\n",
        ")\n",
        "movielens_zipped_file = keras.utils.get_file(\n",
        "    \"ml-latest-small.zip\", movielens_data_file_url, extract=False\n",
        ")"
      ],
      "execution_count": 3,
      "outputs": [
        {
          "output_type": "stream",
          "text": [
            "Downloading data from http://files.grouplens.org/datasets/movielens/ml-latest-small.zip\n",
            "983040/978202 [==============================] - 0s 0us/step\n"
          ],
          "name": "stdout"
        }
      ]
    },
    {
      "cell_type": "code",
      "metadata": {
        "id": "7wT4mui4nsnp",
        "outputId": "bd57f672-b1d3-4336-e2ec-fb952e07e4ba",
        "colab": {
          "base_uri": "https://localhost:8080/"
        }
      },
      "source": [
        "keras_datasets_path = Path(movielens_zipped_file).parents[0]\n",
        "movielens_dir = keras_datasets_path / \"ml-latest-small\"\n",
        "\n",
        "# Only extract the data the first time the script is run.\n",
        "if not movielens_dir.exists():\n",
        "    with ZipFile(movielens_zipped_file, \"r\") as zip:\n",
        "        # Extract files\n",
        "        print(\"Extracting all the files now...\")\n",
        "        zip.extractall(path=keras_datasets_path)\n",
        "        print(\"Done!\")\n",
        "\n",
        "ratings_file = movielens_dir / \"ratings.csv\"\n",
        "df = pd.read_csv(ratings_file)"
      ],
      "execution_count": 4,
      "outputs": [
        {
          "output_type": "stream",
          "text": [
            "Extracting all the files now...\n",
            "Done!\n"
          ],
          "name": "stdout"
        }
      ]
    },
    {
      "cell_type": "code",
      "metadata": {
        "id": "L3v0Xx8cn1Vi",
        "outputId": "17865434-c04f-43bd-fcd1-ea2ba95a6229",
        "colab": {
          "base_uri": "https://localhost:8080/",
          "height": 142
        }
      },
      "source": [
        "df.head(3)"
      ],
      "execution_count": 5,
      "outputs": [
        {
          "output_type": "execute_result",
          "data": {
            "text/html": [
              "<div>\n",
              "<style scoped>\n",
              "    .dataframe tbody tr th:only-of-type {\n",
              "        vertical-align: middle;\n",
              "    }\n",
              "\n",
              "    .dataframe tbody tr th {\n",
              "        vertical-align: top;\n",
              "    }\n",
              "\n",
              "    .dataframe thead th {\n",
              "        text-align: right;\n",
              "    }\n",
              "</style>\n",
              "<table border=\"1\" class=\"dataframe\">\n",
              "  <thead>\n",
              "    <tr style=\"text-align: right;\">\n",
              "      <th></th>\n",
              "      <th>userId</th>\n",
              "      <th>movieId</th>\n",
              "      <th>rating</th>\n",
              "      <th>timestamp</th>\n",
              "    </tr>\n",
              "  </thead>\n",
              "  <tbody>\n",
              "    <tr>\n",
              "      <th>0</th>\n",
              "      <td>1</td>\n",
              "      <td>1</td>\n",
              "      <td>4.0</td>\n",
              "      <td>964982703</td>\n",
              "    </tr>\n",
              "    <tr>\n",
              "      <th>1</th>\n",
              "      <td>1</td>\n",
              "      <td>3</td>\n",
              "      <td>4.0</td>\n",
              "      <td>964981247</td>\n",
              "    </tr>\n",
              "    <tr>\n",
              "      <th>2</th>\n",
              "      <td>1</td>\n",
              "      <td>6</td>\n",
              "      <td>4.0</td>\n",
              "      <td>964982224</td>\n",
              "    </tr>\n",
              "  </tbody>\n",
              "</table>\n",
              "</div>"
            ],
            "text/plain": [
              "   userId  movieId  rating  timestamp\n",
              "0       1        1     4.0  964982703\n",
              "1       1        3     4.0  964981247\n",
              "2       1        6     4.0  964982224"
            ]
          },
          "metadata": {
            "tags": []
          },
          "execution_count": 5
        }
      ]
    },
    {
      "cell_type": "markdown",
      "metadata": {
        "id": "VR4Itv37n5-O"
      },
      "source": [
        "# 2 Preprocessing  \n",
        "  \n",
        "- User indices  \n",
        "- Item Indices"
      ]
    },
    {
      "cell_type": "markdown",
      "metadata": {
        "id": "LyS_1TkkxKBm"
      },
      "source": [
        "## 2.1 user2i, movie2i"
      ]
    },
    {
      "cell_type": "markdown",
      "metadata": {
        "id": "vgs0pW71r69l"
      },
      "source": [
        "user_id = df[\"userId\"].unique() 모든 Id의 값만을 다 출력"
      ]
    },
    {
      "cell_type": "code",
      "metadata": {
        "id": "YyRfW4ZeoARH",
        "outputId": "b468d6b9-2c41-4895-ad23-00c90b571204",
        "colab": {
          "base_uri": "https://localhost:8080/"
        }
      },
      "source": [
        "# user_id = df[\"userId\"].unique() 모든 Id의 값만을 다 출력\n",
        "user_id = df[\"userId\"].unique().tolist()\n",
        "print(len(user_id)) "
      ],
      "execution_count": 188,
      "outputs": [
        {
          "output_type": "stream",
          "text": [
            "610\n"
          ],
          "name": "stdout"
        }
      ]
    },
    {
      "cell_type": "code",
      "metadata": {
        "id": "EvhDwjyBpFZD"
      },
      "source": [
        "user2i = {x:i for i,x in enumerate(user_id)}# 각 유저 id를 인코딩\n",
        "i2user = {i:x for i,x in enumerate(user_id)} #위에서 인코딩한 dict을 가지고, 각 인코딩되어 생성된 indices를 각 유저id를 key로 대응하게 해"
      ],
      "execution_count": 189,
      "outputs": []
    },
    {
      "cell_type": "code",
      "metadata": {
        "id": "s16-4pNzpv6P",
        "outputId": "05aaac35-1fec-4391-e6b9-b5643d00f80d",
        "colab": {
          "base_uri": "https://localhost:8080/"
        }
      },
      "source": [
        "movie_id = df[\"movieId\"].unique().tolist()\n",
        "print(len(movie_id))"
      ],
      "execution_count": 186,
      "outputs": [
        {
          "output_type": "stream",
          "text": [
            "9724\n"
          ],
          "name": "stdout"
        }
      ]
    },
    {
      "cell_type": "code",
      "metadata": {
        "id": "qJMbB78mqBwH"
      },
      "source": [
        "movie2i = {x:i for i,x in enumerate(movie_id)} # 각 영화 id를 인코딩\n",
        "i2movie = {i:x for i,x in enumerate(movie_id)} # 각 영화 인덱스를 key로서의 id와 대응"
      ],
      "execution_count": 185,
      "outputs": []
    },
    {
      "cell_type": "markdown",
      "metadata": {
        "id": "OmyIJIKNr_Po"
      },
      "source": [
        "df 내의 모든 유저id에 인덱스 부여"
      ]
    },
    {
      "cell_type": "code",
      "metadata": {
        "id": "5nWwrgvrq7GY",
        "outputId": "aab5c85e-d521-4f51-9cd2-2d6a99f60be0",
        "colab": {
          "base_uri": "https://localhost:8080/"
        }
      },
      "source": [
        "df['user'] = df['userId'].map(user2i) # df 내의 모든 유저id에 인덱스 부여\n",
        "print(df['user'].head(2))"
      ],
      "execution_count": 10,
      "outputs": [
        {
          "output_type": "stream",
          "text": [
            "0    0\n",
            "1    0\n",
            "Name: user, dtype: int64\n"
          ],
          "name": "stdout"
        }
      ]
    },
    {
      "cell_type": "markdown",
      "metadata": {
        "id": "ZfrzqoVnsAS2"
      },
      "source": [
        "df 내의 모든 영화id에 인덱스 부여"
      ]
    },
    {
      "cell_type": "code",
      "metadata": {
        "id": "VZjLmw7pri36",
        "outputId": "2262b9b0-5815-4082-9568-430703c9a211",
        "colab": {
          "base_uri": "https://localhost:8080/"
        }
      },
      "source": [
        "df['movie']=df['movieId'].map(movie2i) # df 내의 모든 영화id에 인덱스 부여\n",
        "print(df['movie'].head(2))"
      ],
      "execution_count": 11,
      "outputs": [
        {
          "output_type": "stream",
          "text": [
            "0    0\n",
            "1    1\n",
            "Name: movie, dtype: int64\n"
          ],
          "name": "stdout"
        }
      ]
    },
    {
      "cell_type": "markdown",
      "metadata": {
        "id": "057AyVj5wJ7U"
      },
      "source": [
        "- user2i와 i2movie 길이  \n",
        "- df[rating] 변환"
      ]
    },
    {
      "cell_type": "code",
      "metadata": {
        "id": "EwX2edeQvMd-",
        "outputId": "a2c6fd5d-1c41-4dee-e578-14d1c4889c08",
        "colab": {
          "base_uri": "https://localhost:8080/"
        }
      },
      "source": [
        "num_users = len(user2i)\n",
        "num_movies = len(i2movie)\n",
        "df[\"rating\"] = df[\"rating\"].values.astype(np.float32)\n",
        "\n",
        "print('num_users: ',num_users)\n",
        "print('num_movies: ',num_movies)\n",
        "print('\\n','df[rating]:\\n',df['rating'].head(2))"
      ],
      "execution_count": 12,
      "outputs": [
        {
          "output_type": "stream",
          "text": [
            "num_users:  610\n",
            "num_movies:  9724\n",
            "\n",
            " df[rating]:\n",
            " 0    4.0\n",
            "1    4.0\n",
            "Name: rating, dtype: float32\n"
          ],
          "name": "stdout"
        }
      ]
    },
    {
      "cell_type": "markdown",
      "metadata": {
        "id": "SyflQYn_wSt7"
      },
      "source": [
        "- Norm을 위한 min, max 구하기"
      ]
    },
    {
      "cell_type": "code",
      "metadata": {
        "id": "UKVlERUewVEG",
        "outputId": "c84710bc-6cf5-4b2e-ff0a-28a1a7d7defe",
        "colab": {
          "base_uri": "https://localhost:8080/"
        }
      },
      "source": [
        "min_rating = min(df['rating'])\n",
        "max_rating = max(df['rating'])\n",
        "print(min_rating, max_rating)"
      ],
      "execution_count": 13,
      "outputs": [
        {
          "output_type": "stream",
          "text": [
            "0.5 5.0\n"
          ],
          "name": "stdout"
        }
      ]
    },
    {
      "cell_type": "markdown",
      "metadata": {
        "id": "oCEeSEKfxWK_"
      },
      "source": [
        "## 2.2 Training/Val dataset"
      ]
    },
    {
      "cell_type": "code",
      "metadata": {
        "id": "VHSBbPYCsJun",
        "outputId": "5e90b0e5-ea80-424a-b188-a624a162a49b",
        "colab": {
          "base_uri": "https://localhost:8080/"
        }
      },
      "source": [
        "df = df.sample(frac=1, random_state=42) # 학습을 위해 dataset을 random하게 설정\n",
        "X_data=df[['user', 'movie']]\n",
        "print(X_data.head(1))"
      ],
      "execution_count": 14,
      "outputs": [
        {
          "output_type": "stream",
          "text": [
            "       user  movie\n",
            "67037   431   4730\n"
          ],
          "name": "stdout"
        }
      ]
    },
    {
      "cell_type": "code",
      "metadata": {
        "id": "j_uR_nL9uyOc",
        "outputId": "8378c77f-b7a0-4e9f-f492-835cc5360d5f",
        "colab": {
          "base_uri": "https://localhost:8080/"
        }
      },
      "source": [
        "y_data =df['rating'].apply(lambda x: (x-min_rating)/(max_rating-min_rating)).values # ratings를 0-1 사이로 Normalization 해줌으로써 학습을 용이하게 만들어준다. to avoid explosion\n",
        "print(type(y_data))\n",
        "print(y_data.size)"
      ],
      "execution_count": 15,
      "outputs": [
        {
          "output_type": "stream",
          "text": [
            "<class 'numpy.ndarray'>\n",
            "100836\n"
          ],
          "name": "stdout"
        }
      ]
    },
    {
      "cell_type": "code",
      "metadata": {
        "id": "XSYQEcrlvA54",
        "outputId": "783c3944-c144-45dc-b40d-7e3013d0c97d",
        "colab": {
          "base_uri": "https://localhost:8080/"
        }
      },
      "source": [
        "from sklearn.model_selection import train_test_split\n",
        "\n",
        "X_train, X_val, y_train, y_val = train_test_split(X_data, y_data, test_size = 0.2, random_state = 42)\n",
        "print(X_train.shape)\n",
        "print(X_val.shape)\n",
        "print(y_train.shape)\n",
        "print(y_val.shape)"
      ],
      "execution_count": 16,
      "outputs": [
        {
          "output_type": "stream",
          "text": [
            "(80668, 2)\n",
            "(20168, 2)\n",
            "(80668,)\n",
            "(20168,)\n"
          ],
          "name": "stdout"
        }
      ]
    },
    {
      "cell_type": "markdown",
      "metadata": {
        "id": "U0XeWTDC2AsX"
      },
      "source": [
        "# 3 모델 구축"
      ]
    },
    {
      "cell_type": "markdown",
      "metadata": {
        "id": "foqjc54B0wnf"
      },
      "source": [
        "  \n",
        "#### 원문 수치들  \n",
        "    \n",
        "- Batch size: [128,256,512,1024]  \n",
        "- Learning Rate: [0.0001,0.0005,0.001,0.005]  \n",
        "- CF Layer: 32 -> 16 -> 8  \n",
        "- Emb size: 16"
      ]
    },
    {
      "cell_type": "markdown",
      "metadata": {
        "id": "1WioDUpFULjv"
      },
      "source": [
        "### 3.1 모델 1"
      ]
    },
    {
      "cell_type": "markdown",
      "metadata": {
        "id": "kn8UNwmUahjL"
      },
      "source": [
        "- 임베딩 사이즈:16\n",
        "- 배치 사이즈: 16  \n",
        "- NN 없음"
      ]
    },
    {
      "cell_type": "code",
      "metadata": {
        "id": "gZ2uszmgy7mx"
      },
      "source": [
        "EMBEDDING_SIZE = 16\n",
        "\n",
        "\n",
        "class RecommenderNet(keras.Model):\n",
        "    def __init__(self, num_users, num_movies, embedding_size, **kwargs):\n",
        "        super(RecommenderNet, self).__init__(**kwargs)\n",
        "        self.num_users = num_users\n",
        "        self.num_movies = num_movies\n",
        "        self.embedding_size = embedding_size\n",
        "        self.user_embedding = layers.Embedding(\n",
        "            num_users,\n",
        "            embedding_size,\n",
        "            embeddings_initializer=\"he_normal\",\n",
        "            embeddings_regularizer=keras.regularizers.l2(1e-6),\n",
        "        )\n",
        "        self.user_bias = layers.Embedding(num_users, 1)\n",
        "        self.movie_embedding = layers.Embedding(\n",
        "            num_movies,\n",
        "            embedding_size,\n",
        "            embeddings_initializer=\"he_normal\",\n",
        "            embeddings_regularizer=keras.regularizers.l2(1e-6),\n",
        "        )\n",
        "        self.movie_bias = layers.Embedding(num_movies, 1)\n",
        "\n",
        "    def call(self, inputs):\n",
        "        user_vector = self.user_embedding(inputs[:, 0])\n",
        "        user_bias = self.user_bias(inputs[:, 0])\n",
        "        movie_vector = self.movie_embedding(inputs[:, 1])\n",
        "        movie_bias = self.movie_bias(inputs[:, 1])\n",
        "        dot_user_movie = tf.tensordot(user_vector, movie_vector, 2)\n",
        "        # Add all the components (including bias)\n",
        "        x = dot_user_movie + user_bias + movie_bias\n",
        "        # The sigmoid activation forces the rating to between 0 and 1\n",
        "        return tf.nn.sigmoid(x)\n",
        "\n",
        "\n",
        "model = RecommenderNet(num_users, num_movies, EMBEDDING_SIZE)\n",
        "model.compile(\n",
        "    loss=tf.keras.losses.BinaryCrossentropy(), optimizer=keras.optimizers.Adam(lr=0.001)\n",
        ")"
      ],
      "execution_count": 89,
      "outputs": []
    },
    {
      "cell_type": "markdown",
      "metadata": {
        "id": "ntCxL_JCRyuw"
      },
      "source": [
        "#### 컴파일"
      ]
    },
    {
      "cell_type": "code",
      "metadata": {
        "id": "-XW__r8GRyG0"
      },
      "source": [
        "model.compile(loss = keras.losses.BinaryCrossentropy(), optimizer = keras.optimizers.Adam(learning_rate=0.001))"
      ],
      "execution_count": 90,
      "outputs": []
    },
    {
      "cell_type": "code",
      "metadata": {
        "id": "Ayk-yEFWSo6F"
      },
      "source": [
        "type(model)"
      ],
      "execution_count": null,
      "outputs": []
    },
    {
      "cell_type": "code",
      "metadata": {
        "id": "JVxKKXlXRs0M",
        "outputId": "80654745-ff58-4096-f25d-9b9dfb60ce4d",
        "colab": {
          "base_uri": "https://localhost:8080/"
        }
      },
      "source": [
        "start = time()\n",
        "history = model.fit(x=X_train,\n",
        "                    y=y_train,\n",
        "                    batch_size = 16,\n",
        "                    epochs=10,\n",
        "                    validation_data=(X_val,y_val))\n",
        "end = time()\n",
        "\n",
        "print(end-start)"
      ],
      "execution_count": 91,
      "outputs": [
        {
          "output_type": "stream",
          "text": [
            "Epoch 1/10\n",
            "5042/5042 [==============================] - 22s 4ms/step - loss: 0.6306 - val_loss: 0.6109\n",
            "Epoch 2/10\n",
            "5042/5042 [==============================] - 22s 4ms/step - loss: 0.6059 - val_loss: 0.6046\n",
            "Epoch 3/10\n",
            "5042/5042 [==============================] - 22s 4ms/step - loss: 0.6001 - val_loss: 0.6023\n",
            "Epoch 4/10\n",
            "5042/5042 [==============================] - 22s 4ms/step - loss: 0.5968 - val_loss: 0.6009\n",
            "Epoch 5/10\n",
            "5042/5042 [==============================] - 22s 4ms/step - loss: 0.5951 - val_loss: 0.6002\n",
            "Epoch 6/10\n",
            "5042/5042 [==============================] - 22s 4ms/step - loss: 0.5933 - val_loss: 0.5999\n",
            "Epoch 7/10\n",
            "5042/5042 [==============================] - 22s 4ms/step - loss: 0.5925 - val_loss: 0.5999\n",
            "Epoch 8/10\n",
            "5042/5042 [==============================] - 22s 4ms/step - loss: 0.5914 - val_loss: 0.5999\n",
            "Epoch 9/10\n",
            "5042/5042 [==============================] - 22s 4ms/step - loss: 0.5907 - val_loss: 0.5994\n",
            "Epoch 10/10\n",
            "5042/5042 [==============================] - 22s 4ms/step - loss: 0.5901 - val_loss: 0.5996\n",
            "223.79327750205994\n"
          ],
          "name": "stdout"
        }
      ]
    },
    {
      "cell_type": "code",
      "metadata": {
        "id": "WWPIFxNpWs__",
        "outputId": "4acbe8d5-647d-4689-f1ef-d14c0f3f335f",
        "colab": {
          "base_uri": "https://localhost:8080/"
        }
      },
      "source": [
        "model.summary()"
      ],
      "execution_count": 92,
      "outputs": [
        {
          "output_type": "stream",
          "text": [
            "Model: \"recommender_net_5\"\n",
            "_________________________________________________________________\n",
            "Layer (type)                 Output Shape              Param #   \n",
            "=================================================================\n",
            "embedding_64 (Embedding)     multiple                  9760      \n",
            "_________________________________________________________________\n",
            "embedding_65 (Embedding)     multiple                  610       \n",
            "_________________________________________________________________\n",
            "embedding_66 (Embedding)     multiple                  155584    \n",
            "_________________________________________________________________\n",
            "embedding_67 (Embedding)     multiple                  9724      \n",
            "=================================================================\n",
            "Total params: 175,678\n",
            "Trainable params: 175,678\n",
            "Non-trainable params: 0\n",
            "_________________________________________________________________\n"
          ],
          "name": "stdout"
        }
      ]
    },
    {
      "cell_type": "markdown",
      "metadata": {
        "id": "_6jORNPnUSGy"
      },
      "source": [
        "#### 평가"
      ]
    },
    {
      "cell_type": "code",
      "metadata": {
        "id": "Z_IVxezYU6OS",
        "outputId": "522256c7-582c-4bb1-a469-8b9635cef9b9",
        "colab": {
          "base_uri": "https://localhost:8080/",
          "height": 295
        }
      },
      "source": [
        "plt.plot(history.history[\"loss\"],c=\"red\")\n",
        "plt.plot(history.history[\"val_loss\"],c=\"blue\")\n",
        "plt.title(\"model loss\")\n",
        "plt.ylabel(\"loss\")\n",
        "plt.xlabel(\"epoch\")\n",
        "plt.legend([\"train\", \"test\"], loc=\"upper left\")\n",
        "plt.show()"
      ],
      "execution_count": 93,
      "outputs": [
        {
          "output_type": "display_data",
          "data": {
            "image/png": "[encoded data removed]",
            "text/plain": [
              "<Figure size 432x288 with 1 Axes>"
            ]
          },
          "metadata": {
            "tags": [],
            "needs_background": "light"
          }
        }
      ]
    },
    {
      "cell_type": "markdown",
      "metadata": {
        "id": "TAOTHGEOUOxc"
      },
      "source": [
        "### 3.2 모델 2"
      ]
    },
    {
      "cell_type": "markdown",
      "metadata": {
        "id": "fNUB9ga4aor8"
      },
      "source": [
        "- 임베딩 사이즈:16\n",
        "  \n",
        "- 배치 사이즈: 50\n",
        "  \n",
        "- NN 있음. Dense, activation=relu"
      ]
    },
    {
      "cell_type": "code",
      "metadata": {
        "id": "ucDIHvKgUQM8"
      },
      "source": [
        "EMBEDDING_SIZE = 16\n",
        "\n",
        "\n",
        "class RecommenderNet2(keras.Model):\n",
        "    def __init__(self, num_users, num_movies, embedding_size, **kwargs):\n",
        "        super(RecommenderNet2, self).__init__(**kwargs)\n",
        "        self.num_users = num_users\n",
        "        self.num_movies = num_movies\n",
        "        self.embedding_size = embedding_size\n",
        "        self.user_embedding = layers.Embedding(\n",
        "            num_users,\n",
        "            embedding_size,\n",
        "            embeddings_initializer=\"he_normal\",\n",
        "            embeddings_regularizer=keras.regularizers.l2(1e-6),\n",
        "        )\n",
        "        self.user_bias = layers.Embedding(num_users, 1)\n",
        "        self.movie_embedding = layers.Embedding(\n",
        "            num_movies,\n",
        "            embedding_size,\n",
        "            embeddings_initializer=\"he_normal\",\n",
        "            embeddings_regularizer=keras.regularizers.l2(1e-6),\n",
        "        )\n",
        "        self.movie_bias = layers.Embedding(num_movies, 1)\n",
        "        self.Layer1=layers.Dense(32, activation='relu')\n",
        "        self.Layer2=layers.Dense(16,activation='relu')\n",
        "        self.Layer3=layers.Dense(8,activation='relu')\n",
        "        self.Layer4=layers.Dense(1,activation='sigmoid')\n",
        "\n",
        "    def call(self, inputs):\n",
        "        user_vector = self.user_embedding(inputs[:, 0])\n",
        "        user_bias = self.user_bias(inputs[:, 0])\n",
        "        movie_vector = self.movie_embedding(inputs[:, 1])\n",
        "        movie_bias = self.movie_bias(inputs[:, 1])\n",
        "        dot_user_movie = tf.tensordot(user_vector, movie_vector, 2)\n",
        "        # Add all the components (including bias)\n",
        "        x = dot_user_movie + user_bias + movie_bias\n",
        "        \n",
        "        x = self.Layer1(x)\n",
        "        x = self. Layer2(x)\n",
        "        x = self.Layer3(x)\n",
        "\n",
        "        return self.Layer4(x)\n",
        "\n",
        "\n",
        "model2 = RecommenderNet2(num_users, num_movies, EMBEDDING_SIZE)\n",
        "model2.compile(\n",
        "    loss=tf.keras.losses.BinaryCrossentropy(), optimizer=keras.optimizers.Adam(lr=0.001)\n",
        ")"
      ],
      "execution_count": 94,
      "outputs": []
    },
    {
      "cell_type": "code",
      "metadata": {
        "id": "yNkJ47i_X2RU"
      },
      "source": [
        "model2.compile(loss = keras.losses.BinaryCrossentropy(), optimizer = keras.optimizers.Adam(learning_rate=0.001))"
      ],
      "execution_count": 95,
      "outputs": []
    },
    {
      "cell_type": "code",
      "metadata": {
        "id": "BU4AdWH3X4x_",
        "outputId": "c1cd490b-9d1a-466b-c683-f9119db48e75",
        "colab": {
          "base_uri": "https://localhost:8080/"
        }
      },
      "source": [
        "history2 = model2.fit(x=X_train,\n",
        "                    y=y_train,\n",
        "                    batch_size = 128,\n",
        "                    epochs=10,\n",
        "                    validation_data=(X_val,y_val))"
      ],
      "execution_count": 97,
      "outputs": [
        {
          "output_type": "stream",
          "text": [
            "Epoch 1/10\n",
            "631/631 [==============================] - 4s 6ms/step - loss: 0.6098 - val_loss: 0.6051\n",
            "Epoch 2/10\n",
            "631/631 [==============================] - 4s 6ms/step - loss: 0.6063 - val_loss: 0.6031\n",
            "Epoch 3/10\n",
            "631/631 [==============================] - 4s 6ms/step - loss: 0.6043 - val_loss: 0.6023\n",
            "Epoch 4/10\n",
            "631/631 [==============================] - 4s 6ms/step - loss: 0.6016 - val_loss: 0.6010\n",
            "Epoch 5/10\n",
            "631/631 [==============================] - 4s 6ms/step - loss: 0.5996 - val_loss: 0.6004\n",
            "Epoch 6/10\n",
            "631/631 [==============================] - 4s 6ms/step - loss: 0.5979 - val_loss: 0.5999\n",
            "Epoch 7/10\n",
            "631/631 [==============================] - 4s 6ms/step - loss: 0.5966 - val_loss: 0.5996\n",
            "Epoch 8/10\n",
            "631/631 [==============================] - 4s 6ms/step - loss: 0.5958 - val_loss: 0.5994\n",
            "Epoch 9/10\n",
            "631/631 [==============================] - 4s 6ms/step - loss: 0.5951 - val_loss: 0.5994\n",
            "Epoch 10/10\n",
            "631/631 [==============================] - 4s 6ms/step - loss: 0.5937 - val_loss: 0.5993\n"
          ],
          "name": "stdout"
        }
      ]
    },
    {
      "cell_type": "markdown",
      "metadata": {
        "id": "vV9SOWkMZeFU"
      },
      "source": [
        "#### 평가"
      ]
    },
    {
      "cell_type": "code",
      "metadata": {
        "id": "TU040XryZe7g",
        "outputId": "b5c03b92-d894-422e-d521-c328b1943699",
        "colab": {
          "base_uri": "https://localhost:8080/",
          "height": 295
        }
      },
      "source": [
        "plt.plot(history2.history[\"loss\"],c=\"red\")\n",
        "plt.plot(history2.history[\"val_loss\"],c=\"blue\")\n",
        "plt.title(\"model loss\")\n",
        "plt.ylabel(\"loss\")\n",
        "plt.xlabel(\"epoch\")\n",
        "plt.legend([\"train\", \"test\"], loc=\"upper left\")\n",
        "plt.show()"
      ],
      "execution_count": 98,
      "outputs": [
        {
          "output_type": "display_data",
          "data": {
            "image/png": "[encoded data removed]",
            "text/plain": [
              "<Figure size 432x288 with 1 Axes>"
            ]
          },
          "metadata": {
            "tags": [],
            "needs_background": "light"
          }
        }
      ]
    },
    {
      "cell_type": "markdown",
      "metadata": {
        "id": "bftF7OusYbep"
      },
      "source": [
        "### 3.3 모델3 "
      ]
    },
    {
      "cell_type": "markdown",
      "metadata": {
        "id": "gmp8snvpZx5D"
      },
      "source": [
        " 원문 따라  \n",
        " - 임베딩 사이즈 16  \n",
        " - 배치 사이즈 128\n",
        " - 32->16->8->1 + 배치정규화 + ReLU  \n",
        "   \n",
        "==> 학습 속도가 효과적으로 빨라졌다."
      ]
    },
    {
      "cell_type": "code",
      "metadata": {
        "id": "0wApDHayYdPd"
      },
      "source": [
        "EMBEDDING_SIZE = 64\n",
        "\n",
        "\n",
        "class RecommenderNet3(keras.Model):\n",
        "    def __init__(self, num_users, num_movies, embedding_size, **kwargs):\n",
        "        super(RecommenderNet3, self).__init__(**kwargs)\n",
        "        self.num_users = num_users\n",
        "        self.num_movies = num_movies\n",
        "        self.embedding_size = embedding_size\n",
        "        self.user_embedding = layers.Embedding(\n",
        "            num_users,\n",
        "            embedding_size,\n",
        "            embeddings_initializer=\"he_normal\",\n",
        "            embeddings_regularizer=keras.regularizers.l2(1e-6),\n",
        "        )\n",
        "        self.user_bias = layers.Embedding(num_users, 1)\n",
        "        self.movie_embedding = layers.Embedding(\n",
        "            num_movies,\n",
        "            embedding_size,\n",
        "            embeddings_initializer=\"he_normal\",\n",
        "            embeddings_regularizer=keras.regularizers.l2(1e-6),\n",
        "        )\n",
        "        self.movie_bias = layers.Embedding(num_movies, 1)\n",
        "        self.Layer1=layers.Dense(32)\n",
        "        self.BN1 = layers.BatchNormalization(axis=-1)\n",
        "        self.relu = layers.Activation('relu')\n",
        "        self.Layer2=layers.Dense(16)\n",
        "        self.BN2 = layers.BatchNormalization(axis=-1)\n",
        "        self.relu = layers.Activation('relu')\n",
        "        self.Layer3=layers.Dense(8)\n",
        "        self.BN3 = layers.BatchNormalization(axis=-1)\n",
        "        self.relu = layers.Activation('relu')\n",
        "        self.Layer4=layers.Dense(1,activation='sigmoid')\n",
        "\n",
        "    def call(self, inputs):\n",
        "        user_vector = self.user_embedding(inputs[:, 0])\n",
        "        user_bias = self.user_bias(inputs[:, 0])\n",
        "        movie_vector = self.movie_embedding(inputs[:, 1])\n",
        "        movie_bias = self.movie_bias(inputs[:, 1])\n",
        "        dot_user_movie = tf.tensordot(user_vector, movie_vector, 2)\n",
        "        # Add all the components (including bias)\n",
        "        x = dot_user_movie + user_bias + movie_bias\n",
        "        \n",
        "        x = self.relu(self.BN1(self.Layer1(x)))\n",
        "    \n",
        "        x = self.relu(self.BN2(self.Layer2(x)))\n",
        "        x = self.relu(self.BN3(self.Layer3(x)))\n",
        "\n",
        "        return self.Layer4(x)\n",
        "\n",
        "\n",
        "model3 = RecommenderNet3(num_users, num_movies, EMBEDDING_SIZE)\n",
        "model3.compile(\n",
        "    loss=tf.keras.losses.BinaryCrossentropy(), optimizer=keras.optimizers.Adam(lr=0.001)\n",
        ")"
      ],
      "execution_count": 138,
      "outputs": []
    },
    {
      "cell_type": "code",
      "metadata": {
        "id": "dRVGFauFZ_gZ"
      },
      "source": [
        "model3.compile(loss = keras.losses.BinaryCrossentropy(), optimizer = keras.optimizers.Adam(learning_rate=0.001))"
      ],
      "execution_count": 139,
      "outputs": []
    },
    {
      "cell_type": "code",
      "metadata": {
        "id": "Vl4EUWCQaCM7",
        "outputId": "1fface08-1532-4f3f-ceb2-48d5197e0c6c",
        "colab": {
          "base_uri": "https://localhost:8080/"
        }
      },
      "source": [
        "history3 = model3.fit(x=X_train,\n",
        "                    y=y_train,\n",
        "                    batch_size = 64,\n",
        "                    epochs=50,\n",
        "                    validation_data=(X_val,y_val))"
      ],
      "execution_count": 142,
      "outputs": [
        {
          "output_type": "stream",
          "text": [
            "Epoch 1/50\n",
            "1261/1261 [==============================] - 10s 8ms/step - loss: 0.6370 - val_loss: 0.6257\n",
            "Epoch 2/50\n",
            "1261/1261 [==============================] - 10s 8ms/step - loss: 0.6190 - val_loss: 0.6141\n",
            "Epoch 3/50\n",
            "1261/1261 [==============================] - 10s 8ms/step - loss: 0.6073 - val_loss: 0.6075\n",
            "Epoch 4/50\n",
            "1261/1261 [==============================] - 10s 8ms/step - loss: 0.6008 - val_loss: 0.6053\n",
            "Epoch 5/50\n",
            "1261/1261 [==============================] - 10s 8ms/step - loss: 0.5973 - val_loss: 0.6053\n",
            "Epoch 6/50\n",
            "1261/1261 [==============================] - 10s 8ms/step - loss: 0.5948 - val_loss: 0.6038\n",
            "Epoch 7/50\n",
            "1261/1261 [==============================] - 10s 8ms/step - loss: 0.5934 - val_loss: 0.6046\n",
            "Epoch 8/50\n",
            "1261/1261 [==============================] - 10s 8ms/step - loss: 0.5923 - val_loss: 0.6039\n",
            "Epoch 9/50\n",
            "1261/1261 [==============================] - 10s 8ms/step - loss: 0.5916 - val_loss: 0.6031\n",
            "Epoch 10/50\n",
            "1261/1261 [==============================] - 10s 8ms/step - loss: 0.5912 - val_loss: 0.6047\n",
            "Epoch 11/50\n",
            "1261/1261 [==============================] - 10s 8ms/step - loss: 0.5908 - val_loss: 0.6031\n",
            "Epoch 12/50\n",
            "1261/1261 [==============================] - 10s 8ms/step - loss: 0.5905 - val_loss: 0.6033\n",
            "Epoch 13/50\n",
            "1261/1261 [==============================] - 10s 8ms/step - loss: 0.5901 - val_loss: 0.6030\n",
            "Epoch 14/50\n",
            "1261/1261 [==============================] - 10s 8ms/step - loss: 0.5898 - val_loss: 0.6020\n",
            "Epoch 15/50\n",
            "1261/1261 [==============================] - 10s 8ms/step - loss: 0.5896 - val_loss: 0.6043\n",
            "Epoch 16/50\n",
            "1261/1261 [==============================] - 10s 8ms/step - loss: 0.5894 - val_loss: 0.6021\n",
            "Epoch 17/50\n",
            "1261/1261 [==============================] - 10s 8ms/step - loss: 0.5891 - val_loss: 0.6020\n",
            "Epoch 18/50\n",
            "1261/1261 [==============================] - 10s 8ms/step - loss: 0.5889 - val_loss: 0.6034\n",
            "Epoch 19/50\n",
            "1261/1261 [==============================] - 10s 8ms/step - loss: 0.5887 - val_loss: 0.6020\n",
            "Epoch 20/50\n",
            "1261/1261 [==============================] - 10s 8ms/step - loss: 0.5886 - val_loss: 0.6037\n",
            "Epoch 21/50\n",
            "1261/1261 [==============================] - 11s 8ms/step - loss: 0.5883 - val_loss: 0.6057\n",
            "Epoch 22/50\n",
            "1261/1261 [==============================] - 10s 8ms/step - loss: 0.5883 - val_loss: 0.6043\n",
            "Epoch 23/50\n",
            "1261/1261 [==============================] - 10s 8ms/step - loss: 0.5883 - val_loss: 0.6024\n",
            "Epoch 24/50\n",
            "1261/1261 [==============================] - 10s 8ms/step - loss: 0.5882 - val_loss: 0.6020\n",
            "Epoch 25/50\n",
            "1261/1261 [==============================] - 10s 8ms/step - loss: 0.5880 - val_loss: 0.6027\n",
            "Epoch 26/50\n",
            "1261/1261 [==============================] - 10s 8ms/step - loss: 0.5879 - val_loss: 0.6023\n",
            "Epoch 27/50\n",
            "1261/1261 [==============================] - 10s 8ms/step - loss: 0.5878 - val_loss: 0.6022\n",
            "Epoch 28/50\n",
            "1261/1261 [==============================] - 10s 8ms/step - loss: 0.5877 - val_loss: 0.6026\n",
            "Epoch 29/50\n",
            "1261/1261 [==============================] - 10s 8ms/step - loss: 0.5876 - val_loss: 0.6028\n",
            "Epoch 30/50\n",
            "1261/1261 [==============================] - 10s 8ms/step - loss: 0.5876 - val_loss: 0.6026\n",
            "Epoch 31/50\n",
            "1261/1261 [==============================] - 10s 8ms/step - loss: 0.5875 - val_loss: 0.6023\n",
            "Epoch 32/50\n",
            "1261/1261 [==============================] - 10s 8ms/step - loss: 0.5875 - val_loss: 0.6025\n",
            "Epoch 33/50\n",
            "1261/1261 [==============================] - 10s 8ms/step - loss: 0.5872 - val_loss: 0.6022\n",
            "Epoch 34/50\n",
            "1261/1261 [==============================] - 10s 8ms/step - loss: 0.5872 - val_loss: 0.6041\n",
            "Epoch 35/50\n",
            "1261/1261 [==============================] - 10s 8ms/step - loss: 0.5870 - val_loss: 0.6023\n",
            "Epoch 36/50\n",
            "1261/1261 [==============================] - 10s 8ms/step - loss: 0.5871 - val_loss: 0.6030\n",
            "Epoch 37/50\n",
            "1261/1261 [==============================] - 10s 8ms/step - loss: 0.5870 - val_loss: 0.6025\n",
            "Epoch 38/50\n",
            "1261/1261 [==============================] - 10s 8ms/step - loss: 0.5870 - val_loss: 0.6031\n",
            "Epoch 39/50\n",
            "1261/1261 [==============================] - 10s 8ms/step - loss: 0.5869 - val_loss: 0.6024\n",
            "Epoch 40/50\n",
            "1261/1261 [==============================] - 10s 8ms/step - loss: 0.5871 - val_loss: 0.6021\n",
            "Epoch 41/50\n",
            "1261/1261 [==============================] - 10s 8ms/step - loss: 0.5869 - val_loss: 0.6022\n",
            "Epoch 42/50\n",
            "1261/1261 [==============================] - 10s 8ms/step - loss: 0.5867 - val_loss: 0.6016\n",
            "Epoch 43/50\n",
            "1261/1261 [==============================] - 10s 8ms/step - loss: 0.5868 - val_loss: 0.6019\n",
            "Epoch 44/50\n",
            "1261/1261 [==============================] - 10s 8ms/step - loss: 0.5867 - val_loss: 0.6020\n",
            "Epoch 45/50\n",
            "1261/1261 [==============================] - 10s 8ms/step - loss: 0.5868 - val_loss: 0.6018\n",
            "Epoch 46/50\n",
            "1261/1261 [==============================] - 10s 8ms/step - loss: 0.5867 - val_loss: 0.6022\n",
            "Epoch 47/50\n",
            "1261/1261 [==============================] - 10s 8ms/step - loss: 0.5867 - val_loss: 0.6019\n",
            "Epoch 48/50\n",
            "1261/1261 [==============================] - 10s 8ms/step - loss: 0.5867 - val_loss: 0.6023\n",
            "Epoch 49/50\n",
            "1261/1261 [==============================] - 10s 8ms/step - loss: 0.5865 - val_loss: 0.6021\n",
            "Epoch 50/50\n",
            "1261/1261 [==============================] - 10s 8ms/step - loss: 0.5863 - val_loss: 0.6017\n"
          ],
          "name": "stdout"
        }
      ]
    },
    {
      "cell_type": "markdown",
      "metadata": {
        "id": "PLhrfLyVaRn1"
      },
      "source": [
        "#### 평가"
      ]
    },
    {
      "cell_type": "code",
      "metadata": {
        "id": "NJ1fQToSaSQw",
        "outputId": "94b26b3d-2192-4ac4-ada4-5c5d81aa9d3f",
        "colab": {
          "base_uri": "https://localhost:8080/",
          "height": 295
        }
      },
      "source": [
        "plt.plot(history3.history[\"loss\"],c=\"red\")\n",
        "plt.plot(history3.history[\"val_loss\"],c=\"blue\")\n",
        "plt.title(\"model loss\")\n",
        "plt.ylabel(\"loss\")\n",
        "plt.xlabel(\"epoch\")\n",
        "plt.legend([\"train\", \"test\"], loc=\"upper left\")\n",
        "plt.show()"
      ],
      "execution_count": 143,
      "outputs": [
        {
          "output_type": "display_data",
          "data": {
            "image/png": "[encoded data removed]",
            "text/plain": [
              "<Figure size 432x288 with 1 Axes>"
            ]
          },
          "metadata": {
            "tags": [],
            "needs_background": "light"
          }
        }
      ]
    },
    {
      "cell_type": "markdown",
      "metadata": {
        "id": "EK84ZL-1VjX9"
      },
      "source": [
        "# 4 영화 추천해주기"
      ]
    },
    {
      "cell_type": "code",
      "metadata": {
        "id": "3ur0F8XeVlr6"
      },
      "source": [
        "movie_df = pd.read_csv(movielens_dir / \"movies.csv\")"
      ],
      "execution_count": 305,
      "outputs": []
    },
    {
      "cell_type": "code",
      "metadata": {
        "id": "jUHb1aJhnCpU",
        "outputId": "c061acf0-679c-4c3e-9661-b8845b431454",
        "colab": {
          "base_uri": "https://localhost:8080/",
          "height": 80
        }
      },
      "source": [
        "movie_df.head(1)"
      ],
      "execution_count": 306,
      "outputs": [
        {
          "output_type": "execute_result",
          "data": {
            "text/html": [
              "<div>\n",
              "<style scoped>\n",
              "    .dataframe tbody tr th:only-of-type {\n",
              "        vertical-align: middle;\n",
              "    }\n",
              "\n",
              "    .dataframe tbody tr th {\n",
              "        vertical-align: top;\n",
              "    }\n",
              "\n",
              "    .dataframe thead th {\n",
              "        text-align: right;\n",
              "    }\n",
              "</style>\n",
              "<table border=\"1\" class=\"dataframe\">\n",
              "  <thead>\n",
              "    <tr style=\"text-align: right;\">\n",
              "      <th></th>\n",
              "      <th>movieId</th>\n",
              "      <th>title</th>\n",
              "      <th>genres</th>\n",
              "    </tr>\n",
              "  </thead>\n",
              "  <tbody>\n",
              "    <tr>\n",
              "      <th>0</th>\n",
              "      <td>1</td>\n",
              "      <td>Toy Story (1995)</td>\n",
              "      <td>Adventure|Animation|Children|Comedy|Fantasy</td>\n",
              "    </tr>\n",
              "  </tbody>\n",
              "</table>\n",
              "</div>"
            ],
            "text/plain": [
              "   movieId             title                                       genres\n",
              "0        1  Toy Story (1995)  Adventure|Animation|Children|Comedy|Fantasy"
            ]
          },
          "metadata": {
            "tags": []
          },
          "execution_count": 306
        }
      ]
    },
    {
      "cell_type": "markdown",
      "metadata": {
        "id": "qLETNnsfqdY4"
      },
      "source": [
        "##### 임의로 한 명의 유저를 뽑아보자. 이 유저를 A라고 해보자."
      ]
    },
    {
      "cell_type": "code",
      "metadata": {
        "id": "NVHaAOt9nQdL",
        "outputId": "ee83cf9b-4937-4da8-d3fe-e2e55e67799f",
        "colab": {
          "base_uri": "https://localhost:8080/"
        }
      },
      "source": [
        "user_id = df['userId'].sample(1).iloc[0] # Return a random sample of items from an axis of object.\n",
        "print(user_id)"
      ],
      "execution_count": 307,
      "outputs": [
        {
          "output_type": "stream",
          "text": [
            "489\n"
          ],
          "name": "stdout"
        }
      ]
    },
    {
      "cell_type": "markdown",
      "metadata": {
        "id": "JeZDR1Fyq0Ht"
      },
      "source": [
        "##### A가 본 영화들과 그가 그 영화들에 대해 매긴 평점 df"
      ]
    },
    {
      "cell_type": "code",
      "metadata": {
        "id": "JMS7g2wGqfwR",
        "outputId": "2842c683-30f6-439d-a811-b2fe57398237",
        "colab": {
          "base_uri": "https://localhost:8080/"
        }
      },
      "source": [
        "movies_watched_by_the_sampled_user = df[df['userId']==user_id]\n",
        "print(movies_watched_by_the_sampled_user)"
      ],
      "execution_count": 308,
      "outputs": [
        {
          "output_type": "stream",
          "text": [
            "       userId  movieId  rating   timestamp  user  movie\n",
            "78595     489      923     3.5  1335869037   488     45\n",
            "78717     489     2124     2.5  1385824159   488   2679\n",
            "78963     489     7318     3.0  1333232957   488   1219\n",
            "78634     489     1246     4.0  1333101663   488    725\n",
            "78569     489      736     2.5  1333101354   488     41\n",
            "...       ...      ...     ...         ...   ...    ...\n",
            "78781     489     2908     4.5  1332704606   488   2188\n",
            "78832     489     3825     1.5  1333233752   488   1763\n",
            "78657     489     1393     3.0  1333101553   488   2419\n",
            "78603     489      971     5.0  1333659707   488   3695\n",
            "78953     489     7007     1.5  1333830782   488   2966\n",
            "\n",
            "[648 rows x 6 columns]\n"
          ],
          "name": "stdout"
        }
      ]
    },
    {
      "cell_type": "markdown",
      "metadata": {
        "id": "1rmZ1lfTsH2Z"
      },
      "source": [
        "##### 유저 A가 보지 않은 영화 목록을 df로 만들자."
      ]
    },
    {
      "cell_type": "code",
      "metadata": {
        "id": "pfsCMY4CqyVL"
      },
      "source": [
        "movies_not_watched_by_the_sampled_user = movie_df[~movie_df['movieId'].isin(movies_watched_by_the_sampled_user['movieId'].values)]"
      ],
      "execution_count": 309,
      "outputs": []
    },
    {
      "cell_type": "code",
      "metadata": {
        "id": "Ge4wJpOssGS2",
        "outputId": "ab500fbc-430f-4bf6-b3bd-dcf29e609096",
        "colab": {
          "base_uri": "https://localhost:8080/",
          "height": 419
        }
      },
      "source": [
        "movies_not_watched_by_the_sampled_user"
      ],
      "execution_count": 310,
      "outputs": [
        {
          "output_type": "execute_result",
          "data": {
            "text/html": [
              "<div>\n",
              "<style scoped>\n",
              "    .dataframe tbody tr th:only-of-type {\n",
              "        vertical-align: middle;\n",
              "    }\n",
              "\n",
              "    .dataframe tbody tr th {\n",
              "        vertical-align: top;\n",
              "    }\n",
              "\n",
              "    .dataframe thead th {\n",
              "        text-align: right;\n",
              "    }\n",
              "</style>\n",
              "<table border=\"1\" class=\"dataframe\">\n",
              "  <thead>\n",
              "    <tr style=\"text-align: right;\">\n",
              "      <th></th>\n",
              "      <th>movieId</th>\n",
              "      <th>title</th>\n",
              "      <th>genres</th>\n",
              "    </tr>\n",
              "  </thead>\n",
              "  <tbody>\n",
              "    <tr>\n",
              "      <th>0</th>\n",
              "      <td>1</td>\n",
              "      <td>Toy Story (1995)</td>\n",
              "      <td>Adventure|Animation|Children|Comedy|Fantasy</td>\n",
              "    </tr>\n",
              "    <tr>\n",
              "      <th>2</th>\n",
              "      <td>3</td>\n",
              "      <td>Grumpier Old Men (1995)</td>\n",
              "      <td>Comedy|Romance</td>\n",
              "    </tr>\n",
              "    <tr>\n",
              "      <th>3</th>\n",
              "      <td>4</td>\n",
              "      <td>Waiting to Exhale (1995)</td>\n",
              "      <td>Comedy|Drama|Romance</td>\n",
              "    </tr>\n",
              "    <tr>\n",
              "      <th>5</th>\n",
              "      <td>6</td>\n",
              "      <td>Heat (1995)</td>\n",
              "      <td>Action|Crime|Thriller</td>\n",
              "    </tr>\n",
              "    <tr>\n",
              "      <th>7</th>\n",
              "      <td>8</td>\n",
              "      <td>Tom and Huck (1995)</td>\n",
              "      <td>Adventure|Children</td>\n",
              "    </tr>\n",
              "    <tr>\n",
              "      <th>...</th>\n",
              "      <td>...</td>\n",
              "      <td>...</td>\n",
              "      <td>...</td>\n",
              "    </tr>\n",
              "    <tr>\n",
              "      <th>9737</th>\n",
              "      <td>193581</td>\n",
              "      <td>Black Butler: Book of the Atlantic (2017)</td>\n",
              "      <td>Action|Animation|Comedy|Fantasy</td>\n",
              "    </tr>\n",
              "    <tr>\n",
              "      <th>9738</th>\n",
              "      <td>193583</td>\n",
              "      <td>No Game No Life: Zero (2017)</td>\n",
              "      <td>Animation|Comedy|Fantasy</td>\n",
              "    </tr>\n",
              "    <tr>\n",
              "      <th>9739</th>\n",
              "      <td>193585</td>\n",
              "      <td>Flint (2017)</td>\n",
              "      <td>Drama</td>\n",
              "    </tr>\n",
              "    <tr>\n",
              "      <th>9740</th>\n",
              "      <td>193587</td>\n",
              "      <td>Bungo Stray Dogs: Dead Apple (2018)</td>\n",
              "      <td>Action|Animation</td>\n",
              "    </tr>\n",
              "    <tr>\n",
              "      <th>9741</th>\n",
              "      <td>193609</td>\n",
              "      <td>Andrew Dice Clay: Dice Rules (1991)</td>\n",
              "      <td>Comedy</td>\n",
              "    </tr>\n",
              "  </tbody>\n",
              "</table>\n",
              "<p>9094 rows × 3 columns</p>\n",
              "</div>"
            ],
            "text/plain": [
              "      movieId  ...                                       genres\n",
              "0           1  ...  Adventure|Animation|Children|Comedy|Fantasy\n",
              "2           3  ...                               Comedy|Romance\n",
              "3           4  ...                         Comedy|Drama|Romance\n",
              "5           6  ...                        Action|Crime|Thriller\n",
              "7           8  ...                           Adventure|Children\n",
              "...       ...  ...                                          ...\n",
              "9737   193581  ...              Action|Animation|Comedy|Fantasy\n",
              "9738   193583  ...                     Animation|Comedy|Fantasy\n",
              "9739   193585  ...                                        Drama\n",
              "9740   193587  ...                             Action|Animation\n",
              "9741   193609  ...                                       Comedy\n",
              "\n",
              "[9094 rows x 3 columns]"
            ]
          },
          "metadata": {
            "tags": []
          },
          "execution_count": 310
        }
      ]
    },
    {
      "cell_type": "code",
      "metadata": {
        "id": "NzeW5po20DEZ"
      },
      "source": [
        "movies_not_watched_list=[]\n",
        "\n",
        "for i in movies_not_watched_by_the_sampled_user['movieId']:\n",
        "    movies_not_watched_list.append(i)"
      ],
      "execution_count": 311,
      "outputs": []
    },
    {
      "cell_type": "code",
      "metadata": {
        "id": "IgqUAH1ytXVj",
        "outputId": "03400359-749d-4eb7-dc25-af6cc713b031",
        "colab": {
          "base_uri": "https://localhost:8080/"
        }
      },
      "source": [
        "len(movies_not_watched_list)"
      ],
      "execution_count": 312,
      "outputs": [
        {
          "output_type": "execute_result",
          "data": {
            "text/plain": [
              "9094"
            ]
          },
          "metadata": {
            "tags": []
          },
          "execution_count": 312
        }
      ]
    },
    {
      "cell_type": "markdown",
      "metadata": {
        "id": "pPY-VUmY4Dh9"
      },
      "source": [
        "두 set 간의 교집합"
      ]
    },
    {
      "cell_type": "code",
      "metadata": {
        "id": "SIpBJKyctqVM",
        "outputId": "493eb675-cce1-447d-d67b-dae684127e33",
        "colab": {
          "base_uri": "https://localhost:8080/"
        }
      },
      "source": [
        "movies_not_watched_list = list(set(movies_not_watched_list).intersection(set(movie2i.keys())))\n",
        "print(len(movies_not_watched_list)) # 두 set 간의 교집합"
      ],
      "execution_count": 313,
      "outputs": [
        {
          "output_type": "stream",
          "text": [
            "9076\n"
          ],
          "name": "stdout"
        }
      ]
    },
    {
      "cell_type": "code",
      "metadata": {
        "id": "RbPN8iDst_d4",
        "outputId": "fc7fbbbf-0f51-4593-d53b-61560c19c4a3",
        "colab": {
          "base_uri": "https://localhost:8080/"
        }
      },
      "source": [
        "movies_not_watched_list = [[movie2i.get(x)] for x in movies_not_watched_list]\n",
        "print(movies_not_watched_list)"
      ],
      "execution_count": 314,
      "outputs": [
        {
          "output_type": "stream",
          "text": [
            "[[287], [6273], [390], [1367], [647], [2855], [2367], [1441], [1102], [2493], [1559], [2178], [567], [2880], [1580], [169], [142], [3529], [5596], [929], [544], [41], [5964], [9201], [7192], [663], [4348], [6671], [1154], [3607], [571], [2409], [3806], [8878], [7566], [241], [3923], [1856], [9040], [3852], [9319], [7108], [2550], [1802], [7024], [1876], [5540], [1815], [2614], [2910], [1271], [4276], [8575], [6565], [1640], [5047], [3934], [3399], [800], [3449], [3820], [1924], [6354], [5794], [405], [39], [2267], [2920], [5798], [1570], [2798], [5770], [2879], [3642], [9622], [3553], [899], [2881], [8082], [7215], [2344], [1874], [1915], [6264], [3742], [1420], [7099], [419], [6866], [9207], [1296], [6314], [7053], [3748], [1157], [1460], [9558], [6363], [4049], [8200], [7918], [2044], [4067], [4083], [7880], [5514], [3019], [1459], [9126], [8084], [6293], [830], [9335], [9352], [1662], [8524], [3378], [470], [6335], [5019], [8675], [6093], [7510], [5762], [1598], [7054], [1623], [6568], [699], [1846], [634], [1907], [1063], [1195], [2296], [7897], [6213], [2760], [1990], [5677], [1839], [4364], [1753], [2762], [5], [9432], [2271], [1911], [2591], [7689], [5476], [7339], [963], [8958], [2325], [281], [3087], [1524], [3237], [1328], [1602], [3770], [542], [6853], [4181], [7798], [5802], [1010], [26], [5775], [3702], [3382], [718], [2581], [2154], [6174], [7784], [1554], [5577], [2314], [914], [4953], [827], [4790], [5944], [1087], [558], [2005], [1066], [2427], [8184], [5140], [2305], [2906], [3648], [2773], [695], [1171], [2829], [8194], [1715], [5021], [9636], [1890], [9044], [3793], [5477], [3483], [759], [3510], [2434], [2499], [3727], [1838], [284], [2176], [5309], [3472], [4767], [1626], [3582], [5918], [3054], [1953], [1818], [4595], [4295], [2077], [1378], [5296], [6737], [3218], [3211], [595], [4471], [8262], [6372], [5756], [6876], [62], [2261], [5736], [4449], [225], [3981], [1886], [9293], [7546], [1023], [9540], [4642], [2693], [2802], [4320], [477], [9007], [9723], [5685], [7345], [4703], [2510], [1327], [2337], [1262], [51], [3595], [8033], [6038], [4746], [6067], [8844], [6060], [6705], [436], [1919], [1104], [4358], [4840], [1165], [1004], [2675], [3045], [7224], [7921], [5004], [92], [3764], [5239], [5194], [4306], [3946], [1039], [187], [1295], [3652], [8776], [6882], [5883], [1722], [8818], [3960], [9703], [4204], [3203], [706], [5846], [8177], [8761], [3140], [8212], [6761], [7196], [6374], [2948], [4529], [4201], [2083], [6368], [106], [2786], [821], [6112], [3395], [4794], [2479], [8439], [8026], [307], [6947], [1682], [5064], [4220], [5988], [418], [6592], [814], [4647], [2863], [3495], [3952], [5022], [9497], [397], [2891], [5529], [972], [1752], [4433], [5694], [3137], [5978], [1622], [9156], [6557], [104], [2202], [6313], [4894], [2716], [725], [1005], [3917], [6754], [4111], [6426], [3310], [1884], [2420], [440], [409], [2007], [5075], [736], [80], [271], [72], [9077], [3281], [9521], [7456], [4491], [476], [1203], [1536], [3118], [4395], [5876], [4607], [744], [960], [7289], [4267], [2408], [2889], [4070], [6331], [1], [3015], [9131], [6721], [6334], [5373], [5249], [4518], [4229], [1426], [7260], [3558], [1585], [2215], [2601], [193], [8317], [9157], [2442], [6960], [8767], [4006], [240], [7786], [3240], [4907], [2070], [473], [3979], [2737], [8211], [7671], [5357], [1724], [1472], [3675], [5664], [6148], [1709], [4836], [3517], [3078], [1332], [6486], [192], [4061], [2472], [9594], [1823], [1266], [945], [3821], [2644], [6950], [3591], [3273], [8710], [5576], [5907], [2105], [1037], [6742], [8862], [3919], [5099], [3448], [2309], [7363], [9391], [74], [6528], [681], [1561], [2620], [2476], [8537], [5145], [5548], [7631], [452], [9100], [6009], [2582], [2538], [6504], [5558], [5995], [8488], [3371], [1009], [126], [5857], [7860], [4374], [9174], [3921], [6332], [503], [2877], [4643], [6330], [3870], [6417], [1178], [3357], [6869], [5594], [7426], [3041], [53], [3313], [9213], [7353], [4786], [2930], [9269], [1098], [2268], [6823], [401], [143], [7066], [6343], [2201], [5062], [2027], [9208], [158], [5537], [6496], [3963], [1530], [2487], [2507], [6945], [4553], [1813], [8076], [9709], [5903], [2638], [4860], [1663], [2742], [7902], [8188], [3339], [5863], [3521], [5764], [1605], [5206], [2965], [1789], [5668], [2971], [9646], [3271], [4490], [5024], [2060], [2636], [5975], [8970], [2846], [1371], [1647], [4333], [5280], [5301], [7082], [7514], [333], [514], [5255], [1893], [3696], [8939], [406], [2002], [3454], [6071], [2746], [6839], [8382], [6844], [3678], [1007], [4448], [2144], [2502], [7380], [1233], [2564], [4189], [6461], [1135], [689], [3288], [6819], [4058], [3163], [8799], [6239], [4365], [47], [8047], [6031], [5574], [5131], [7782], [969], [1592], [8676], [6801], [4023], [8004], [6953], [3506], [2465], [462], [2748], [8552], [7977], [113], [8491], [8873], [5412], [3366], [4087], [2579], [2800], [3795], [2131], [9608], [2360], [2469], [9261], [9452], [7560], [1822], [4735], [2429], [4105], [2872], [1578], [5231], [3409], [3076], [9075], [215], [5509], [4870], [644], [2570], [7390], [3026], [1604], [94], [2629], [9071], [6731], [1190], [8911], [1024], [5464], [7733], [3868], [4748], [2095], [7533], [1933], [6147], [2064], [314], [9469], [8672], [3992], [3412], [8228], [3274], [9457], [2457], [2256], [4955], [2680], [2450], [7277], [5174], [1358], [918], [3175], [4138], [2086], [2278], [4372], [3578], [5338], [2412], [949], [1175], [3074], [7472], [329], [9004], [8454], [4538], [217], [2057], [5614], [3502], [3394], [3128], [928], [724], [2356], [7300], [3563], [6011], [5128], [7573], [1405], [4379], [4099], [3221], [4685], [3715], [1430], [3344], [1983], [3515], [4172], [4207], [8388], [9630], [8959], [4676], [2702], [648], [8838], [2704], [4876], [4325], [5771], [2757], [7940], [8229], [5271], [8370], [3730], [6437], [8381], [2764], [2922], [7408], [4341], [3187], [3572], [2080], [3927], [3972], [2534], [903], [1393], [7976], [4597], [3703], [1980], [4982], [1766], [4639], [2706], [6395], [3932], [6320], [1029], [1707], [3376], [251], [3926], [2508], [2713], [745], [1231], [917], [3328], [1939], [1433], [1000], [8121], [1994], [6668], [1850], [5612], [646], [3831], [5248], [1486], [5372], [6204], [8424], [5974], [3099], [3602], [4605], [7350], [1734], [6048], [3306], [7534], [2828], [8312], [1495], [9522], [327], [3352], [6430], [5103], [492], [3746], [354], [5161], [7570], [7882], [986], [1584], [1875], [186], [506], [5731], [1284], [2158], [2968], [4073], [2566], [2610], [5303], [8201], [4957], [9306], [8447], [2752], [6250], [7927], [875], [3907], [4219], [3141], [1379], [3407], [1172], [5593], [3164], [3455], [3891], [2686], [9463], [1058], [2662], [3251], [6237], [4551], [7113], [3889], [1253], [4401], [176], [5827], [6364], [8568], [5804], [6394], [8193], [7748], [5455], [1476], [3247], [2668], [4917], [1885], [3837], [11], [5076], [1684], [2133], [4688], [6253], [2839], [4275], [5313], [3513], [4328], [543], [1480], [305], [303], [3863], [44], [3860], [10], [1145], [844], [855], [463], [162], [4624], [1115], [525], [6756], [443], [3575], [1120], [4309], [411], [678], [184], [1680], [3148], [2401], [9375], [1282], [4397], [2633], [760], [3662], [4480], [1363], [1077], [8906], [1758], [87], [2179], [845], [67], [117], [1955], [5057], [9663], [4234], [203], [4959], [5644], [3416], [3436], [667], [481], [1689], [1180], [7957], [6255], [6680], [877], [2941], [4112], [1463], [6925], [9399], [556], [2656], [921], [528], [1272], [18], [743], [3722], [662], [1651], [2143], [2098], [2391], [4524], [2898], [362], [3593], [616], [7881], [2874], [384], [2559], [1940], [913], [1027], [1659], [3808], [2703], [806], [4373], [944], [1649], [5936], [7214], [5490], [1424], [7267], [602], [6349], [4326], [4405], [8189], [2513], [8853], [6072], [2924], [5782], [6214], [8843], [2664], [6603], [6560], [5866], [9050], [1333], [5795], [2529], [2169], [428], [546], [60], [394], [9336], [2615], [2685], [7712], [6340], [5080], [4590], [574], [1298], [884], [2225], [4594], [1984], [8371], [5822], [3192], [4289], [1918], [1143], [1650], [1544], [1136], [3296], [1331], [4463], [1517], [880], [2298], [1730], [4441], [523], [9205], [386], [8333], [6509], [1114], [4634], [2697], [1275], [244], [71], [897], [3060], [7517], [8318], [3404], [9645], [5411], [2801], [2365], [8483], [2347], [4034], [2164], [1187], [1512], [1703], [8465], [2407], [6162], [6934], [6541], [8411], [6365], [9262], [5298], [1743], [4251], [8353], [7091], [1217], [6421], [1694], [1033], [3855], [9433], [7589], [8660], [3561], [4811], [4718], [1944], [3242], [8556], [302], [5187], [4534], [6100], [1419], [8204], [3859], [4176], [2428], [2788], [2952], [1028], [1811], [3095], [8299], [4129], [8945], [783], [9304], [2535], [3535], [3195], [6520], [1878], [1065], [7293], [7865], [5023], [3557], [6472], [2792], [1985], [8957], [7046], [1014], [4828], [1614], [8686], [4978], [3216], [2096], [4616], [2055], [6355], [4948], [9055], [3637], [5663], [1246], [5159], [2943], [1763], [3726], [5531], [585], [9671], [339], [3427], [7978], [4248], [6914], [8102], [788], [1176], [1615], [4157], [2443], [5242], [485], [3066], [3545], [6849], [2819], [9290], [1202], [7265], [1865], [2446], [3750], [6274], [9137], [4940], [7825], [1123], [3260], [292], [7177], [3813], [40], [1999], [2242], [9450], [228], [3400], [2376], [3365], [7072], [3210], [5315], [6818], [7834], [4007], [5892], [2854], [3165], [4656], [5607], [7020], [3713], [4], [6809], [4084], [8195], [967], [810], [6223], [4866], [579], [4104], [5521], [807], [3906], [3150], [4091], [4822], [5020], [7791], [5917], [1790], [484], [560], [6211], [5570], [8245], [348], [6867], [5383], [4943], [4406], [4598], [7577], [4167], [185], [6921], [7530], [5747], [6456], [3739], [9547], [2604], [8606], [7680], [312], [2683], [2101], [3877], [2870], [5744], [8070], [750], [233], [357], [5895], [7664], [2817], [9308], [5060], [7297], [4155], [7325], [9073], [2666], [4351], [55], [3729], [6599], [4475], [3625], [6594], [3856], [8640], [4796], [133], [5692], [2449], [4281], [3252], [9034], [1504], [2088], [6256], [3024], [1030], [5439], [2490], [5381], [6621], [1315], [315], [4692], [4121], [5256], [1251], [9149], [7496], [6518], [345], [1126], [6838], [2111], [3350], [8198], [5502], [6551], [6909], [3761], [5220], [3548], [7817], [4431], [7191], [5148], [7497], [2853], [250], [4415], [8290], [6266], [4125], [4249], [1973], [5238], [4717], [6449], [2501], [1375], [5263], [7117], [4620], [1250], [4240], [2645], [7213], [9456], [5642], [1113], [2597], [8845], [7562], [3504], [2078], [3590], [5158], [7928], [4052], [7968], [7606], [3303], [3114], [3939], [3615], [2448], [5152], [4606], [3235], [3120], [5189], [5115], [9616], [2338], [8536], [4504], [1395], [291], [4465], [4394], [4962], [2235], [7659], [5018], [5407], [1221], [2313], [6470], [3805], [4546], [5811], [1923], [936], [7457], [3773], [3158], [1260], [4294], [4588], [6028], [5361], [8422], [5366], [1450], [5508], [1674], [2871], [1912], [8466], [7052], [3962], [2265], [787], [2335], [6675], [1257], [784], [4779], [5611], [1653], [4873], [3843], [941], [2753], [8088], [9657], [1198], [4506], [8642], [2287], [8971], [6197], [3721], [6969], [7787], [5518], [3645], [9440], [7541], [1501], [461], [1385], [5840], [2152], [2558], [3275], [1140], [2929], [2132], [2184], [1545], [154], [1739], [2424], [2050], [867], [129], [2312], [480], [3845], [5268], [3048], [6064], [3345], [3468], [4525], [4608], [3115], [6044], [8474], [4757], [9701], [1189], [2506], [4502], [9196], [9250], [6641], [5868], [8494], [5956], [3315], [6287], [781], [4386], [4638], [6661], [5754], [9702], [8106], [9246], [1483], [1717], [7820], [1237], [7234], [350], [2933], [2765], [3368], [5010], [3740], [8119], [377], [366], [46], [6639], [297], [3490], [9443], [4640], [1372], [9609], [3918], [3734], [620], [2823], [6638], [4097], [1881], [682], [4179], [4910], [6874], [5284], [7443], [4032], [6092], [3124], [6344], [5364], [2379], [6612], [4580], [5887], [3458], [2453], [4709], [1400], [1562], [3445], [1112], [2974], [6948], [7441], [7660], [1794], [5650], [3277], [9106], [1095], [4175], [589], [7651], [2553], [3012], [4301], [3480], [7843], [2919], [1685], [3605], [112], [794], [3799], [7364], [289], [2824], [107], [2135], [2042], [5480], [336], [8263], [45], [5108], [2059], [2190], [5474], [7830], [318], [3093], [510], [6085], [4572], [6353], [3040], [2814], [815], [5106], [6781], [63], [380], [2303], [3571], [6481], [3609], [3023], [8040], [8645], [4324], [8564], [2625], [1366], [613], [2911], [504], [1935], [8046], [1873], [999], [1594], [740], [2794], [8859], [904], [1529], [1819], [1607], [2162], [2669], [550], [3725], [3623], [822], [6094], [5788], [5624], [2250], [505], [5209], [4299], [5750], [3994], [2856], [1319], [2167], [7526], [7614], [5568], [7770], [3049], [7499], [8908], [5191], [2781], [942], [2555], [7010], [2141], [2583], [7056], [937], [9398], [2480], [3470], [395], [1017], [2926], [6938], [4137], [3348], [3769], [3388], [782], [5886], [1297], [5872], [7448], [9341], [2563], [9093], [6732], [8892], [6531], [2774], [2592], [2415], [5631], [3604], [7417], [2784], [564], [4833], [7521], [6055], [4992], [5844], [4427], [1696], [4517], [4975], [1122], [7684], [282], [4451], [3294], [4846], [6538], [2945], [7605], [1422], [5679], [6845], [4349], [6724], [5433], [5173], [797], [3200], [6857], [4771], [1660], [6000], [6924], [2452], [1410], [5512], [3033], [3183], [7391], [1900], [4336], [6474], [993], [3520], [5597], [8819], [7909], [4200], [483], [6792], [6311], [1188], [4571], [3069], [8484], [3665], [1044], [4115], [1094], [3018], [8471], [1099], [1826], [2770], [351], [1042], [4213], [4775], [6050], [352], [321], [2608], [2039], [3599], [6961], [9690], [2192], [8271], [4650], [3000], [6973], [4599], [2454], [587], [3373], [8650], [2323], [3931], [7789], [687], [834], [4573], [9331], [2769], [2696], [5724], [2942], [2659], [8166], [680], [8448], [1702], [3439], [4862], [6540], [598], [125], [3894], [2226], [294], [2509], [6193], [1369], [808], [79], [3172], [5388], [2557], [1746], [957], [4185], [269], [1487], [1852], [2177], [5096], [5781], [1606], [3447], [1158], [2187], [1489], [4297], [5299], [5143], [4273], [1052], [3681], [1214], [3287], [8879], [4690], [7520], [3850], [6279], [2987], [2160], [3999], [1229], [7853], [3285], [1330], [3873], [1557], [1548], [1096], [8808], [4149], [1025], [6362], [6018], [3466], [4858], [5538], [2598], [3857], [197], [8530], [7516], [8582], [4050], [607], [3508], [3598], [2545], [5402], [4410], [9470], [4342], [6810], [2641], [2091], [2099], [1522], [1628], [7011], [2467], [767], [6403], [2065], [604], [2759], [6549], [9056], [3583], [7481], [7296], [245], [4812], [2931], [2607], [8941], [4168], [2047], [2522], [1252], [5342], [988], [1227], [7519], [2776], [2046], [1317], [8812], [2426], [3699], [35], [7018], [5312], [7939], [4627], [447], [7190], [4498], [5823], [8572], [2458], [2236], [4184], [1040], [1341], [1059], [923], [4885], [519], [6777], [2995], [3804], [7864], [157], [2028], [3682], [2301], [5998], [6708], [8210], [711], [4673], [1223], [3262], [5598], [306], [4737], [5643], [7487], [7821], [4875], [4816], [7230], [451], [5942], [3131], [471], [4657], [9478], [6752], [6607], [8294], [2925], [8238], [4030], [236], [5423], [7757], [3656], [4098], [2388], [4979], [8351], [8652], [3142], [1454], [6987], [1193], [1729], [2842], [4107], [8327], [260], [2369], [7592], [8150], [6041], [9708], [6901], [6308], [4332], [4937], [2523], [6080], [530], [1162], [9162], [6375], [8326], [3815], [4893], [5403], [6730], [4710], [2013], [3704], [6635], [1688], [1810], [88], [4350], [4227], [5881], [5859], [8414], [3566], [4130], [8555], [8902], [3824], [5244], [8677], [7338], [6399], [2478], [8258], [2525], [2782], [8300], [6393], [7140], [732], [2547], [6077], [1364], [4558], [102], [4939], [29], [985], [1642], [673], [9009], [1948], [952], [2183], [1467], [4163], [7281], [5992], [8834], [2419], [179], [2595], [1916], [4878], [2266], [7144], [1644], [8730], [8155], [1110], [2290], [3624], [1032], [3576], [8303], [173], [4621], [2291], [9678], [3319], [8217], [6831], [1620], [5310], [211], [1855], [101], [3895], [6583], [766], [5041], [5333], [7023], [8948], [7306], [9209], [3673], [863], [2745], [4221], [5264], [8068], [9439], [716], [9556], [8968], [3603], [2324], [3279], [1431], [5091], [6109], [5638], [7582], [3189], [4225], [1949], [4990], [139], [9675], [5162], [7615], [6846], [2694], [8036], [1212], [8740], [4036], [6114], [2297], [1791], [6916], [8508], [1713], [1125], [939], [4443], [3379], [2222], [5623], [4357], [4544], [6047], [7083], [4838], [3766], [330], [804], [865], [6023], [3061], [5179], [4965], [5684], [9409], [5328], [8549], [3434], [5603], [6208], [5534], [2366], [7271], [1506], [2772], [2585], [4898], [5236], [7047], [7423], [8999], [1539], [8917], [772], [3125], [2390], [2771], [726], [8546], [7425], [5278], [8511], [6890], [2500], [3701], [1840], [3070], [5258], [3738], [9511], [4270], [2690], [9591], [6763], [5048], [2239], [3295], [4715], [5086], [3220], [5012], [3683], [2905], [3807], [6517], [3965], [8624], [3419], [7601], [6536], [2586], [4837], [1654], [2833], [7084], [6115], [6729], [6386], [7677], [9052], [1579], [6090], [1603], [3493], [2805], [3744], [1555], [881], [4983], [3381], [1708], [895], [1977], [5652], [4161], [3444], [2635], [4818], [2272], [7969], [8894], [4540], [4919], [3867], [3013], [9567], [3646], [2206], [2213], [5709], [1768], [1106], [6807], [2432], [8610], [4152], [9714], [2014], [2740], [3570], [1992], [1201], [3630], [8152], [4056], [4684], [6748], [3465], [7964], [879], [4574], [553], [8551], [5923], [4100], [1185], [3351], [3973], [4891], [3291], [5072], [4581], [7085], [3949], [4492], [73], [7537], [757], [8405], [3471], [3225], [9633], [1342], [983], [3832], [1060], [9079], [8251], [7550], [3250], [1675], [838], [534], [9326], [7524], [1950], [6232], [9507], [2153], [2721], [8159], [3984], [1866], [1465], [6189], [1314], [9419], [2940], [2185], [8775], [6526], [376], [5037], [5176], [4439], [273], [991], [5294], [2689], [1088], [4378], [1016], [1621], [2372], [6851], [9259], [4191], [3574], [6790], [9420], [5817], [4732], [1279], [4205], [2021], [7797], [7057], [2102], [1961], [3053], [2916], [1613], [752], [4464], [9224], [4021], [7093], [3405], [6684], [507], [5118], [2632], [9281], [3783], [6634], [3714], [9260], [7710], [5693], [9618], [1503], [3731], [7637], [3585], [568], [4010], [6750], [7137], [9225], [90], [6587], [774], [8093], [5705], [4813], [871], [2939], [334], [3025], [7116], [3176], [1133], [8837], [130], [2630], [6501], [4288], [6385], [9481], [5410], [612], [5622], [6820], [2673], [4805], [8963], [4511], [8329], [5584], [7205], [170], [464], [4478], [8943], [882], [3587], [6217], [3677], [4696], [6445], [4469], [5031], [6780], [1365], [5615], [3698], [121], [1757], [1324], [955], [224], [2486], [1477], [1479], [9275], [43], [359], [4677], [4879], [2714], [1361], [3649], [8801], [2009], [368], [5172], [2756], [2864], [4653], [8522], [1767], [4727], [956], [1481], [1967], [2012], [7221], [3562], [1497], [854], [2909], [2124], [5774], [4793], [5339], [1398], [7406], [5767], [805], [8146], [5155], [2849], [4716], [4577], [2447], [1352], [7419], [3792], [2357], [9621], [4935], [9010], [7723], [6433], [943], [7694], [8741], [2067], [1072], [977], [1464], [6967], [2576], [2951], [1814], [1741], [2858], [2097], [4468], [9325], [4063], [2729], [1770], [3904], [831], [4829], [4807], [2316], [1546], [631], [1491], [2847], [175], [288], [1320], [2051], [7473], [3830], [9022], [8022], [2045], [9315], [191], [6954], [5833], [3278], [8517], [5851], [2544], [889], [637], [7799], [3298], [1658], [6361], [8260], [1905], [6388], [2281], [4001], [5212], [1748], [4135], [3546], [7965], [3463], [3415], [3236], [7626], [6407], [7662], [3955], [5436], [1056], [6360], [6854], [8638], [747], [9048], [4929], [2019], [9177], [1267], [6384], [3676], [2468], [6529], [731], [6990], [4044], [4839], [1754], [322], [1500], [105], [6816], [3488], [6946], [1824], [5515], [4262], [8016], [8514], [8621], [372], [1101], [5044], [2441], [8830], [7844], [8596], [1403], [3760], [3181], [5812], [3101], [5522], [2639], [7669], [6842], [5302], [4522], [8322], [1872], [9092], [6837], [1820], [9656], [6414], [4930], [7340], [6718], [2346], [5432], [3937], [434], [6664], [5111], [1889], [7142], [204], [2157], [1801], [3829], [676], [6152], [2040], [6975], [7136], [1793], [8132], [8073], [3219], [3207], [2831], [5009], [4765], [2011], [4414], [6113], [7513], [5279], [790], [7966], [1083], [2214], [5504], [1870], [8055], [5089], [3499], [9061], [3534], [9512], [1759], [1634], [7974], [4355], [3358], [2654], [3364], [2700], [4769], [8253], [3056], [2199], [370], [5927], [3369], [6132], [163], [2352], [9012], [1705], [6464], [3257], [5506], [7189], [2229], [1851], [2142], [2571], [1565], [2895], [2588], [3996], [2120], [1750], [2188], [4699], [4206], [6981], [3372], [2248], [1782], [3198], [9359], [3316], [3178], [3104], [5395], [5871], [6649], [8519], [5070], [3580], [3162], [1599], [5649], [7252], [3751], [1577], [3451], [1998], [6618], [5146], [3403], [4280], [3692], [495], [3301], [6985], [1209], [1563], [4035], [2180], [1438], [858], [3705], [4375], [5429], [927], [8417], [5702], [5630], [5682], [9288], [4781], [5667], [9242], [7549], [9252], [8871], [5565], [2572], [7090], [383], [8954], [531], [6779], [940], [4237], [3481], [9136], [4945], [2967], [2691], [4830], [5049], [8223], [2392], [6045], [3157], [4385], [5416], [2775], [1235], [1204], [2956], [8181], [581], [2692], [7413], [6593], [6203], [9096], [1958], [8953], [5345], [5688], [1041], [7014], [3784], [8903], [8328], [8282], [3706], [4278], [5382], [8138], [7695], [1863], [7801], [7369], [1593], [3420], [7509], [8074], [4874], [6466], [3043], [2804], [7268], [7740], [636], [4018], [6829], [8721], [852], [1657], [3887], [9314], [5473], [8590], [449], [226], [1312], [2751], [6590], [1652], [5532], [5092], [1276], [5420], [4782], [4245], [2514], [7588], [5424], [4897], [9324], [1849], [331], [8368], [5307], [8311], [1942], [1853], [512], [3433], [6301], [3902], [9488], [5889], [8784], [498], [8214], [9038], [7824], [3204], [9139], [7866], [4915], [832], [2331], [3916], [7147], [692], [4216], [2736], [7855], [2151], [2436], [9240], [4434], [4292], [4376], [4068], [3500], [6207], [5331], [9652], [66], [5997], [5286], [3522], [2826], [1068], [5980], [4304], [2682], [4114], [1119], [4384], [349], [1265], [8864], [7829], [4743], [4845], [5640], [8157], [385], [6682], [1963], [4808], [3314], [4976], [1991], [555], [4165], [3410], [6401], [4244], [4901], [4637], [5934], [4557], [3688], [2373], [4933], [7503], [3884], [222], [2652], [2884], [715], [1485], [7150], [3057], [3554], [4060], [3976], [6451], [3848], [3032], [8400], [3966], [2959], [1073], [3304], [9220], [5391], [4658], [5635], [9720], [6834], [3092], [615], [5007], [2022], [2711], [3426], [713], [970], [978], [488], [1161], [4002], [248], [2249], [973], [3782], [7602], [6741], [4474], [4582], [3201], [6054], [8100], [6648], [5389], [4450], [3292], [3249], [9049], [4437], [21], [4509], [6396], [3846], [6192], [7984], [4113], [6358], [7963], [3179], [8315], [3876], [2456], [4316], [6991], [14], [1786], [8964], [5376], [9519], [3644], [1100], [548], [5765], [1543], [2631], [8094], [5727], [4272], [7335], [3794], [9191], [7000], [4400], [6230], [8842], [8319], [4489], [3446], [5681], [5715], [3680], [5758], [422], [497], [6645], [8366], [9485], [2979], [661], [5112], [820], [8696], [6409], [6065], [8904], [990], [6999], [4398], [2857], [5384], [5322], [8098], [7763], [2969], [8158], [2672], [4066], [9568], [6429], [7119], [8288], [1929], [4841], [7512], [4904], [8888], [1351], [1751], [2549], [6205], [2020], [7393], [1508], [4679], [7848], [5543], [7688], [5136], [7373], [6789], [9248], [6747], [920], [1835], [7401], [2495], [6744], [9103], [9528], [3022], [1374], [1432], [3968], [8276], [4411], [3691], [1672], [7061], [182], [4166], [6573], [4626], [6695], [4302], [7692], [591], [7368], [2998], [1596], [3933], [3910], [557], [7051], [3936], [5165], [1629], [2628], [9520], [2793], [256], [4231], [6893], [1845], [257], [421], [1399], [6502], [5251], [6095], [4821], [8406], [459], [166], [6686], [4190], [2599], [7922], [4183], [2981], [1163], [6076], [6940], [7016], [237], [5325], [5636], [1981], [3950], [332], [6957], [3359], [3356], [7158], [2838], [2962], [68], [494], [2744], [6487], [6015], [4241], [4734], [9278], [7162], [7067], [9476], [7980], [3027], [1595], [6773], [6527], [6606], [5884], [1833], [6880], [3800], [6016], [4520], [4552], [183], [1643], [3948], [3343], [1153], [3094], [5054], [5347], [3239], [6532], [8057], [9305], [7101], [8430], [1670], [5897], [2868], [7318], [3537], [5371], [7675], [5469], [5421], [5805], [4195], [3882], [196], [3896], [9661], [4888], [6180], [7135], [3993], [262], [5400], [4486], [2240], [6219], [8500], [9580], [8399], [2991], [3360], [2717], [8699], [9327], [765], [2830], [5293], [3227], [3967], [8035], [4927], [4033], [5462], [7249], [8011], [5710], [8576], [2860], [1633], [1434], [7625], [9081], [5098], [8284], [8307], [7596], [2730], [4354], [6774], [5751], [9367], [8337], [593], [7076], [2459], [8436], [4454], [5585], [2015], [3117], [8197], [7042], [4772], [2220], [6738], [7075], [6555], [3899], [3286], [4089], [1057], [6570], [3596], [61], [1692], [7764], [521], [1921], [710], [8085], [5390], [4095], [8813], [6243], [3819], [7907], [2218], [4057], [430], [1540], [3098], [8372], [890], [3943], [7124], [3810], [4483], [906], [3406], [6694], [3146], [4665], [2255], [1494], [5190], [9078], [5825], [1776], [8731], [9045], [4340], [6714], [5132], [8023], [4550], [5288], [5761], [2992], [2999], [7668], [2181], [8118], [4561], [6628], [3432], [7507], [7480], [1048], [1795], [4315], [1641], [8079], [9155], [3978], [1938], [9404], [2129], [6719], [3486], [4029], [5670], [2766], [554], [9339], [3503], [2382], [3674], [4946], [8186], [2463], [551], [2927], [8145], [3283], [4226], [2], [6348], [4752], [7375], [7225], [3254], [8979], [893], [3332], [1882], [1566], [686], [8185], [8995], [5055], [4117], [9554], [2584], [8410], [3234], [6036], [4625], [5963], [8489], [2709], [3133], [4674], [691], [369], [3872], [8594], [771], [7437], [4268], [9460], [1906], [5472], [8066], [9340], [4059], [9555], [7714], [7392], [6605], [5697], [5068], [5097], [6168], [6170], [1473], [601], [6117], [7120], [3514], [5446], [8408], [4689], [6228], [5835], [1909], [2473], [5939], [7490], [9301], [2978], [3065], [8876], [9672], [4537], [2587], [2657], [9000], [3474], [4533], [618], [4619], [7028], [2950], [9710], [842], [6562], [1697], [8815], [3690], [9530], [7044], [9216], [8993], [5013], [4143], [5001], [4792], [5450], [8344], [6457], [4000], [3068], [6727], [898], [6209], [8966], [3392], [5533], [5363], [6620], [1269], [5589], [5749], [7141], [3063], [8942], [6674], [6646], [6683], [1521], [5766], [5030], [1974], [5247], [9697], [2216], [3459], [7542], [9287], [1917], [3987], [8969], [8744], [4377], [1978], [9286], [7185], [7302], [5929], [1200], [6138], [2270], [3243], [9015], [8231], [3346], [6304], [6609], [2836], [5329], [2650], [7432], [6652], [2862], [5095], [4317], [2637], [7813], [4662], [4027], [6001], [7088], [7753], [2701], [9592], [3208], [8918], [4367], [2147], [7938], [6716], [232], [5355], [7272], [7856], [3551], [7211], [3413], [6688], [7642], [8654], [5260], [5470], [7628], [2489], [1130], [3199], [6588], [7872], [3153], [8122], [8218], [7842], [2000], [7284], [7154], [4243], [7721], [8701], [9170], [8541], [6793], [9333], [8667], [5211], [3317], [848], [3779], [4565], [3957], [8402], [5669], [6002], [6471], [7903], [690], [6453], [6488], [8313], [5184], [5810], [9655], [6979], [1423], [2168], [8173], [2966], [2698], [3308], [7366], [8697], [2982], [3028], [8897], [9085], [2670], [6798], [6380], [4776], [1474], [7701], [9441], [6356], [3684], [7792], [5716], [9179], [9355], [6081], [9200], [4711], [2245], [9249], [7852], [9362], [8309], [6381], [4997], [4968], [6550], [5634], [438], [9437], [6505], [8746], [1860], [5166], [4180], [6124], [8394], [3664], [6083], [5960], [7992], [8587], [7269], [4766], [8148], [3577], [9023], [9218], [412], [4334], [1067], [9611], [7422], [7630], [5909], [6499], [2075], [9393], [5906], [3600], [5320], [309], [3903], [5520], [131], [5137], [6572], [4722], [8048], [4146], [7186], [624], [5966], [3956], [8786], [5129], [178], [7399], [8225], [7160], [1111], [5554], [6278], [9041], [7374], [6413], [7835], [5806], [7788], [7245], [4062], [9502], [2444], [6101], [7359], [2482], [1482], [4991], [7222], [9499], [1510], [5786], [9515], [3865], [8688], [4815], [1533], [6546], [7367], [3266], [6493], [6367], [5856], [5171], [9267], [6508], [5078], [4228], [5456], [2377], [3010], [7802], [3224], [3616], [5185], [8554], [1667], [8230], [7469], [2512], [7886], [2016], [7973], [1695], [8077], [1738], [5581], [4972], [5813], [3776], [2193], [5306], [9060], [6142], [7050], [8151], [8722], [3834], [9635], [5575], [4482], [4880], [8000], [4741], [7110], [1864], [2524], [6406], [9053], [4857], [4039], [3798], [3059], [3145], [8275], [8469], [8523], [8256], [2238], [1719], [8017], [91], [7616], [5641], [246], [5891], [2295], [200], [5365], [3970], [5437], [3647], [6186], [5486], [2455], [2071], [2149], [3226], [1527], [4425], [3082], [6736], [4026], [3866], [5894], [4951], [9428], [8342], [5993], [7031], [3329], [7545], [8464], [242], [6913], [8233], [6032], [1326], [1082], [8641], [4908], [9257], [3231], [3550], [8703], [3479], [5482], [8649], [3289], [4849], [5613], [5270], [3037], [3505], [5569], [4652], [3494], [8518], [3321], [3610], [1155], [7685], [1601], [4548], [2812], [8397], [8331], [487], [6467], [9233], [9487], [1216], [2913], [4337], [2825], [7033], [4636], [1804], [2380], [444], [5167], [4312], [7554], [189], [3567], [5150], [4859], [4046], [7062], [8349], [3928], [1152], [4494], [954], [4541], [7219], [2578], [9160], [9037], [6535], [437], [1380], [6103], [9238], [8083], [6485], [4188], [5619], [3651], [2840], [5696], [7759], [3631], [1412], [4038], [1970], [660], [5605], [5369], [655], [8586], [3046], [2073], [4455], [1627], [4799], [5905], [6930], [2072], [6241], [213], [5556], [4773], [258], [25], [4651], [3530], [7501], [3998], [2985], [5633], [247], [4313], [7264], [4622], [8179], [7946], [8600], [2348], [4256], [1013], [8796], [6294], [9545], [4196], [426], [1386], [5415], [1448], [5466], [4420], [1673], [1589], [9659], [2843], [1547], [1787], [4323], [2079], [8006], [6715], [7304], [8928], [8689], [4047], [8209], [4800], [2603], [5662], [8877], [6107], [2253], [2813], [6796], [4390], [4744], [3559], [924], [6022], [9357], [8924], [1526], [8913], [6553], [7807], [5789], [7673], [454], [9695], [6962], [3935], [9159], [4993], [2081], [8875], [4842], [9392], [9426], [9298], [7648], [8708], [6558], [3814], [8097], [5791], [3362], [1046], [3612], [3108], [7571], [8270], [9322], [5051], [4618], [7960], [8822], [6145], [3565], [9658], [6734], [8446], [9430], [6245], [3635], [6254], [6524], [2947], [1274], [6884], [6165], [7247], [1727], [4964], [8558], [4169], [171], [7936], [2796], [7785], [7781], [6039], [9721], [4159], [4445], [7993], [6127], [8769], [7876], [9371], [3523], [1987], [3440], [2333], [2647], [76], [5666], [1798], [7041], [8378], [7212], [9064], [5814], [6129], [9381], [2573], [8691], [1205], [2084], [7026], [8302], [4182], [4081], [3126], [5673], [979], [7130], [8644], [2568], [5444], [3597], [2219], [7398], [2820], [8114], [6270], [6370], [565], [6778], [6554], [8254], [3169], [7929], [8065], [9059], [5562], [2743], [1511], [2310], [7959], [5083], [2624], [8895], [7294], [4101], [4804], [4045], [2575], [7347], [6062], [8243], [6758], [538], [4258], [6242], [4695], [5616], [6389], [9063], [3768], [5737], [6323], [2353], [2485], [9253], [8101], [7803], [6600], [3160], [2536], [8679], [1525], [7849], [2251], [1765], [1084], [621], [730], [6670], [6817], [4896], [4012], [6123], [5257], [4260], [5082], [8131], [4254], [6631], [6971], [3980], [5430], [8824], [2562], [7505], [5527], [1720], [633], [4233], [5308], [3193], [4327], [2908], [177], [3477], [5519], [6333], [8492], [7019], [6097], [849], [4407], [9047], [6419], [4286], [1090], [8527], [3915], [5217], [7378], [468], [5252], [5700], [9185], [9237], [4503], [3912], [6519], [1781], [1564], [2140], [4890], [8772], [1249], [7804], [7092], [5916], [6373], [8032], [3657], [5985], [9444], [4630], [4987], [2349], [5227], [8110], [4019], [2076], [3594], [2284], [1236], [6765], [3383], [8931], [6848], [7551], [4579], [1968], [5845], [786], [9700], [8364], [4539], [962], [5036], [841], [6182], [8661], [4683], [4667], [1151], [1390], [8325], [6613], [4954], [8857], [5426], [1618], [8247], [3825], [2058], [9276], [1701], [6942], [1396], [6676], [296], [6154], [6233], [4918], [1969], [3299], [2276], [6179], [6309], [3355], [4285], [6188], [5893], [1384], [9105], [2928], [3374], [6977], [6589], [3402], [7078], [9588], [5181], [7003], [5826], [7077], [8807], [6700], [9223], [7032], [4736], [6269], [9076], [2677], [5153], [6427], [5950], [9649], [1085], [5873], [9577], [5398], [3034], [3261], [1976], [3418], [3618], [3475], [4600], [6887], [491], [3733], [1146], [5417], [7069], [8003], [4708], [6489], [7621], [6252], [30], [7132], [5601], [8361], [5499], [1377], [9349], [8357], [9402], [5327], [8461], [3617], [6622], [6883], [1471], [4362], [1639], [6877], [8305], [561], [3335], [6548], [8866], [9153], [8835], [7906], [7021], [6303], [2993], [4988], [9033], [7934], [8377], [6236], [2976], [8616], [5032], [4583], [5830], [5266], [8437], [8961], [8455], [7355], [3375], [9070], [5250], [3100], [4158], [6755], [9718], [5555], [9291], [6338], [4705], [3997], [8647], [8648], [5479], [5913], [1761], [7523], [2163], [8027], [5879], [7354], [2126], [8355], [8627], [8885], [7395], [3817], [6580], [4526], [8030], [1505], [2211], [7590], [3900], [8937], [6900], [1186], [2887], [1646], [8298], [8614], [1744], [8096], [9425], [1635], [2492], [5000], [4861], [8618], [4417], [9431], [3560], [151], [3945], [1904], [1528], [1452], [3435], [9623], [8038], [6922], [2364], [9188], [6821], [6495], [9582], [5773], [7416], [8553], [7508], [7565], [5567], [6928], [3913], [4174], [4009], [9705], [5541], [3361], [6410], [8191], [7479], [7246], [4922], [3170], [8622], [2503], [6066], [7434], [4562], [9299], [5896], [5962], [7427], [9124], [6178], [4162], [2036], [7193], [9145], [3778], [2526], [5127], [8980], [2138], [817], [4016], [8950], [3788], [6626], [3507], [7291], [8512], [6650], [5142], [8542], [2062], [6709], [5572], [6347], [9111], [2533], [8285], [3985], [1457], [5380], [8615], [3862], [4726], [7846], [8998], [6277], [8570], [2516], [780], [1427], [953], [9285], [2816], [9062], [6994], [7105], [7547], [6275], [8655], [3954], [5409], [3264], [9632], [6276], [8754], [7693], [3975], [4855], [5346], [8176], [2963], [5828], [2732], [8246], [3977], [6149], [610], [2761], [8140], [1255], [1496], [3389], [1812], [8103], [2890], [8785], [1523], [8547], [1986], [9673], [3536], [3781], [3775], [3693], [5379], [9069], [6723], [9255], [8847], [3911], [7967], [6040], [6927], [3710], [3320], [7176], [2540], [4671], [5735], [7121], [5316], [6376], [159], [1710], [1925], [2848], [5796], [8059], [6835], [7995], [8681], [1225], [6591], [8064], [7851], [9429], [8054], [1345], [8535], [776], [4055], [2785], [9178], [4202], [6983], [1516], [6321], [7280], [926], [8709], [5151], [5646], [559], [5130], [7925], [5547], [6283], [3989], [7060], [8286], [5911], [5353], [2282], [3191], [4092], [8115], [8589], [7958], [652], [856], [7699], [5428], [5368], [8765], [8350], [4277], [7979], [8533], [6325], [5234], [5005], [8395], [6800], [2227], [1587], [8792], [6423], [7312], [6662], [4477], [7478], [7420], [3611], [7323], [9098], [2936], [6673], [6218], [3728], [343], [5226], [6633], [5970], [3667], [5276], [9289], [6082], [1989], [2612], [3539], [5780], [8978], [2617], [8473], [8869], [7750], [4154], [8598], [5900], [6598], [5077], [5676], [3990], [4569], [6625], [7298], [1711], [8415], [1755], [5370], [6475], [7888], [5053], [6726], [9266], [9118], [8467], [8269], [5865], [5573], [420], [8459], [5435], [6669], [7539], [6258], [5277], [3135], [1414], [9572], [2750], [1573], [6144], [1609], [1700], [4865], [8133], [1549], [4923], [3282], [5483], [5832], [8029], [4458], [4497], [6091], [8428], [5102], [7111], [2378], [7873], [8482], [5733], [1443], [1956], [3438], [1732], [7208], [3532], [6896], [2902], [3519], [6902], [5958], [4252], [7777], [1105], [6004], [7942], [7832], [3079], [1632], [2018], [8884], [3627], [2394], [4247], [4145], [6160], [5442], [5134], [2302], [5201], [796], [3411], [4707], [8416], [4102], [1488], [3816], [8872], [8346], [7388], [8690], [8504], [5489], [7622], [6617], [6224], [3741], [4770], [6602], [3334], [7720], [7500], [5945], [3443], [5478], [4666], [8625], [6702], [3549], [2640], [4428], [7575], [2997], [8687], [8972], [7253], [7133], [4714], [3338], [5317], [2370], [3255], [3244], [2708], [8716], [6746], [254], [5850], [826], [9417], [8714], [3636], [8037], [3422], [3938], [4139], [8781], [982], [7795], [8757], [6720], [3898], [6577], [9422], [4986], [8940], [8444], [6074], [741], [6665], [9576], [7885], [2876], [9564], [1230], [3641], [5223], [9670], [2901], [6412], [77], [569], [2768], [9016], [7384], [2315], [3232], [5982], [1127], [9273], [6506], [8295], [4005], [7887], [7847], [7229], [5984], [8982], [6415], [3190], [3668], [3020], [2899], [5746], [4980], [9438], [9229], [8578], [3152], [575], [5487], [2340], [5618], [4801], [4142], [6697], [9001], [9385], [6051], [2113], [4371], [8664], [1447], [9380], [3753], [958], [5647], [7713], [4387], [5815], [7236], [7454], [7579], [4668], [6881], [2068], [8750], [5874], [1401], [8850], [7683], [3367], [1049], [3064], [688], [5101], [1774], [5511], [9640], [8021], [7377], [7164], [5493], [3245], [4999], [6802], [7935], [6952], [210], [9348], [7175], [8391], [1277], [5776], [7703], [2642], [1920], [2121], [9514], [6387], [1097], [4877], [3318], [9541], [4432], [9112], [3757], [1894], [7165], [3086], [9329], [8766], [4515], [6564], [9030], [5967], [5443], [7356], [8617], [3113], [9032], [7266], [3654], [7702], [5056], [7827], [2548], [4144], [9651], [4412], [961], [1337], [5414], [347], [8860], [4500], [9094], [9226], [8205], [4869], [6206], [7931], [2263], [7707], [4925], [7818], [4131], [2085], [4826], [3964], [7619], [4513], [6784], [7492], [9472], [4739], [2341], [6455], [5399], [1636], [3452], [1045], [1394], [2917], [5976], [7262], [5449], [9387], [1830], [5578], [8135], [6084], [2471], [5014], [8343], [9002], [8018], [1389], [549], [2720], [5797], [7081], [3441], [3527], [1914], [8445], [1108], [9584], [2198], [9017], [4409], [5121], [3105], [8595], [7349], [2866], [7342], [9596], [968], [3342], [7672], [8883], [9338], [8738], [4043], [5999], [2722], [7609], [6139], [2170], [2385], [9379], [9477], [8470], [279], [6383], [3853], [3014], [8534], [8509], [3754], [6328], [7912], [4914], [6891], [4496], [103], [641], [2254], [4753], [8192], [3184], [2395], [2511], [3983], [5790], [2351], [656], [3130], [6699], [3322], [2914], [6222], [5262], [4282], [639], [7908], [8751], [2008], [1877], [5135], [7438], [5349], [86], [2049], [1718], [8889], [8930], [7171], [6262], [5599], [5725], [6797], [8605], [1132], [9303], [9518], [6830], [5559], [6739], [2359], [5240], [1164], [3897], [6926], [1092], [9019], [3700], [7916], [6135], [3397], [17], [19], [7112], [391], [15], [3924], [4322], [6642], [8846], [5680], [3385], [6172], [6444], [1834], [6025], [3818], [9459], [8934], [5973], [1293], [1531], [8042], [4883], [642], [7871], [9557], [7168], [1381], [6404], [9495], [1244], [7945], [3772], [9570], [7950], [3174], [8165], [3796], [8182], [9383], [6226], [1735], [1254], [8901], [9513], [5987], [9115], [7985], [8753], [2649], [3991], [2286], [4230], [2554], [9307], [8528], [6808], [606], [8985], [7442], [8124], [2543], [6970], [4887], [7115], [9312], [8493], [3340], [6280], [4819], [1373], [9057], [7585], [6371], [7488], [7525], [9414], [4950], [8733], [7255], [1769], [2912], [9054], [3579], [4265], [7187], [8341], [7096], [7275], [7429], [8673], [5530], [6762], [3639], [5441], [7104], [8005], [1957], [3030], [365], [8565], [3854], [5629], [6121], [7998], [4851], [7608], [4944], [8242], [8045], [9707], [2684], [3961], [4817], [5052], [9625], [8828], [5571], [5085], [8261], [7678], [7705], [8669], [216], [4416], [3425], [3531], [9698], [1669], [1340], [6574], [2984], [3842], [9546], [4645], [1348], [6544], [4222], [4778], [8383], [5046], [5760], [4827], [5405], [5949], [9566], [7997], [2852], [4530], [3633], [4223], [9172], [3614], [8759], [7452], [3341], [5842], [8601], [9198], [2109], [3001], [155], [4346], [4702], [987], [1883], [1899], [3159], [3337], [3803], [8069], [894], [8250], [3214], [4783], [4559], [1686], [4481], [2648], [7576], [7412], [535], [2799], [5188], [7569], [3569], [1012], [6915], [6822], [8161], [1993], [813], [9480], [7663], [3626], [6581], [7594], [2244], [6559], [6439], [6305], [6441], [839], [6265], [4392], [5772], [2438], [4785], [8078], [8451], [6895], [2972], [5653], [8490], [9688], [9104], [3096], [8136], [5732], [4909], [2623], [8760], [3482], [6886], [6516], [7742], [6307], [3491], [8707], [7828], [1248], [5959], [5991], [2460], [3259], [7385], [4065], [4266], [9279], [701], [6989], [3442], [8409], [2994], [8367], [1954], [5818], [6601], [1731], [825], [6767], [7924], [9644], [1678], [8274], [8374], [398], [4356], [7884], [3016], [2988], [5283], [1690], [5225], [5713], [167], [2355], [3330], [1442], [286], [1466], [9151], [4238], [378], [8720], [7904], [8747], [6693], [622], [7337], [8790], [2038], [4408], [6034], [4199], [5471], [9051], [7762], [3297], [933], [4512], [1131], [4934], [2665], [1062], [1946], [9361], [4623], [2104], [4123], [4020], [7455], [4014], [1712], [5564], [4832], [7494], [8462], [2518], [9654], [5583], [6794], [5707], [9602], [9158], [4706], [8067], [4132], [4814], [1783], [7166], [9517], [5671], [1519], [9504], [4694], [3501], [3851], [1107], [6029], [2232], [8206], [9573], [1144], [9598], [3116], [2330], [7893], [9087], [7665], [1302], [2590], [2949], [8735], [4554], [4493], [5720], [5332], [3253], [5199], [2530], [5113], [9537], [1704], [2285], [7475], [5609], [7352], [5932], [6643], [6229], [168], [2627], [6063], [8420], [1294], [2873], [4291], [8089], [7745], [6078], [3849], [6710], [8172], [5164], [5484], [6840], [6469], [4345], [9603], [6128], [3265], [4564], [5109], [1664], [4381], [7157], [4396], [8619], [8075], [358], [6479], [4566], [410], [5740], [3568], [6992], [4926], [8224], [4421], [8442], [7599], [6935], [4768], [6608], [7557], [5986], [4217], [7476], [6937], [4787], [8626], [283], [6832], [4810], [8248], [7181], [4635], [9236], [6712], [7227], [7527], [2430], [7495], [7421], [4911], [4293], [8573], [5215], [6521], [4335], [9589], [7430], [4353], [3869], [1247], [6024], [7179], [6379], [8354], [552], [1936], [7996], [6428], [6234], [6164], [2387], [2725], [1934], [6246], [5783], [9529], [8516], [4568], [5193], [4128], [4881], [8630], [4211], [4198], [5117], [2117], [6286], [5485], [6689], [8362], [4847], [8507], [7910], [9358], [8702], [8907], [1043], [7895], [8579], [5651], [1462], [7894], [7462], [4370], [8611], [946], [2532], [9406], [2556], [7686], [2894], [9128], [6905], [5849], [5755], [3951], [7303], [8289], [229], [9400], [7926], [4096], [3089], [8310], [5517], [1309], [1514], [8592], [8235], [8804], [4632], [7647], [8338], [8336], [7949], [4094], [5800], [6073], [3423], [3484], [5928], [8221], [4921], [869], [5292], [1671], [7263], [9318], [6833], [9390], [7641], [3790], [7109], [4380], [5110], [7874], [3206], [4578], [517], [8053], [7358], [6043], [9166], [7535], [2363], [6476], [6259], [7279], [7489], [3258], [8659], [6249], [7273], [1343], [9187], [6216], [630], [7464], [8915], [7207], [7691], [8360], [5659], [7518], [1502], [7086], [4487], [8113], [7428], [5935], [7522], [2118], [8698], [4731], [7814], [8320], [9113], [8423], [8063], [9206], [4440], [8196], [8811], [9473], [7725], [6185], [3102], [6847], [6369], [6089], [8783], [1138], [7310], [1360], [597], [5033], [9282], [9132], [8015], [4725], [5157], [2207], [6086], [7698], [8956], [8434], [5621], [2171], [8292], [2423], [6111], [3592], [9593], [4259], [3655], [7194], [5951], [9418], [7682], [9011], [9271], [6988], [4584], [7445], [5983], [653], [4843], [6438], [6052], [7578], [7106], [7410], [666], [5957], [8559], [7282], [467], [5701], [7360], [5341], [8823], [8496], [4759], [7511], [6706], [2307], [5200], [1997], [6757], [9489], [1469], [2957], [344], [2139], [4604], [1869], [6571], [5523], [8014], [3892], [2189], [5006], [9101], [1806], [8774], [6861], [9363], [8142], [8049], [6281], [2462], [9509], [5691], [1147], [4701], [7008], [8265], [5831], [5440], [9694], [7540], [8515], [8563], [9578], [6759], [8123], [6136], [9084], [6408], [180], [8001], [5839], [8316], [8991], [9612], [7372], [304], [8693], [2613], [4602], [1979], [7667], [9465], [8921], [9490], [8773], [3841], [5235], [8232], [3166], [5180], [9107], [5093], [2043], [7118], [7251], [4628], [5028], [6510], [8867], [1011], [5413], [2033], [3223], [2695], [3659], [9083], [3826], [4078], [1034], [7143], [2596], [7087], [5587], [6640], [7173], [2262], [7869], [3035], [2052], [9310], [9373], [3628], [6288], [6958], [3122], [6657], [6644], [8129], [3765], [9483], [6903], [7794], [7235], [3709], [9374], [5337], [7348], [2790], [6108], [4331], [6359], [4042], [4791], [323], [1303], [4747], [4936], [1772], [7485], [235], [5848], [8081], [4585], [1677], [1387], [1336], [1308], [1576], [1964], [6341], [9163], [5853], [7238], [140], [3717], [8852], [8506], [6860], [5273], [6296], [9173], [4008], [7816], [3716], [5714], [8460], [9122], [6106], [8335], [5620], [8116], [4931], [7379], [6146], [5829], [4147], [7002], [6769], [4368], [7055], [8841], [7402], [8163], [7982], [4224], [8301], [5087], [7270], [9146], [5314], [1347], [4255], [6366], [5040], [6450], [9272], [3839], [1868], [7039], [2718], [2092], [8041], [9190], [3112], [6157], [8729], [7159], [7736], [2402], [6523], [6576], [110], [2306], [6637], [1624], [6963], [199], [5074], [6764], [5045], [8109], [846], [4461], [4750], [8339], [9127], [1581], [5875], [8820], [6585], [1019], [4140], [1742], [5745], [6627], [9239], [4193], [6143], [231], [2875], [2175], [149], [7952], [1542], [9365], [2888], [3969], [2191], [9505], [4133], [4587], [5672], [9309], [1842], [2778], [4284], [573], [7241], [7515], [2269], [4076], [4015], [566], [6141], [7867], [9586], [7070], [5551], [5549], [363], [7467], [5192], [6397], [6312], [866], [9086], [2539], [5205], [7285], [9296], [8983], [4611], [4532], [3263], [2030], [6604], [8107], [9629], [9587], [3106], [3802], [902], [6398], [6993], [500], [2841], [5704], [1937], [8007], [3947], [5452], [4479], [8281], [6247], [8825], [6013], [1656], [1844], [2100], [2537], [8390], [8836], [7741], [2859], [132], [7981], [3085], [5807], [2946], [5300], [1788], [2001], [207], [5912], [4141], [7174], [6118], [2006], [7308], [4670], [3147], [6140], [4456], [7970], [7971], [6150], [7424], [6862], [1220], [4495], [7256], [6056], [9500], [3205], [6894], [8380], [2655], [8227], [8160], [6514], [4603], [9716], [9533], [3622], [4343], [5287], [5291], [7226], [2321], [5289], [8604], [4738], [6815], [5994], [3464], [9180], [3516], [4798], [5809], [2311], [4719], [8717], [5723], [6042], [3525], [2217], [7845], [6482], [7122], [7040], [4013], [6636], [9203], [3007], [8287], [5860], [6126], [5665], [5940], [4054], [8989], [8538], [1749], [3875], [8019], [3246], [4210], [6151], [7371], [7197], [7639], [7610], [9197], [8340], [9574], [9245], [3671], [8219], [6655], [3737], [9597], [5138], [1020], [8356], [5882], [5838], [4028], [8671], [4609], [9615], [9067], [8712], [6630], [8429], [8865], [6850], [3177], [8358], [9461], [9263], [6005], [947], [9386], [4963], [7564], [7370], [9479], [8789], [5336], [582], [3833], [7767], [6297], [6615], [4852], [6949], [4106], [3787], [3756], [7151], [4040], [4194], [3995], [8087], [31], [6046], [70], [4920], [6996], [7319], [5318], [7468], [6751], [3786], [2619], [6653], [9026], [4473], [3144], [8525], [9372], [9058], [9665], [7580], [5885], [6167], [8569], [9351], [590], [4985], [8012], [3827], [5528], [9181], [4941], [9294], [8987], [1799], [4802], [6440], [883], [8827], [3533], [1184], [5015], [8848], [4713], [5304], [2093], [3430], [2861], [3914], [2194], [7311], [5821], [7841], [5837], [8770], [6707], [2172], [7722], [8432], [2300], [5448], [4300], [6295], [7758], [9189], [8788], [1182], [9099], [3844], [4720], [5459], [9256], [7459], [4383], [4153], [7465], [6199], [5639], [5396], [8737], [6491], [8443], [4011], [5627], [9021], [9167], [6596], [4423], [8105], [6500], [4560], [7607], [7591], [4457], [7732], [7636], [9013], [3905], [8923], [1413], [7655], [2626], [6020], [5323], [861], [3909], [702], [886], [9454], [7404], [1461], [7444], [3774], [4998], [7237], [7810], [9228], [2687], [2280], [2937], [3188], [5387], [8724], [4127], [6733], [431], [8365], [8463], [5921], [2421], [3151], [7403], [2589], [8501], [4037], [5656], [6783], [2259], [8324], [7411], [8236], [1608], [7987], [7755], [8665], [4724], [4148], [299], [9446], [3052], [5039], [4882], [5465], [541], [1344], [7584], [1721], [5925], [208], [4344], [3518], [5952], [2844], [5408], [4633], [8886], [8297], [9193], [3573], [7431], [7544], [6753], [1681], [6212], [7783], [4521], [8392], [3988], [4253], [6964], [7719], [9471], [408], [4080], [6163], [9354], [2087], [4777], [5972], [6027], [9138], [1055], [2763], [8056], [6711], [8817], [8574], [9165], [2892], [8816], [7806], [9317], [4680], [3186], [1280], [2350], [2475], [7657], [1913], [2818], [6677], [7169], [6679], [719], [8510], [7506], [6955], [9378], [7034], [9486], [6329], [6342], [1219], [9560], [994], [2416], [7600], [2755], [6289], [8965], [4659], [8154], [7653], [8881], [7013], [4669], [2609], [75], [6173], [8609], [6906], [5237], [9270], [8561], [1679], [5196], [7779], [5305], [8479], [3620], [5241], [5119], [9613], [8685], [5495], [9005], [3437], [7292], [6804], [4789], [9320], [5505], [1118], [5425], [2741], [7568], [6920], [3017], [7768], [6659], [5265], [9243], [6465], [2231], [3953], [6858], [2173], [8058], [1847], [8164], [9376], [9396], [8487], [4654], [3621], [3524], [0], [7552], [7955], [7875], [6156], [4570], [8994], [7859], [8418], [8216], [8099], [9219], [524], [3588], [8215], [1538], [5690], [6184], [5654], [8385], [4899], [7718], [9484], [3084], [9538], [7365], [7152], [7836], [9031], [2461], [9413], [2228], [3836], [2115], [7436], [5590], [6713], [2334], [4730], [6014], [2505], [3835], [7915], [8207], [4108], [3736], [4823], [5557], [9350], [1086], [645], [4973], [6825], [466], [7617], [5243], [8167], [4391], [5348], [4311], [6183], [7709], [2119], [2515], [9523], [2779], [4388], [1714], [1234], [7134], [7220], [3743], [2106], [684], [6859], [3004], [1843], [722], [9626], [8922], [9496], [316], [3414], [799], [12], [2900], [8352], [9407], [4514], [9601], [8062], [2496], [2580], [8149], [64], [6026], [5695], [3473], [3119], [7901], [4844], [2520], [843], [8599], [8304], [3589], [8162], [4438], [2710], [8334], [8458], [1760], [4170], [5475], [5910], [8840], [9641], [5282], [7986], [1568], [5595], [8639], [1316], [9074], [7400], [592], [2989], [8623], [2980], [5230], [8345], [4093], [9133], [9241], [7737], [3608], [527], [1971], [1966], [3431], [6889], [3888], [8387], [4413], [7299], [4192], [7418], [7611], [2634], [7632], [7139], [8425], [1038], [4453], [670], [1943], [3669], [3323], [1285], [5617], [3055], [4467], [5864], [6191], [7474], [7878], [3238], [6290], [335], [181], [4361], [3959], [7586], [6696], [1264], [643], [8237], [828], [8013], [8170], [9544], [6130], [3719], [8264], [7943], [7079], [7089], [603], [7149], [8267], [7743], [9468], [9192], [1218], [8241], [4664], [7244], [9184], [4287], [3353], [9395], [2433], [1350], [1778], [4048], [911], [7727], [3073], [6827], [4338], [9408], [3777], [1392], [703], [8143], [5374], [5494], [4655], [9232], [3058], [1891], [6897], [1879], [3686], [4892], [1181], [7905], [8849], [8521], [9508], [2531], [4444], [8421], [8632], [5351], [4691], [5803], [7656], [5458], [818], [7690], [714], [4296], [9345], [8986], [4212], [2374], [2574], [6030], [7361], [7730], [6533], [7199], [8277], [6221], [4527], [5661], [9590], [9604], [4749], [2734], [6282], [6836], [8280], [2400], [5561], [89], [1927], [9347], [8332], [3780], [1631], [4271], [1183], [8323], [2821], [1259], [8762], [8933], [5221], [9607], [2389], [6698], [2026], [8793], [6868], [6656], [8723], [785], [475], [1232], [4758], [9692], [9501], [9722], [5779], [5941], [9194], [1128], [8936], [4257], [4586], [7036], [3194], [1809], [8656], [2660], [6484], [160], [9543], [4402], [3695], [4646], [5843], [1723], [8795], [4208], [1583], [5539], [9043], [6522], [5090], [7811], [5394], [6704], [7670], [6017], [4418], [6870], [1411], [4476], [7030], [8375], [9462], [5698], [5785], [1888], [1816], [8468], [8393], [5124], [5580], [7278], [9027], [8668], [3883], [4269], [1300], [1857], [7482], [7870], [6442], [9334], [3217], [4956], [5947], [9619], [9458], [7491], [3143], [580], [3925], [8870], [7248], [6923], [8278], [4460], [3512], [7301], [9171], [9274], [415], [3564], [5836], [5971], [3584], [6799], [3009], [5065], [8039], [8805], [6863], [9202], [1499], [7991], [6284], [2182], [2918], [7209], [5741], [5011], [9498], [5427], [2089], [9029], [6477], [8900], [501], [8384], [5335], [4430], [5359], [5050], [7633], [8577], [7652], [3879], [6735], [8748], [7326], [7917], [3496], [8240], [8513], [572], [7068], [5759], [9292], [6611], [4834], [4363], [6231], [9343], [6378], [8782], [1070], [8433], [2712], [5125], [6803], [6701], [2810], [3920], [7731], [9449], [4303], [205], [3755], [3047], [4263], [8009], [6425], [756], [9516], [3541], [8431], [8108], [5274], [2622], [7114], [5645], [6545], [1779], [7183], [7351], [6059], [7914], [6582], [5778], [3103], [4031], [3390], [7486], [9035], [3974], [7276], [9467], [5648], [1321], [8503], [5029], [9569], [4203], [7574], [5757], [6841], [2386], [3619], [1848], [1134], [5404], [1995], [8279], [8810], [4510], [6346], [7161], [2865], [9295], [7440], [7201], [2145], [9003], [7563], [9448], [6912], [7711], [3167], [4687], [6131], [5397], [9366], [9120], [6826], [2728], [7990], [2279], [8413], [7397], [4613], [8259], [7315], [7163], [7933], [7257], [9548], [7022], [5808], [8052], [8583], [7317], [8694], [5126], [697], [1507], [4610], [7598], [150], [6785], [9581], [1287], [9686], [4740], [7953], [6088], [2243], [2560], [9415], [4712], [5915], [2600], [2439], [6181], [9482], [3312], [8704], [5600], [1093], [3408], [6503], [8566], [6980], [6968], [8550], [8178], [2739], [8758], [6110], [4886], [7382], [8153], [3062], [7170], [3461], [2834], [7333], [7007], [9135], [2048], [9280], [4347], [7597], [9542], [8092], [2653], [8974], [9008], [6021], [4543], [1206], [7314], [7863], [4429], [6012], [586], [3456], [3129], [2136], [4103], [8803], [7100], [3732], [8896], [9014], [7195], [2474], [5738], [7896], [577], [6244], [1437], [7198], [840], [9024], [8946], [2699], [8732], [8291], [7674], [6556], [9148], [8949], [4308], [2738], [502], [9300], [9369], [5550], [1588], [3723], [8990], [4064], [6984], [5708], [3453], [3735], [9140], [4484], [3393], [7415], [1841], [3083], [1553], [6153], [6986], [7595], [9668], [9648], [9370], [5141], [7877], [5678], [9258], [9297], [4079], [1355], [1306], [8657], [7634], [7661], [1416], [4938], [4589], [891], [4264], [1116], [7900], [4160], [7583], [2031], [2130], [1166], [7107], [20], [6261], [7941], [6875], [4977], [9389], [5632], [4871], [3864], [7790], [7261], [9687], [9234], [5742], [5858], [2107], [1273], [3006], [278], [3088], [7483], [5739], [9328], [1922], [1334], [7603], [3336], [1931], [8481], [5008], [8678], [3485], [9669], [5401], [3694], [7760], [8208], [6390], [7131], [7322], [8800], [472], [6525], [4906], [9475], [4969], [2618], [6547], [6201], [5793], [5981], [8631], [4784], [712], [7831], [7796], [2593], [7172], [2932], [6177], [3822], [9154], [3528], [7773], [5938], [9356], [6424], [5453], [6597], [2934], [6743], [8658], [9397], [6507], [2964], [8695], [6102], [1574], [4563], [2726], [3280], [5066], [8175], [2470], [3492], [7538], [9152], [6995], [9464], [2319], [8727], [4472], [6951], [8386], [5861], [7640], [9585], [698], [2304], [4545], [1532], [6411], [7735], [4576], [9147], [8633], [9247], [4682], [4704], [3370], [3050], [6435], [966], [6629], [6463], [7776], [8183], [3209], [5319], [6918], [1590], [1256], [9653], [5326], [812], [6787], [8050], [5878], [8597], [4310], [36], [9599], [4853], [8257], [7094], [7833], [8855], [6473], [4116], [8314], [5160], [2484], [6586], [6543], [1616], [9699], [6852], [3111], [1339], [3752], [4763], [2108], [8926], [7808], [5497], [9330], [9168], [1362], [7822], [1736], [5067], [3942], [9631], [8147], [4761], [1304], [2605], [1932], [2903], [8771], [2528], [2368], [7188], [5295], [5718], [4854], [8674], [2986], [2915], [7944], [4547], [8156], [9130], [6257], [9696], [8749], [5890], [3021], [8072], [3823], [4319], [7005], [5712], [5752], [5059], [3267], [6511], [8545], [8449], [3424], [8831], [5608], [1141], [5281], [6285], [8634], [4872], [4631], [4197], [8646], [2025], [9551], [4700], [5445], [669], [4462], [7127], [7999], [5334], [3421], [136], [6760], [6238], [9660], [5908], [5933], [355], [4360], [6578], [1575], [4156], [5377], [8806], [7975], [868], [3944], [9116], [4274], [3467], [9451], [7038], [4902], [4246], [974], [6885], [388], [3971], [3161], [3711], [1139], [4110], [6681], [5525], [6075], [7239], [860], [6087], [4952], [1174], [9421], [6672], [8125], [3885], [9141], [5491], [6061], [3986], [7961], [4675], [9091], [7923], [8456], [8239], [2797], [2723], [2435], [9384], [8912], [9097], [570], [4516], [6434], [5535], [9046], [5560], [8891], [7329], [6872], [298], [2397], [6166], [9527], [4641], [9595], [9674], [6248], [69], [5218], [2362], [4970], [5272], [7879], [9161], [5914], [5275], [9182], [2274], [4186], [448], [7819], [7772], [4686], [7747], [9283], [8234], [8909], [6327], [2246], [5195], [2977], [6336], [3171], [9410], [263], [5219], [7009], [4136], [3097], [9230], [6194], [7838], [128], [2299], [2156], [4806], [34], [8711], [6898], [2257], [7826], [8787], [9117], [3634], [8603], [4780], [4981], [887], [7346], [1829], [7286], [3039], [5920], [4235], [7450], [5579], [8130], [4214], [1630], [3139], [1160], [7216], [3213], [4614], [8780], [8202], [5628], [6492], [2437], [3002], [7561], [6008], [8580], [9534], [7839], [5488], [9321], [3331], [5422], [3718], [9532], [1498], [5481], [2405], [5503], [8613], [6534], [2035], [3212], [4905], [6561], [8244], [3077], [6610], [1064], [8916], [5123], [5854], [9424], [1425], [5699], [3789], [9323], [2094], [8060], [7890], [6104], [442], [9706], [9610], [5824], [9715], [9600], [6272], [7309], [8935], [3763], [2542], [4422], [6786], [4242], [6959], [1356], [4321], [9065], [6569], [599], [1458], [4501], [5216], [9677], [816], [2611], [5229], [7409], [4693], [4151], [2210], [6768], [905], [6494], [6436], [4795], [1117], [6490], [9455], [4989], [5591], [7744], [4218], [338], [9119], [446], [7128], [6667], [7654], [2345], [5748], [5105], [1895], [7726], [1600], [1930], [6966], [2996], [7376], [1109], [9539], [8736], [5133], [4119], [2983], [4122], [9526], [6873], [5340], [6917], [396], [1492], [6919], [8255], [2252], [8743], [8502], [2159], [3391], [9683], [5043], [8725], [3311], [9095], [7341], [4615], [5610], [5675], [6116], [511], [6350], [3940], [1661], [7627], [6292], [1861], [2233], [6337], [7956], [4660], [13], [9346], [7687], [5683], [5592], [2375], [5058], [8028], [7381], [3930], [9562], [8306], [735], [2114], [768], [2491], [5507], [2406], [8706], [3712], [3544], [5924], [6318], [4359], [8925], [9125], [7756], [4519], [5393], [5356], [5526], [3469], [7048], [9634], [8472], [8752], [3075], [9204], [3173], [6339], [4470], [6300], [8071], [7937], [3071], [6225], [8854], [7274], [3526], [5898], [1440], [5026], [6268], [8095], [116], [8636], [5563], [5144], [4723], [674], [2749], [1207], [9212], [6632], [4339], [9666], [2671], [3349], [1747], [8478], [5948], [7387], [6982], [6812], [6956], [6391], [2923], [8791], [7587], [5204], [8814], [1478], [1756], [5232], [9535], [9337], [594], [3429], [4536], [7321], [7951], [2413], [6539], [9650], [1952], [3256], [2667], [6105], [4279], [2411], [7823], [2674], [9647], [3929], [5953], [7493], [7572], [8141], [2234], [4721], [5016], [6687], [8612], [5546], [5038], [3284], [5149], [7734], [7477], [295], [4523], [393], [5202], [8272], [9020], [6422], [8607], [6096], [8347], [7716], [1792], [7103], [672], [435], [2519], [2867], [8396], [1323], [2466], [3380], [4399], [2958], [5169], [7259], [6351], [9277], [7097], [8389], [8222], [878], [9531], [9565], [4809], [1515], [6459], [1726], [1733], [7313], [5787], [2197], [2383], [7035], [9492], [5419], [4452], [7210], [9493], [9368], [7752], [4024], [9524], [7336], [8713], [4126], [8440], [5233], [3828], [8914], [6006], [1121], [8051], [138], [3011], [2061], [6855], [134], [8044], [1982], [1683], [5354], [4971], [4435], [1541], [326], [3325], [1988], [981], [293], [1263], [3613], [118], [651], [7287], [3233], [2174], [6240], [9605], [6392], [2896], [8651], [9405], [4314], [8540], [5703], [3632], [6828], [2477], [7178], [7645], [2237], [3497], [3090], [9466], [9681], [6200], [5210], [6740], [4404], [7805], [7504], [238], [8739], [5147], [6770], [2063], [3326], [7025], [9175], [3555], [4864], [9089], [2029], [7228], [9712], [7724], [2767], [7471], [4754], [5801], [5175], [2878], [9144], [9039], [5269], [7751], [4290], [4236], [6814], [7739], [3222], [4215], [5352], [6058], [4751], [3629], [5321], [7463], [4593], [265], [9447], [8330], [6345], [2789], [4250], [3547], [5819], [5035], [4053], [6324], [3248], [9018], [8531], [6563], [9719], [9583], [7288], [7004], [3881], [2205], [6133], [4932], [255], [9416], [2602], [3893], [8778], [7027], [3745], [6357], [1376], [7394], [9082], [7012], [7439], [3838], [6306], [5073], [5461], [7892], [1156], [3309], [8628], [5418], [9143], [6215], [5114], [3679], [4499], [7793], [2371], [8127], [7233], [7332], [5753], [3489], [4077], [6776], [2777], [5350], [7891], [3401], [728], [4426], [8683], [8996], [3038], [6035], [2195], [7043], [8452], [6690], [9575], [6158], [4567], [9676], [5852], [8947], [8126], [5228], [7283], [6267], [1509], [8868], [6187], [6079], [7460], [9025], [5034], [8477], [5955], [8777], [7217], [6326], [9284], [9210], [4733], [5344], [7861], [1148], [6310], [6878], [9525], [8742], [7502], [2273], [4856], [6299], [7765], [400], [5604], [2606], [6122], [2935], [2837], [7954], [7331], [6446], [777], [9550], [5513], [8010], [5602], [8379], [6302], [7074], [5203], [4995], [7126], [7604], [9679], [3396], [5877], [8608], [6805], [4187], [1597], [7232], [1534], [1444], [8419], [1210], [2808], [5017], [7771], [8602], [3542], [3666], [7644], [9445], [3276], [6717], [9491], [3180], [1725], [6660], [9036], [4850], [7045], [3861], [5553], [4003], [3858], [2885], [7988], [6053], [8213], [3450], [7749], [9423], [9066], [8435], [5946], [2811], [5104], [8635], [6766], [7146], [6904], [1006], [8450], [2125], [7932], [8938], [3941], [4555], [1335], [201], [9662], [4661], [9388], [6647], [1417], [7548], [5954], [6382], [8797], [5841], [9114], [9072], [9254], [5454], [8715], [8584], [5168], [8745], [5880], [9427], [5769], [2944], [4996], [8839], [7780], [7889], [9637], [6685], [5367], [8020], [8662], [7182], [5930], [1960], [7059], [7343], [4382], [5198], [4697], [7006], [9494], [6616], [3901], [5904], [3290], [6658], [8426], [6057], [7948], [2970], [8560], [8728], [9579], [6315], [5566], [3031], [5674], [4663], [2938], [2041], [1435], [7145], [6944], [3268], [4232], [8927], [7063], [5222], [5498], [9394], [4729], [8548], [1078], [2822], [5968], [8359], [6120], [6352], [2705], [4803], [7344], [7065], [3874], [6155], [7470], [4942], [2955], [7681], [6624], [6099], [7243], [7414], [8171], [9627], [2440], [7919], [3601], [5501], [9664], [3791], [5768], [2260], [6460], [4150], [6161], [8684], [58], [6271], [7017], [8779], [5434], [1213], [9108], [83], [932], [6843], [7646], [6448], [8031], [4698], [8976], [7774], [727], [8768], [8629], [4071], [2569], [6537], [1475], [4974], [7327], [7001], [8719], [3327], [3847], [8441], [5625], [3109], [5931], [6176], [5386], [6513], [625], [3462], [1124], [6623], [5717], [6888], [9222], [2719], [16], [8144], [2688], [8169], [8002], [5721], [4592], [7708], [5658], [2393], [2289], [5197], [8682], [7840], [7202], [4209], [6965], [8187], [9142], [6468], [6691], [6319], [7850], [8273], [2241], [8475], [9264], [6976], [4617], [5254], [5743], [218], [5500], [5689], [7706], [6865], [2150], [8220], [1728], [3758], [4082], [2327], [6703], [8951], [7649], [7316], [5375], [8763], [7766], [4436], [6431], [8967], [4528], [8373], [5063], [9231], [5862], [9176], [1648], [7643], [3051], [6098], [8043], [2643], [2897], [9434], [7435], [5139], [6692], [3081], [8581], [870], [6584], [9164], [8266], [8404], [4542], [7962], [9435], [5253], [8543], [7153], [1784], [8984], [8252], [9571], [7778], [5224], [8427], [1002], [734], [9360], [3110], [8034], [9042], [6722], [3387], [5267], [5177], [8308], [9265], [4072], [9344], [5937], [7123], [7947], [3708], [2074], [1880], [7357], [52], [8826], [6447], [6298], [1194], [8080], [7095], [6745], [1959], [8104], [4958], [5207], [8755], [2973], [7029], [9536], [4283], [5855], [5170], [4022], [9643], [9552], [8653], [5726], [8562], [8863], [9717], [2803], [7679], [9436], [1740], [6196], [8809], [5468], [8497], [8977], [7911], [5847], [9342], [7258], [583], [5888], [9214], [5324], [1896], [6195], [5961], [2410], [5552], [5088], [4760], [3771], [8139], [3457], [5734], [4488], [6480], [8880], [5182], [8798], [3121], [3643], [8833], [6171], [3398], [7290], [9549], [7857], [2960], [7320], [9617], [7613], [5156], [8249], [5467], [9183], [6317], [9713], [7098], [8532], [320], [2975], [8526], [2186], [9503], [4742], [6159], [9667], [212], [3347], [5792], [5902], [4612], [8520], [5120], [5246], [3638], [5979], [4949], [5438], [6010], [4947], [3134], [6666], [7125], [3300], [5582], [5330], [4820], [9624], [7362], [7555], [7071], [1197], [6405], [4912], [7638], [7920], [2445], [8499], [4298], [5460], [5213], [2561], [1535], [6478], [7389], [340], [9169], [3922], [5686], [5492], [4672], [3215], [8890], [4644], [7913], [8955], [1129], [5183], [3908], [5784], [3670], [6911], [811], [7334], [8920], [4318], [5990], [3640], [1926], [5071], [4745], [6068], [4330], [7498], [3890], [5290], [3658], [389], [2616], [6795], [4984], [1892], [7738], [6856], [9510], [737], [6227], [5919], [915], [8882], [6728], [6402], [6943], [2004], [1484], [2116], [7620], [4549], [6811], [1415], [9199], [5969], [6575], [8486], [4134], [8893], [6566], [9080], [7305], [5870], [7058], [6037], [8802], [9150], [3653], [3138], [109], [9028], [4329], [4994], [8588], [6939], [3293], [1313], [5901], [7015], [9606], [3182], [1455], [3228], [5867], [2134], [6782], [3487], [8128], [526], [5496], [9313], [4556], [5719], [8190], [8539], [6936], [8734], [3324], [5186], [2663], [9711], [627], [7223], [4966], [2552], [3606], [7854], [7064], [9403], [7567], [2332], [8293], [8111], [5637], [2264], [3168], [4086], [7581], [364], [3747], [4916], [7386], [5996], [5763], [1170], [7102], [6933], [6892], [8412], [9689], [6263], [5447], [664], [623], [8495], [223], [7800], [9684], [5655], [5079], [3008], [8829], [7231], [1745], [8398], [8680], [3269], [127], [7858], [7862], [5777], [4681], [908], [6542], [8910], [8593], [6458], [5431], [8705], [9628], [6452], [6069], [8932], [1612], [2318], [8643], [7218], [2780], [1828], [2384], [3538], [7809], [7461], [4505], [8505], [4788], [9561], [7037], [518], [7180], [5922], [8571], [1698], [8821], [3132], [2551], [8457], [2329], [7148], [8407], [2961], [2128], [4575], [7612], [5094], [8438], [9110], [5965], [9102], [5081], [3107], [5626], [2724], [659], [3197], [8960], [9377], [6595], [2594], [2293], [3762], [8369], [9215], [2122], [4177], [6663], [5706], [1550], [1975], [2166], [1556], [8919], [4895], [5116], [5544], [7295], [9332], [6432], [7666], [9221], [2517], [6462], [9620], [6725], [264], [8718], [4928], [6908], [4648], [4678], [8321], [8944], [5899], [1050], [7528], [6497], [5729], [4629], [8283], [2069], [7049], [8120], [8168], [9006], [6202], [9123], [9268], [5799], [6772], [8832], [2196], [5869], [6420], [9311], [8856], [3072], [8203], [8700], [7930], [9302], [9642], [9186], [7728], [7240], [3540], [3460], [6932], [3556], [4442], [1821], [7883], [1470], [6235], [6998], [9129], [7155], [2907], [8666], [7254], [7531], [8174], [1370], [9639], [4085], [6070], [3498], [7624], [5722], [6007], [1278], [1859], [4369], [8268], [9195], [733], [4797], [7635], [7324], [8992], [9506], [3767], [7484], [3229], [2646], [9217], [6771], [6125], [4508], [8137], [7080], [5259], [6864], [7453], [6749], [8544], [4868], [6775], [4118], [3880], [7972], [5208], [8226], [1666], [5107], [1903], [626], [49], [2342], [7812], [7446], [9109], [9316], [3386], [8591], [3417], [1167], [7396], [6498], [5163], [7729], [5362], [6003], [7558], [7989], [7650], [5926], [2658], [2815], [7250], [5463], [4961], [2904], [7242], [9382], [5536], [7717], [3586], [7761], [9704], [6997], [3428], [6931], [5245], [3581], [5728], [3384], [1199], [5730], [7715], [5100], [6941], [8180], [6788], [7447], [1897], [7697], [3042], [7307], [1825], [1047], [6614], [7138], [4178], [2791], [1409], [4900], [7837], [3663], [3003], [6443], [9364], [4848], [539], [8529], [3149], [4960], [3759], [8756], [7629], [5524], [6512], [4967], [8620], [2893], [7593], [8557], [8962], [5989], [6879], [3202], [2023], [7899], [8024], [8887], [8726], [4831], [7746], [5154], [7983], [2203], [3812], [9693], [5657], [9353], [2882], [4352], [9685], [4109], [4728], [1268], [6824], [4074], [4366], [5385], [4466], [7769], [8905], [2381], [8296], [8670], [3661], [3672], [9090], [1404], [7536], [758], [7676], [1773], [8637], [2326], [3307], [9453], [3697], [4591], [7203], [5003], [6579], [4025], [3689], [5025], [3687], [3811], [7553], [8199], [8480], [4601], [8973], [5358], [6400], [6654], [8476], [3044], [5542], [4649], [8090], [5261], [3272], [8498], [2396], [6377], [7433], [7754], [392], [6033], [6137], [4774], [2200], [8348], [8981], [6929], [6910], [7451], [6316], [8401], [7532], [8764], [5343], [7529], [5943], [7868], [8453], [4446], [5834], [4017], [137], [7167], [5586], [8567], [5061], [7994], [8485], [4403], [5816], [4447], [5042], [1558], [9691], [4261], [2521], [7696], [7815], [7898], [4424], [8086], [6907], [4924], [6651], [8585], [5820], [8858], [9244], [9680], [194], [8692], [98], [7156], [6791], [7383], [4171], [3660], [989], [5002], [749], [2258], [3958], [1243], [5457], [7618], [6220], [9638], [124], [6198], [9682], [4531], [3305], [1383], [4120], [5977], [6169], [8117], [6291], [5285], [4596], [2621], [5360], [3136], [2707], [9553], [9401], [7700], [5069], [6251], [8363], [9442], [8899], [5214], [3840], [7330], [7200], [8997], [2294], [2735], [721], [8952], [1586], [7449], [7129], [7328], [2809], [2498], [1449], [6190], [2851], [5122], [2322], [1780], [8794], [6813], [513], [4889], [6899], [2230], [5406], [2165], [2082], [1668], [2676], [9211], [9235], [7466], [5545], [375], [2399], [8861], [1445], [5687], [876], [6871], [6806], [3982], [1796], [4088], [7704], [3650], [8091], [4173], [7073], [8874], [3543], [694], [6322], [9412], [8376], [7407], [5084], [5451], [9134], [2224], [7204], [7206], [2827], [4824], [611], [2003], [8025], [9614], [9227], [8663], [1637], [7184], [2727], [2845], [9474], [5606], [8061], [2275], [3363], [2425], [9251], [9068], [3749], [6416], [6418], [2921], [6974], [8112], [6552], [8929], [9088], [1513], [6678], [8988], [2567], [4755], [8134], [8975], [5516], [8403], [99], [6972], [9121], [6175], [2336], [9559], [7458], [3552], [9563]]\n"
          ],
          "name": "stdout"
        }
      ]
    },
    {
      "cell_type": "markdown",
      "metadata": {
        "id": "x8dyXp0evkDV"
      },
      "source": [
        "#####  user의 인덱스 추출"
      ]
    },
    {
      "cell_type": "code",
      "metadata": {
        "id": "ZgAwADYPvaKP",
        "outputId": "0c7c57cd-9fce-4106-e4f1-261a3170285b",
        "colab": {
          "base_uri": "https://localhost:8080/"
        }
      },
      "source": [
        "user_encoder = user2i.get(user_id)\n",
        "print(user_encoder) # user의 인덱스 추출"
      ],
      "execution_count": 315,
      "outputs": [
        {
          "output_type": "stream",
          "text": [
            "156\n"
          ],
          "name": "stdout"
        }
      ]
    },
    {
      "cell_type": "code",
      "metadata": {
        "id": "B4Y6JkjevigA",
        "outputId": "c635c978-7d09-48d1-8c24-941810fd49ba",
        "colab": {
          "base_uri": "https://localhost:8080/"
        }
      },
      "source": [
        "user_movie_array = np.hstack(([[user_encoder]] * len(movies_not_watched_list), movies_not_watched_list))\n",
        "print(user_movie_array.shape)"
      ],
      "execution_count": 316,
      "outputs": [
        {
          "output_type": "stream",
          "text": [
            "(9076, 2)\n"
          ],
          "name": "stdout"
        }
      ]
    },
    {
      "cell_type": "markdown",
      "metadata": {
        "id": "b9NK5N5BwBQM"
      },
      "source": [
        "### 모델1의 영화 추천 목록"
      ]
    },
    {
      "cell_type": "code",
      "metadata": {
        "id": "-HY7e02swCfo",
        "outputId": "0046d3a6-5814-424d-f38a-6eae7b5928cf",
        "colab": {
          "base_uri": "https://localhost:8080/"
        }
      },
      "source": [
        "print(ratings.shape)\n",
        "ratings = model.predict(user_movie_array).flatten()\n",
        "print(ratings.shape)\n",
        "top_ratings_indices = ratings.argsort()[-10:][::-1]\n",
        "recommended_movie_ids = [i2movie.get(movies_not_watched_list[x][0]) for x in top_ratings_indices]\n",
        "print(top_ratings_indices)\n",
        "print(recommended_movie_ids)"
      ],
      "execution_count": 317,
      "outputs": [
        {
          "output_type": "stream",
          "text": [
            "(9621,)\n",
            "(9076,)\n",
            "[7712 6227  827 7553 4949  926 6215 2109 1036 3475]\n",
            "[135133, 142456, 1100, 55444, 72405, 1242, 142366, 2792, 1374, 4571]\n"
          ],
          "name": "stdout"
        }
      ]
    },
    {
      "cell_type": "code",
      "metadata": {
        "id": "1uWK8NLjwQF8",
        "outputId": "158e8933-9149-4d51-bb32-c6671fe7a3a9",
        "colab": {
          "base_uri": "https://localhost:8080/"
        }
      },
      "source": [
        "print(\"유저 {} 를 위한 추천 목록\".format(user_id))\n",
        "print(\"====\" * 9)\n",
        "print(\"유저가 가장 높은 평점을 부여한 영화들\")\n",
        "print(\"----\" * 8)\n",
        "top_movies_user = (\n",
        "    movies_watched_by_the_sampled_user.sort_values(by=\"rating\", ascending=False).head(5).movieId.values\n",
        ")\n",
        "movie_df_rows = movie_df[movie_df[\"movieId\"].isin(top_movies_user)]\n",
        "for row in movie_df_rows.itertuples():\n",
        "    print(row.title, \":\", row.genres)"
      ],
      "execution_count": 321,
      "outputs": [
        {
          "output_type": "stream",
          "text": [
            "유저 489를 위한 추천 목록\n",
            "====================================\n",
            "유저가 가장 높은 평점을 부여한 영화들\n",
            "--------------------------------\n",
            "Breakfast at Tiffany's (1961) : Drama|Romance\n",
            "My Fair Lady (1964) : Comedy|Drama|Musical|Romance\n",
            "Dracula (Bram Stoker's Dracula) (1992) : Fantasy|Horror|Romance|Thriller\n",
            "Amelie (Fabuleux destin d'Amélie Poulain, Le) (2001) : Comedy|Romance\n",
            "Pan's Labyrinth (Laberinto del fauno, El) (2006) : Drama|Fantasy|Thriller\n"
          ],
          "name": "stdout"
        }
      ]
    },
    {
      "cell_type": "code",
      "metadata": {
        "id": "ulQg4m-g61oM",
        "outputId": "10b33035-116d-4b1b-da5b-1923c4a71d60",
        "colab": {
          "base_uri": "https://localhost:8080/"
        }
      },
      "source": [
        "print(\"----\" * 8)\n",
        "print(\"----\" * 8)\n",
        "print(\"Top 10 영화 추천\")\n",
        "print(\"----\" * 8)\n",
        "print(\"----\" * 8)\n",
        "recommended_movies = movie_df[movie_df[\"movieId\"].isin(recommended_movie_ids)]\n",
        "cnt=1\n",
        "for row in recommended_movies.itertuples():\n",
        "    print(cnt,'.',row.title, \":\", row.genres,'\\n')\n",
        "    cnt+=1"
      ],
      "execution_count": 325,
      "outputs": [
        {
          "output_type": "stream",
          "text": [
            "--------------------------------\n",
            "--------------------------------\n",
            "Top 10 영화 추천\n",
            "--------------------------------\n",
            "--------------------------------\n",
            "1 . Days of Thunder (1990) : Action|Drama|Romance \n",
            "\n",
            "2 . Glory (1989) : Drama|War \n",
            "\n",
            "3 . Star Trek II: The Wrath of Khan (1982) : Action|Adventure|Sci-Fi|Thriller \n",
            "\n",
            "4 . Airplane II: The Sequel (1982) : Comedy \n",
            "\n",
            "5 . Bill & Ted's Excellent Adventure (1989) : Adventure|Comedy|Sci-Fi \n",
            "\n",
            "6 . Control (2007) : Drama \n",
            "\n",
            "7 . Bad Lieutenant: Port of Call New Orleans (2009) : Crime|Drama \n",
            "\n",
            "8 . The Hunger Games: Mockingjay - Part 2 (2015) : Adventure|Sci-Fi \n",
            "\n",
            "9 . Cigarette Burns (2005) : Horror|Thriller \n",
            "\n",
            "10 . The Brand New Testament (2015) : (no genres listed) \n",
            "\n"
          ],
          "name": "stdout"
        }
      ]
    },
    {
      "cell_type": "markdown",
      "metadata": {
        "id": "pM3Lo01K7f6J"
      },
      "source": [
        "### 모델2의 영화 추천 목록"
      ]
    },
    {
      "cell_type": "code",
      "metadata": {
        "id": "03aaMEAw7ga7",
        "outputId": "00107943-058d-486b-9afd-7ea78ad63112",
        "colab": {
          "base_uri": "https://localhost:8080/"
        }
      },
      "source": [
        "ratings = model2.predict(user_movie_array).flatten()\n",
        "top_ratings_indices = ratings.argsort()[-10:][::-1]\n",
        "recommended_movie_ids = [i2movie.get(movies_not_watched_list[x][0]) for x in top_ratings_indices]\n",
        "\n",
        "print(\"모델 2의 유저 {} 를 위한 추천 목록\".format(user_id))\n",
        "print(\"====\" * 9)\n",
        "print(\"유저가 가장 높은 평점을 부여한 영화들\")\n",
        "print(\"----\" * 9,)\n",
        "print(\" \" * 8)\n",
        "top_movies_user = (\n",
        "    movies_watched_by_the_sampled_user.sort_values(by=\"rating\", ascending=False).head(5).movieId.values\n",
        ")\n",
        "movie_df_rows = movie_df[movie_df[\"movieId\"].isin(top_movies_user)]\n",
        "cnt=1\n",
        "for row in movie_df_rows.itertuples():\n",
        "    print(cnt,'.',row.title, \":\", row.genres)\n",
        "    cnt+=1\n",
        "\n",
        "print(\" \" * 8)\n",
        "print(\" \" * 8)\n",
        "print(\"Top 10 영화 추천\")\n",
        "print(\"----\" * 8)\n",
        "print(\"----\" * 8)\n",
        "recommended_movies = movie_df[movie_df[\"movieId\"].isin(recommended_movie_ids)]\n",
        "cnt=1\n",
        "for row in recommended_movies.itertuples():\n",
        "    print(cnt,'.',row.title, \":\", row.genres,'\\n')\n",
        "    cnt+=1"
      ],
      "execution_count": 334,
      "outputs": [
        {
          "output_type": "stream",
          "text": [
            "모델 2의 유저 489 를 위한 추천 목록\n",
            "====================================\n",
            "유저가 가장 높은 평점을 부여한 영화들\n",
            "------------------------------------\n",
            "        \n",
            "1 . Breakfast at Tiffany's (1961) : Drama|Romance\n",
            "2 . My Fair Lady (1964) : Comedy|Drama|Musical|Romance\n",
            "3 . Dracula (Bram Stoker's Dracula) (1992) : Fantasy|Horror|Romance|Thriller\n",
            "4 . Amelie (Fabuleux destin d'Amélie Poulain, Le) (2001) : Comedy|Romance\n",
            "5 . Pan's Labyrinth (Laberinto del fauno, El) (2006) : Drama|Fantasy|Thriller\n",
            "        \n",
            "        \n",
            "Top 10 영화 추천\n",
            "--------------------------------\n",
            "--------------------------------\n",
            "1 . Down Periscope (1996) : Comedy \n",
            "\n",
            "2 . Pink Floyd: The Wall (1982) : Drama|Musical \n",
            "\n",
            "3 . Hunt for Red October, The (1990) : Action|Adventure|Thriller \n",
            "\n",
            "4 . Apt Pupil (1998) : Drama|Thriller \n",
            "\n",
            "5 . Bill & Ted's Excellent Adventure (1989) : Adventure|Comedy|Sci-Fi \n",
            "\n",
            "6 . Dragon: The Bruce Lee Story (1993) : Action|Drama \n",
            "\n",
            "7 . Capote (2005) : Crime|Drama \n",
            "\n",
            "8 . I Love You, Man (2009) : Comedy \n",
            "\n",
            "9 . Bad Lieutenant: Port of Call New Orleans (2009) : Crime|Drama \n",
            "\n",
            "10 . True Grit (2010) : Western \n",
            "\n"
          ],
          "name": "stdout"
        }
      ]
    },
    {
      "cell_type": "markdown",
      "metadata": {
        "id": "bcUpfOtY8F-Z"
      },
      "source": [
        "### 모델3의 영화 추천 목록"
      ]
    },
    {
      "cell_type": "code",
      "metadata": {
        "id": "PAXeDGUx8G1A",
        "outputId": "efd81c8d-89cb-45e2-8d58-e98993184d68",
        "colab": {
          "base_uri": "https://localhost:8080/"
        }
      },
      "source": [
        "ratings = model3.predict(user_movie_array).flatten()\n",
        "top_ratings_indices = ratings.argsort()[-10:][::-1]\n",
        "recommended_movie_ids = [i2movie.get(movies_not_watched_list[x][0]) for x in top_ratings_indices]\n",
        "\n",
        "print(\"모델 2의 유저 {} 를 위한 추천 목록\".format(user_id))\n",
        "print(\"====\" * 9)\n",
        "print(\"유저가 가장 높은 평점을 부여한 영화들\")\n",
        "print(\"----\" * 9,)\n",
        "print(\" \" * 8)\n",
        "top_movies_user = (\n",
        "    movies_watched_by_the_sampled_user.sort_values(by=\"rating\", ascending=False).head(5).movieId.values\n",
        ")\n",
        "movie_df_rows = movie_df[movie_df[\"movieId\"].isin(top_movies_user)]\n",
        "cnt=1\n",
        "for row in movie_df_rows.itertuples():\n",
        "    print(cnt,'.',row.title, \":\", row.genres)\n",
        "    cnt+=1\n",
        "\n",
        "print(\" \" * 8)\n",
        "print(\" \" * 8)\n",
        "print(\"Top 10 영화 추천\")\n",
        "print(\"----\" * 8)\n",
        "print(\"----\" * 8)\n",
        "recommended_movies = movie_df[movie_df[\"movieId\"].isin(recommended_movie_ids)]\n",
        "cnt=1\n",
        "for row in recommended_movies.itertuples():\n",
        "    print(cnt,'.',row.title, \":\", row.genres,'\\n')\n",
        "    cnt+=1"
      ],
      "execution_count": 335,
      "outputs": [
        {
          "output_type": "stream",
          "text": [
            "모델 2의 유저 489 를 위한 추천 목록\n",
            "====================================\n",
            "유저가 가장 높은 평점을 부여한 영화들\n",
            "------------------------------------\n",
            "        \n",
            "1 . Breakfast at Tiffany's (1961) : Drama|Romance\n",
            "2 . My Fair Lady (1964) : Comedy|Drama|Musical|Romance\n",
            "3 . Dracula (Bram Stoker's Dracula) (1992) : Fantasy|Horror|Romance|Thriller\n",
            "4 . Amelie (Fabuleux destin d'Amélie Poulain, Le) (2001) : Comedy|Romance\n",
            "5 . Pan's Labyrinth (Laberinto del fauno, El) (2006) : Drama|Fantasy|Thriller\n",
            "        \n",
            "        \n",
            "Top 10 영화 추천\n",
            "--------------------------------\n",
            "--------------------------------\n",
            "1 . Higher Learning (1995) : Drama \n",
            "\n",
            "2 . Small Soldiers (1998) : Animation|Children|Fantasy|War \n",
            "\n",
            "3 . Come See the Paradise (1990) : Drama|Romance \n",
            "\n",
            "4 . Woman in the Dunes (Suna no onna) (1964) : Drama \n",
            "\n",
            "5 . In the Mood For Love (Fa yeung nin wa) (2000) : Drama|Romance \n",
            "\n",
            "6 . Bird People in China, The (Chûgoku no chôjin) (1998) : Adventure|Comedy|Drama|Fantasy \n",
            "\n",
            "7 . State of Play (2009) : Crime|Drama|Thriller \n",
            "\n",
            "8 . Whip It (2009) : Comedy|Drama \n",
            "\n",
            "9 . Repo Men (2010) : Action|Sci-Fi|Thriller \n",
            "\n",
            "10 . Story of Film: An Odyssey, The (2011) : Documentary \n",
            "\n"
          ],
          "name": "stdout"
        }
      ]
    }
  ]
}