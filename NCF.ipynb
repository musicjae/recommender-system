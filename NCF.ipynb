{
  "nbformat": 4,
  "nbformat_minor": 0,
  "metadata": {
    "colab": {
      "name": "NCF.ipynb",
      "provenance": [],
      "collapsed_sections": [],
      "toc_visible": true,
      "authorship_tag": "ABX9TyNGWsIHCiCll3MsgpyyyVas",
      "include_colab_link": true
    },
    "kernelspec": {
      "name": "python3",
      "display_name": "Python 3"
    },
    "accelerator": "GPU"
  },
  "cells": [
    {
      "cell_type": "markdown",
      "metadata": {
        "id": "view-in-github",
        "colab_type": "text"
      },
      "source": [
        "<a href=\"https://colab.research.google.com/github/musicjae/recommender-system/blob/main/NCF.ipynb\" target=\"_parent\"><img src=\"https://colab.research.google.com/assets/colab-badge.svg\" alt=\"Open In Colab\"/></a>"
      ]
    },
    {
      "cell_type": "markdown",
      "metadata": {
        "id": "aBEMfj9guKMe"
      },
      "source": [
        "# References  \n",
        "[1] https://keras.io/examples/structured_data/collaborative_filtering_movielens/  \n",
        "[2] [He, Xiangnan, et al. \"Neural collaborative filtering.\" Proceedings of the 26th international conference on world wide web. 2017.](https://arxiv.org/abs/1708.05031)  \n",
        "[3] https://medium.com/@jdwittenauer/deep-learning-with-keras-recommender-systems-e7b99cb29929  \n",
        "[4] https://www.kaggle.com/dalwindr/movielens-recommendation-engine-dalwins001"
      ]
    },
    {
      "cell_type": "code",
      "metadata": {
        "id": "1SjlDMhEivDD",
        "outputId": "472582c5-9207-4f89-cb38-c089b4ce9e6c",
        "colab": {
          "base_uri": "https://localhost:8080/"
        }
      },
      "source": [
        "from google.colab import drive\n",
        "drive.mount('/content/drive')"
      ],
      "execution_count": 1,
      "outputs": [
        {
          "output_type": "stream",
          "text": [
            "Mounted at /content/drive\n"
          ],
          "name": "stdout"
        }
      ]
    },
    {
      "cell_type": "markdown",
      "metadata": {
        "id": "OlWDXqhnjGSF"
      },
      "source": [
        "# 0 Import"
      ]
    },
    {
      "cell_type": "code",
      "metadata": {
        "id": "3tz0TGFFi0FR"
      },
      "source": [
        "import pandas as pd\n",
        "import numpy as np\n",
        "from zipfile import ZipFile\n",
        "import tensorflow as tf\n",
        "from tensorflow import keras\n",
        "from tensorflow.keras import layers\n",
        "from pathlib import Path\n",
        "import matplotlib.pyplot as plt\n",
        "from time import time"
      ],
      "execution_count": 87,
      "outputs": []
    },
    {
      "cell_type": "markdown",
      "metadata": {
        "id": "VA-tiDSpjPge"
      },
      "source": [
        "# 1 Data Load"
      ]
    },
    {
      "cell_type": "markdown",
      "metadata": {
        "id": "W8xodJsEqJP_"
      },
      "source": [
        "- [데이터셋](http://files.grouplens.org/datasets/movielens/)"
      ]
    },
    {
      "cell_type": "code",
      "metadata": {
        "id": "UdHw19sxnlLi",
        "outputId": "abd267a8-ca44-43d0-b261-88cc447a2f20",
        "colab": {
          "base_uri": "https://localhost:8080/"
        }
      },
      "source": [
        "movielens_data_file_url = (\n",
        "    \"http://files.grouplens.org/datasets/movielens/ml-latest-small.zip\"\n",
        ")\n",
        "movielens_zipped_file = keras.utils.get_file(\n",
        "    \"ml-latest-small.zip\", movielens_data_file_url, extract=False\n",
        ")"
      ],
      "execution_count": 3,
      "outputs": [
        {
          "output_type": "stream",
          "text": [
            "Downloading data from http://files.grouplens.org/datasets/movielens/ml-latest-small.zip\n",
            "983040/978202 [==============================] - 0s 0us/step\n"
          ],
          "name": "stdout"
        }
      ]
    },
    {
      "cell_type": "code",
      "metadata": {
        "id": "7wT4mui4nsnp",
        "outputId": "bd57f672-b1d3-4336-e2ec-fb952e07e4ba",
        "colab": {
          "base_uri": "https://localhost:8080/"
        }
      },
      "source": [
        "keras_datasets_path = Path(movielens_zipped_file).parents[0]\n",
        "movielens_dir = keras_datasets_path / \"ml-latest-small\"\n",
        "\n",
        "# Only extract the data the first time the script is run.\n",
        "if not movielens_dir.exists():\n",
        "    with ZipFile(movielens_zipped_file, \"r\") as zip:\n",
        "        # Extract files\n",
        "        print(\"Extracting all the files now...\")\n",
        "        zip.extractall(path=keras_datasets_path)\n",
        "        print(\"Done!\")\n",
        "\n",
        "ratings_file = movielens_dir / \"ratings.csv\"\n",
        "df = pd.read_csv(ratings_file)"
      ],
      "execution_count": 4,
      "outputs": [
        {
          "output_type": "stream",
          "text": [
            "Extracting all the files now...\n",
            "Done!\n"
          ],
          "name": "stdout"
        }
      ]
    },
    {
      "cell_type": "code",
      "metadata": {
        "id": "L3v0Xx8cn1Vi",
        "outputId": "17865434-c04f-43bd-fcd1-ea2ba95a6229",
        "colab": {
          "base_uri": "https://localhost:8080/",
          "height": 142
        }
      },
      "source": [
        "df.head(3)"
      ],
      "execution_count": 5,
      "outputs": [
        {
          "output_type": "execute_result",
          "data": {
            "text/html": [
              "<div>\n",
              "<style scoped>\n",
              "    .dataframe tbody tr th:only-of-type {\n",
              "        vertical-align: middle;\n",
              "    }\n",
              "\n",
              "    .dataframe tbody tr th {\n",
              "        vertical-align: top;\n",
              "    }\n",
              "\n",
              "    .dataframe thead th {\n",
              "        text-align: right;\n",
              "    }\n",
              "</style>\n",
              "<table border=\"1\" class=\"dataframe\">\n",
              "  <thead>\n",
              "    <tr style=\"text-align: right;\">\n",
              "      <th></th>\n",
              "      <th>userId</th>\n",
              "      <th>movieId</th>\n",
              "      <th>rating</th>\n",
              "      <th>timestamp</th>\n",
              "    </tr>\n",
              "  </thead>\n",
              "  <tbody>\n",
              "    <tr>\n",
              "      <th>0</th>\n",
              "      <td>1</td>\n",
              "      <td>1</td>\n",
              "      <td>4.0</td>\n",
              "      <td>964982703</td>\n",
              "    </tr>\n",
              "    <tr>\n",
              "      <th>1</th>\n",
              "      <td>1</td>\n",
              "      <td>3</td>\n",
              "      <td>4.0</td>\n",
              "      <td>964981247</td>\n",
              "    </tr>\n",
              "    <tr>\n",
              "      <th>2</th>\n",
              "      <td>1</td>\n",
              "      <td>6</td>\n",
              "      <td>4.0</td>\n",
              "      <td>964982224</td>\n",
              "    </tr>\n",
              "  </tbody>\n",
              "</table>\n",
              "</div>"
            ],
            "text/plain": [
              "   userId  movieId  rating  timestamp\n",
              "0       1        1     4.0  964982703\n",
              "1       1        3     4.0  964981247\n",
              "2       1        6     4.0  964982224"
            ]
          },
          "metadata": {
            "tags": []
          },
          "execution_count": 5
        }
      ]
    },
    {
      "cell_type": "markdown",
      "metadata": {
        "id": "VR4Itv37n5-O"
      },
      "source": [
        "# 2 Preprocessing  \n",
        "  \n",
        "- User indices  \n",
        "- Item Indices"
      ]
    },
    {
      "cell_type": "markdown",
      "metadata": {
        "id": "LyS_1TkkxKBm"
      },
      "source": [
        "## 2.1 user2i, movie2i"
      ]
    },
    {
      "cell_type": "markdown",
      "metadata": {
        "id": "vgs0pW71r69l"
      },
      "source": [
        "user_id = df[\"userId\"].unique() 모든 Id의 값만을 다 출력"
      ]
    },
    {
      "cell_type": "code",
      "metadata": {
        "id": "YyRfW4ZeoARH",
        "outputId": "b468d6b9-2c41-4895-ad23-00c90b571204",
        "colab": {
          "base_uri": "https://localhost:8080/"
        }
      },
      "source": [
        "# user_id = df[\"userId\"].unique() 모든 Id의 값만을 다 출력\n",
        "user_id = df[\"userId\"].unique().tolist()\n",
        "print(len(user_id)) "
      ],
      "execution_count": 188,
      "outputs": [
        {
          "output_type": "stream",
          "text": [
            "610\n"
          ],
          "name": "stdout"
        }
      ]
    },
    {
      "cell_type": "code",
      "metadata": {
        "id": "EvhDwjyBpFZD"
      },
      "source": [
        "user2i = {x:i for i,x in enumerate(user_id)}# 각 유저 id를 인코딩\n",
        "i2user = {i:x for i,x in enumerate(user_id)} #위에서 인코딩한 dict을 가지고, 각 인코딩되어 생성된 indices를 각 유저id를 key로 대응하게 해"
      ],
      "execution_count": 189,
      "outputs": []
    },
    {
      "cell_type": "code",
      "metadata": {
        "id": "s16-4pNzpv6P",
        "outputId": "05aaac35-1fec-4391-e6b9-b5643d00f80d",
        "colab": {
          "base_uri": "https://localhost:8080/"
        }
      },
      "source": [
        "movie_id = df[\"movieId\"].unique().tolist()\n",
        "print(len(movie_id))"
      ],
      "execution_count": 186,
      "outputs": [
        {
          "output_type": "stream",
          "text": [
            "9724\n"
          ],
          "name": "stdout"
        }
      ]
    },
    {
      "cell_type": "code",
      "metadata": {
        "id": "qJMbB78mqBwH"
      },
      "source": [
        "movie2i = {x:i for i,x in enumerate(movie_id)} # 각 영화 id를 인코딩\n",
        "i2movie = {i:x for i,x in enumerate(movie_id)} # 각 영화 인덱스를 key로서의 id와 대응"
      ],
      "execution_count": 185,
      "outputs": []
    },
    {
      "cell_type": "markdown",
      "metadata": {
        "id": "OmyIJIKNr_Po"
      },
      "source": [
        "df 내의 모든 유저id에 인덱스 부여"
      ]
    },
    {
      "cell_type": "code",
      "metadata": {
        "id": "5nWwrgvrq7GY",
        "outputId": "aab5c85e-d521-4f51-9cd2-2d6a99f60be0",
        "colab": {
          "base_uri": "https://localhost:8080/"
        }
      },
      "source": [
        "df['user'] = df['userId'].map(user2i) # df 내의 모든 유저id에 인덱스 부여\n",
        "print(df['user'].head(2))"
      ],
      "execution_count": 10,
      "outputs": [
        {
          "output_type": "stream",
          "text": [
            "0    0\n",
            "1    0\n",
            "Name: user, dtype: int64\n"
          ],
          "name": "stdout"
        }
      ]
    },
    {
      "cell_type": "markdown",
      "metadata": {
        "id": "ZfrzqoVnsAS2"
      },
      "source": [
        "df 내의 모든 영화id에 인덱스 부여"
      ]
    },
    {
      "cell_type": "code",
      "metadata": {
        "id": "VZjLmw7pri36",
        "outputId": "2262b9b0-5815-4082-9568-430703c9a211",
        "colab": {
          "base_uri": "https://localhost:8080/"
        }
      },
      "source": [
        "df['movie']=df['movieId'].map(movie2i) # df 내의 모든 영화id에 인덱스 부여\n",
        "print(df['movie'].head(2))"
      ],
      "execution_count": 11,
      "outputs": [
        {
          "output_type": "stream",
          "text": [
            "0    0\n",
            "1    1\n",
            "Name: movie, dtype: int64\n"
          ],
          "name": "stdout"
        }
      ]
    },
    {
      "cell_type": "markdown",
      "metadata": {
        "id": "057AyVj5wJ7U"
      },
      "source": [
        "- user2i와 i2movie 길이  \n",
        "- df[rating] 변환"
      ]
    },
    {
      "cell_type": "code",
      "metadata": {
        "id": "EwX2edeQvMd-",
        "outputId": "a2c6fd5d-1c41-4dee-e578-14d1c4889c08",
        "colab": {
          "base_uri": "https://localhost:8080/"
        }
      },
      "source": [
        "num_users = len(user2i)\n",
        "num_movies = len(i2movie)\n",
        "df[\"rating\"] = df[\"rating\"].values.astype(np.float32)\n",
        "\n",
        "print('num_users: ',num_users)\n",
        "print('num_movies: ',num_movies)\n",
        "print('\\n','df[rating]:\\n',df['rating'].head(2))"
      ],
      "execution_count": 12,
      "outputs": [
        {
          "output_type": "stream",
          "text": [
            "num_users:  610\n",
            "num_movies:  9724\n",
            "\n",
            " df[rating]:\n",
            " 0    4.0\n",
            "1    4.0\n",
            "Name: rating, dtype: float32\n"
          ],
          "name": "stdout"
        }
      ]
    },
    {
      "cell_type": "markdown",
      "metadata": {
        "id": "SyflQYn_wSt7"
      },
      "source": [
        "- Norm을 위한 min, max 구하기"
      ]
    },
    {
      "cell_type": "code",
      "metadata": {
        "id": "UKVlERUewVEG",
        "outputId": "c84710bc-6cf5-4b2e-ff0a-28a1a7d7defe",
        "colab": {
          "base_uri": "https://localhost:8080/"
        }
      },
      "source": [
        "min_rating = min(df['rating'])\n",
        "max_rating = max(df['rating'])\n",
        "print(min_rating, max_rating)"
      ],
      "execution_count": 13,
      "outputs": [
        {
          "output_type": "stream",
          "text": [
            "0.5 5.0\n"
          ],
          "name": "stdout"
        }
      ]
    },
    {
      "cell_type": "markdown",
      "metadata": {
        "id": "oCEeSEKfxWK_"
      },
      "source": [
        "## 2.2 Training/Val dataset"
      ]
    },
    {
      "cell_type": "code",
      "metadata": {
        "id": "VHSBbPYCsJun",
        "outputId": "5e90b0e5-ea80-424a-b188-a624a162a49b",
        "colab": {
          "base_uri": "https://localhost:8080/"
        }
      },
      "source": [
        "df = df.sample(frac=1, random_state=42) # 학습을 위해 dataset을 random하게 설정\n",
        "X_data=df[['user', 'movie']]\n",
        "print(X_data.head(1))"
      ],
      "execution_count": 14,
      "outputs": [
        {
          "output_type": "stream",
          "text": [
            "       user  movie\n",
            "67037   431   4730\n"
          ],
          "name": "stdout"
        }
      ]
    },
    {
      "cell_type": "code",
      "metadata": {
        "id": "j_uR_nL9uyOc",
        "outputId": "8378c77f-b7a0-4e9f-f492-835cc5360d5f",
        "colab": {
          "base_uri": "https://localhost:8080/"
        }
      },
      "source": [
        "y_data =df['rating'].apply(lambda x: (x-min_rating)/(max_rating-min_rating)).values # ratings를 0-1 사이로 Normalization 해줌으로써 학습을 용이하게 만들어준다. to avoid explosion\n",
        "print(type(y_data))\n",
        "print(y_data.size)"
      ],
      "execution_count": 15,
      "outputs": [
        {
          "output_type": "stream",
          "text": [
            "<class 'numpy.ndarray'>\n",
            "100836\n"
          ],
          "name": "stdout"
        }
      ]
    },
    {
      "cell_type": "code",
      "metadata": {
        "id": "XSYQEcrlvA54",
        "outputId": "783c3944-c144-45dc-b40d-7e3013d0c97d",
        "colab": {
          "base_uri": "https://localhost:8080/"
        }
      },
      "source": [
        "from sklearn.model_selection import train_test_split\n",
        "\n",
        "X_train, X_val, y_train, y_val = train_test_split(X_data, y_data, test_size = 0.2, random_state = 42)\n",
        "print(X_train.shape)\n",
        "print(X_val.shape)\n",
        "print(y_train.shape)\n",
        "print(y_val.shape)"
      ],
      "execution_count": 16,
      "outputs": [
        {
          "output_type": "stream",
          "text": [
            "(80668, 2)\n",
            "(20168, 2)\n",
            "(80668,)\n",
            "(20168,)\n"
          ],
          "name": "stdout"
        }
      ]
    },
    {
      "cell_type": "markdown",
      "metadata": {
        "id": "U0XeWTDC2AsX"
      },
      "source": [
        "# 3 모델 구축"
      ]
    },
    {
      "cell_type": "markdown",
      "metadata": {
        "id": "foqjc54B0wnf"
      },
      "source": [
        "  \n",
        "#### 원문 수치들  \n",
        "    \n",
        "- Batch size: [128,256,512,1024]  \n",
        "- Learning Rate: [0.0001,0.0005,0.001,0.005]  \n",
        "- CF Layer: 32 -> 16 -> 8  \n",
        "- Emb size: 16"
      ]
    },
    {
      "cell_type": "markdown",
      "metadata": {
        "id": "1WioDUpFULjv"
      },
      "source": [
        "### 3.1 모델 1"
      ]
    },
    {
      "cell_type": "markdown",
      "metadata": {
        "id": "kn8UNwmUahjL"
      },
      "source": [
        "- 임베딩 사이즈:16\n",
        "- 배치 사이즈: 16  \n",
        "- NN 없음"
      ]
    },
    {
      "cell_type": "code",
      "metadata": {
        "id": "gZ2uszmgy7mx"
      },
      "source": [
        "EMBEDDING_SIZE = 16\n",
        "\n",
        "\n",
        "class RecommenderNet(keras.Model):\n",
        "    def __init__(self, num_users, num_movies, embedding_size, **kwargs):\n",
        "        super(RecommenderNet, self).__init__(**kwargs)\n",
        "        self.num_users = num_users\n",
        "        self.num_movies = num_movies\n",
        "        self.embedding_size = embedding_size\n",
        "        self.user_embedding = layers.Embedding(\n",
        "            num_users,\n",
        "            embedding_size,\n",
        "            embeddings_initializer=\"he_normal\",\n",
        "            embeddings_regularizer=keras.regularizers.l2(1e-6),\n",
        "        )\n",
        "        self.user_bias = layers.Embedding(num_users, 1)\n",
        "        self.movie_embedding = layers.Embedding(\n",
        "            num_movies,\n",
        "            embedding_size,\n",
        "            embeddings_initializer=\"he_normal\",\n",
        "            embeddings_regularizer=keras.regularizers.l2(1e-6),\n",
        "        )\n",
        "        self.movie_bias = layers.Embedding(num_movies, 1)\n",
        "\n",
        "    def call(self, inputs):\n",
        "        user_vector = self.user_embedding(inputs[:, 0])\n",
        "        user_bias = self.user_bias(inputs[:, 0])\n",
        "        movie_vector = self.movie_embedding(inputs[:, 1])\n",
        "        movie_bias = self.movie_bias(inputs[:, 1])\n",
        "        dot_user_movie = tf.tensordot(user_vector, movie_vector, 2)\n",
        "        # Add all the components (including bias)\n",
        "        x = dot_user_movie + user_bias + movie_bias\n",
        "        # The sigmoid activation forces the rating to between 0 and 1\n",
        "        return tf.nn.sigmoid(x)\n",
        "\n",
        "\n",
        "model = RecommenderNet(num_users, num_movies, EMBEDDING_SIZE)\n",
        "model.compile(\n",
        "    loss=tf.keras.losses.BinaryCrossentropy(), optimizer=keras.optimizers.Adam(lr=0.001)\n",
        ")"
      ],
      "execution_count": 89,
      "outputs": []
    },
    {
      "cell_type": "markdown",
      "metadata": {
        "id": "ntCxL_JCRyuw"
      },
      "source": [
        "#### 컴파일"
      ]
    },
    {
      "cell_type": "code",
      "metadata": {
        "id": "-XW__r8GRyG0"
      },
      "source": [
        "model.compile(loss = keras.losses.BinaryCrossentropy(), optimizer = keras.optimizers.Adam(learning_rate=0.001))"
      ],
      "execution_count": 90,
      "outputs": []
    },
    {
      "cell_type": "code",
      "metadata": {
        "id": "Ayk-yEFWSo6F"
      },
      "source": [
        "type(model)"
      ],
      "execution_count": null,
      "outputs": []
    },
    {
      "cell_type": "code",
      "metadata": {
        "id": "JVxKKXlXRs0M",
        "outputId": "80654745-ff58-4096-f25d-9b9dfb60ce4d",
        "colab": {
          "base_uri": "https://localhost:8080/"
        }
      },
      "source": [
        "start = time()\n",
        "history = model.fit(x=X_train,\n",
        "                    y=y_train,\n",
        "                    batch_size = 16,\n",
        "                    epochs=10,\n",
        "                    validation_data=(X_val,y_val))\n",
        "end = time()\n",
        "\n",
        "print(end-start)"
      ],
      "execution_count": 91,
      "outputs": [
        {
          "output_type": "stream",
          "text": [
            "Epoch 1/10\n",
            "5042/5042 [==============================] - 22s 4ms/step - loss: 0.6306 - val_loss: 0.6109\n",
            "Epoch 2/10\n",
            "5042/5042 [==============================] - 22s 4ms/step - loss: 0.6059 - val_loss: 0.6046\n",
            "Epoch 3/10\n",
            "5042/5042 [==============================] - 22s 4ms/step - loss: 0.6001 - val_loss: 0.6023\n",
            "Epoch 4/10\n",
            "5042/5042 [==============================] - 22s 4ms/step - loss: 0.5968 - val_loss: 0.6009\n",
            "Epoch 5/10\n",
            "5042/5042 [==============================] - 22s 4ms/step - loss: 0.5951 - val_loss: 0.6002\n",
            "Epoch 6/10\n",
            "5042/5042 [==============================] - 22s 4ms/step - loss: 0.5933 - val_loss: 0.5999\n",
            "Epoch 7/10\n",
            "5042/5042 [==============================] - 22s 4ms/step - loss: 0.5925 - val_loss: 0.5999\n",
            "Epoch 8/10\n",
            "5042/5042 [==============================] - 22s 4ms/step - loss: 0.5914 - val_loss: 0.5999\n",
            "Epoch 9/10\n",
            "5042/5042 [==============================] - 22s 4ms/step - loss: 0.5907 - val_loss: 0.5994\n",
            "Epoch 10/10\n",
            "5042/5042 [==============================] - 22s 4ms/step - loss: 0.5901 - val_loss: 0.5996\n",
            "223.79327750205994\n"
          ],
          "name": "stdout"
        }
      ]
    },
    {
      "cell_type": "code",
      "metadata": {
        "id": "WWPIFxNpWs__",
        "outputId": "4acbe8d5-647d-4689-f1ef-d14c0f3f335f",
        "colab": {
          "base_uri": "https://localhost:8080/"
        }
      },
      "source": [
        "model.summary()"
      ],
      "execution_count": 92,
      "outputs": [
        {
          "output_type": "stream",
          "text": [
            "Model: \"recommender_net_5\"\n",
            "_________________________________________________________________\n",
            "Layer (type)                 Output Shape              Param #   \n",
            "=================================================================\n",
            "embedding_64 (Embedding)     multiple                  9760      \n",
            "_________________________________________________________________\n",
            "embedding_65 (Embedding)     multiple                  610       \n",
            "_________________________________________________________________\n",
            "embedding_66 (Embedding)     multiple                  155584    \n",
            "_________________________________________________________________\n",
            "embedding_67 (Embedding)     multiple                  9724      \n",
            "=================================================================\n",
            "Total params: 175,678\n",
            "Trainable params: 175,678\n",
            "Non-trainable params: 0\n",
            "_________________________________________________________________\n"
          ],
          "name": "stdout"
        }
      ]
    },
    {
      "cell_type": "markdown",
      "metadata": {
        "id": "_6jORNPnUSGy"
      },
      "source": [
        "#### 평가"
      ]
    },
    {
      "cell_type": "code",
      "metadata": {
        "id": "Z_IVxezYU6OS",
        "outputId": "522256c7-582c-4bb1-a469-8b9635cef9b9",
        "colab": {
          "base_uri": "https://localhost:8080/",
          "height": 295
        }
      },
      "source": [
        "plt.plot(history.history[\"loss\"],c=\"red\")\n",
        "plt.plot(history.history[\"val_loss\"],c=\"blue\")\n",
        "plt.title(\"model loss\")\n",
        "plt.ylabel(\"loss\")\n",
        "plt.xlabel(\"epoch\")\n",
        "plt.legend([\"train\", \"test\"], loc=\"upper left\")\n",
        "plt.show()"
      ],
      "execution_count": 93,
      "outputs": [
        {
          "output_type": "display_data",
          "data": {
            "image/png": "[encoded data removed]",
            "text/plain": [
              "<Figure size 432x288 with 1 Axes>"
            ]
          },
          "metadata": {
            "tags": [],
            "needs_background": "light"
          }
        }
      ]
    },
    {
      "cell_type": "markdown",
      "metadata": {
        "id": "TAOTHGEOUOxc"
      },
      "source": [
        "### 3.2 모델 2"
      ]
    },
    {
      "cell_type": "markdown",
      "metadata": {
        "id": "fNUB9ga4aor8"
      },
      "source": [
        "- 임베딩 사이즈:16\n",
        "  \n",
        "- 배치 사이즈: 50\n",
        "  \n",
        "- NN 있음. Dense, activation=relu"
      ]
    },
    {
      "cell_type": "code",
      "metadata": {
        "id": "ucDIHvKgUQM8"
      },
      "source": [
        "EMBEDDING_SIZE = 16\n",
        "\n",
        "\n",
        "class RecommenderNet2(keras.Model):\n",
        "    def __init__(self, num_users, num_movies, embedding_size, **kwargs):\n",
        "        super(RecommenderNet2, self).__init__(**kwargs)\n",
        "        self.num_users = num_users\n",
        "        self.num_movies = num_movies\n",
        "        self.embedding_size = embedding_size\n",
        "        self.user_embedding = layers.Embedding(\n",
        "            num_users,\n",
        "            embedding_size,\n",
        "            embeddings_initializer=\"he_normal\",\n",
        "            embeddings_regularizer=keras.regularizers.l2(1e-6),\n",
        "        )\n",
        "        self.user_bias = layers.Embedding(num_users, 1)\n",
        "        self.movie_embedding = layers.Embedding(\n",
        "            num_movies,\n",
        "            embedding_size,\n",
        "            embeddings_initializer=\"he_normal\",\n",
        "            embeddings_regularizer=keras.regularizers.l2(1e-6),\n",
        "        )\n",
        "        self.movie_bias = layers.Embedding(num_movies, 1)\n",
        "        self.Layer1=layers.Dense(32, activation='relu')\n",
        "        self.Layer2=layers.Dense(16,activation='relu')\n",
        "        self.Layer3=layers.Dense(8,activation='relu')\n",
        "        self.Layer4=layers.Dense(1,activation='sigmoid')\n",
        "\n",
        "    def call(self, inputs):\n",
        "        user_vector = self.user_embedding(inputs[:, 0])\n",
        "        user_bias = self.user_bias(inputs[:, 0])\n",
        "        movie_vector = self.movie_embedding(inputs[:, 1])\n",
        "        movie_bias = self.movie_bias(inputs[:, 1])\n",
        "        dot_user_movie = tf.tensordot(user_vector, movie_vector, 2)\n",
        "        # Add all the components (including bias)\n",
        "        x = dot_user_movie + user_bias + movie_bias\n",
        "        \n",
        "        x = self.Layer1(x)\n",
        "        x = self. Layer2(x)\n",
        "        x = self.Layer3(x)\n",
        "\n",
        "        return self.Layer4(x)\n",
        "\n",
        "\n",
        "model2 = RecommenderNet2(num_users, num_movies, EMBEDDING_SIZE)\n",
        "model2.compile(\n",
        "    loss=tf.keras.losses.BinaryCrossentropy(), optimizer=keras.optimizers.Adam(lr=0.001)\n",
        ")"
      ],
      "execution_count": 94,
      "outputs": []
    },
    {
      "cell_type": "code",
      "metadata": {
        "id": "yNkJ47i_X2RU"
      },
      "source": [
        "model2.compile(loss = keras.losses.BinaryCrossentropy(), optimizer = keras.optimizers.Adam(learning_rate=0.001))"
      ],
      "execution_count": 95,
      "outputs": []
    },
    {
      "cell_type": "code",
      "metadata": {
        "id": "BU4AdWH3X4x_",
        "outputId": "c1cd490b-9d1a-466b-c683-f9119db48e75",
        "colab": {
          "base_uri": "https://localhost:8080/"
        }
      },
      "source": [
        "history2 = model2.fit(x=X_train,\n",
        "                    y=y_train,\n",
        "                    batch_size = 128,\n",
        "                    epochs=10,\n",
        "                    validation_data=(X_val,y_val))"
      ],
      "execution_count": 97,
      "outputs": [
        {
          "output_type": "stream",
          "text": [
            "Epoch 1/10\n",
            "631/631 [==============================] - 4s 6ms/step - loss: 0.6098 - val_loss: 0.6051\n",
            "Epoch 2/10\n",
            "631/631 [==============================] - 4s 6ms/step - loss: 0.6063 - val_loss: 0.6031\n",
            "Epoch 3/10\n",
            "631/631 [==============================] - 4s 6ms/step - loss: 0.6043 - val_loss: 0.6023\n",
            "Epoch 4/10\n",
            "631/631 [==============================] - 4s 6ms/step - loss: 0.6016 - val_loss: 0.6010\n",
            "Epoch 5/10\n",
            "631/631 [==============================] - 4s 6ms/step - loss: 0.5996 - val_loss: 0.6004\n",
            "Epoch 6/10\n",
            "631/631 [==============================] - 4s 6ms/step - loss: 0.5979 - val_loss: 0.5999\n",
            "Epoch 7/10\n",
            "631/631 [==============================] - 4s 6ms/step - loss: 0.5966 - val_loss: 0.5996\n",
            "Epoch 8/10\n",
            "631/631 [==============================] - 4s 6ms/step - loss: 0.5958 - val_loss: 0.5994\n",
            "Epoch 9/10\n",
            "631/631 [==============================] - 4s 6ms/step - loss: 0.5951 - val_loss: 0.5994\n",
            "Epoch 10/10\n",
            "631/631 [==============================] - 4s 6ms/step - loss: 0.5937 - val_loss: 0.5993\n"
          ],
          "name": "stdout"
        }
      ]
    },
    {
      "cell_type": "markdown",
      "metadata": {
        "id": "vV9SOWkMZeFU"
      },
      "source": [
        "#### 평가"
      ]
    },
    {
      "cell_type": "code",
      "metadata": {
        "id": "TU040XryZe7g",
        "outputId": "b5c03b92-d894-422e-d521-c328b1943699",
        "colab": {
          "base_uri": "https://localhost:8080/",
          "height": 295
        }
      },
      "source": [
        "plt.plot(history2.history[\"loss\"],c=\"red\")\n",
        "plt.plot(history2.history[\"val_loss\"],c=\"blue\")\n",
        "plt.title(\"model loss\")\n",
        "plt.ylabel(\"loss\")\n",
        "plt.xlabel(\"epoch\")\n",
        "plt.legend([\"train\", \"test\"], loc=\"upper left\")\n",
        "plt.show()"
      ],
      "execution_count": 98,
      "outputs": [
        {
          "output_type": "display_data",
          "data": {
            "image/png": "[encoded data removed]",
            "text/plain": [
              "<Figure size 432x288 with 1 Axes>"
            ]
          },
          "metadata": {
            "tags": [],
            "needs_background": "light"
          }
        }
      ]
    },
    {
      "cell_type": "markdown",
      "metadata": {
        "id": "bftF7OusYbep"
      },
      "source": [
        "### 3.3 모델3 "
      ]
    },
    {
      "cell_type": "markdown",
      "metadata": {
        "id": "gmp8snvpZx5D"
      },
      "source": [
        " 원문 따라  \n",
        " - 임베딩 사이즈 16  \n",
        " - 배치 사이즈 128\n",
        " - 32->16->8->1 + 배치정규화 + ReLU  \n",
        "   \n",
        "==> 학습 속도가 효과적으로 빨라졌다."
      ]
    },
    {
      "cell_type": "code",
      "metadata": {
        "id": "0wApDHayYdPd"
      },
      "source": [
        "EMBEDDING_SIZE = 64\n",
        "\n",
        "\n",
        "class RecommenderNet3(keras.Model):\n",
        "    def __init__(self, num_users, num_movies, embedding_size, **kwargs):\n",
        "        super(RecommenderNet3, self).__init__(**kwargs)\n",
        "        self.num_users = num_users\n",
        "        self.num_movies = num_movies\n",
        "        self.embedding_size = embedding_size\n",
        "        self.user_embedding = layers.Embedding(\n",
        "            num_users,\n",
        "            embedding_size,\n",
        "            embeddings_initializer=\"he_normal\",\n",
        "            embeddings_regularizer=keras.regularizers.l2(1e-6),\n",
        "        )\n",
        "        self.user_bias = layers.Embedding(num_users, 1)\n",
        "        self.movie_embedding = layers.Embedding(\n",
        "            num_movies,\n",
        "            embedding_size,\n",
        "            embeddings_initializer=\"he_normal\",\n",
        "            embeddings_regularizer=keras.regularizers.l2(1e-6),\n",
        "        )\n",
        "        self.movie_bias = layers.Embedding(num_movies, 1)\n",
        "        self.Layer1=layers.Dense(32)\n",
        "        self.BN1 = layers.BatchNormalization(axis=-1)\n",
        "        self.relu = layers.Activation('relu')\n",
        "        self.Layer2=layers.Dense(16)\n",
        "        self.BN2 = layers.BatchNormalization(axis=-1)\n",
        "        self.relu = layers.Activation('relu')\n",
        "        self.Layer3=layers.Dense(8)\n",
        "        self.BN3 = layers.BatchNormalization(axis=-1)\n",
        "        self.relu = layers.Activation('relu')\n",
        "        self.Layer4=layers.Dense(1,activation='sigmoid')\n",
        "\n",
        "    def call(self, inputs):\n",
        "        user_vector = self.user_embedding(inputs[:, 0])\n",
        "        user_bias = self.user_bias(inputs[:, 0])\n",
        "        movie_vector = self.movie_embedding(inputs[:, 1])\n",
        "        movie_bias = self.movie_bias(inputs[:, 1])\n",
        "        dot_user_movie = tf.tensordot(user_vector, movie_vector, 2)\n",
        "        # Add all the components (including bias)\n",
        "        x = dot_user_movie + user_bias + movie_bias\n",
        "        \n",
        "        x = self.relu(self.BN1(self.Layer1(x)))\n",
        "    \n",
        "        x = self.relu(self.BN2(self.Layer2(x)))\n",
        "        x = self.relu(self.BN3(self.Layer3(x)))\n",
        "\n",
        "        return self.Layer4(x)\n",
        "\n",
        "\n",
        "model3 = RecommenderNet3(num_users, num_movies, EMBEDDING_SIZE)\n",
        "model3.compile(\n",
        "    loss=tf.keras.losses.BinaryCrossentropy(), optimizer=keras.optimizers.Adam(lr=0.001)\n",
        ")"
      ],
      "execution_count": 138,
      "outputs": []
    },
    {
      "cell_type": "code",
      "metadata": {
        "id": "dRVGFauFZ_gZ"
      },
      "source": [
        "model3.compile(loss = keras.losses.BinaryCrossentropy(), optimizer = keras.optimizers.Adam(learning_rate=0.001))"
      ],
      "execution_count": 139,
      "outputs": []
    },
    {
      "cell_type": "code",
      "metadata": {
        "id": "Vl4EUWCQaCM7",
        "outputId": "1fface08-1532-4f3f-ceb2-48d5197e0c6c",
        "colab": {
          "base_uri": "https://localhost:8080/"
        }
      },
      "source": [
        "history3 = model3.fit(x=X_train,\n",
        "                    y=y_train,\n",
        "                    batch_size = 64,\n",
        "                    epochs=50,\n",
        "                    validation_data=(X_val,y_val))"
      ],
      "execution_count": 142,
      "outputs": [
        {
          "output_type": "stream",
          "text": [
            "Epoch 1/50\n",
            "1261/1261 [==============================] - 10s 8ms/step - loss: 0.6370 - val_loss: 0.6257\n",
            "Epoch 2/50\n",
            "1261/1261 [==============================] - 10s 8ms/step - loss: 0.6190 - val_loss: 0.6141\n",
            "Epoch 3/50\n",
            "1261/1261 [==============================] - 10s 8ms/step - loss: 0.6073 - val_loss: 0.6075\n",
            "Epoch 4/50\n",
            "1261/1261 [==============================] - 10s 8ms/step - loss: 0.6008 - val_loss: 0.6053\n",
            "Epoch 5/50\n",
            "1261/1261 [==============================] - 10s 8ms/step - loss: 0.5973 - val_loss: 0.6053\n",
            "Epoch 6/50\n",
            "1261/1261 [==============================] - 10s 8ms/step - loss: 0.5948 - val_loss: 0.6038\n",
            "Epoch 7/50\n",
            "1261/1261 [==============================] - 10s 8ms/step - loss: 0.5934 - val_loss: 0.6046\n",
            "Epoch 8/50\n",
            "1261/1261 [==============================] - 10s 8ms/step - loss: 0.5923 - val_loss: 0.6039\n",
            "Epoch 9/50\n",
            "1261/1261 [==============================] - 10s 8ms/step - loss: 0.5916 - val_loss: 0.6031\n",
            "Epoch 10/50\n",
            "1261/1261 [==============================] - 10s 8ms/step - loss: 0.5912 - val_loss: 0.6047\n",
            "Epoch 11/50\n",
            "1261/1261 [==============================] - 10s 8ms/step - loss: 0.5908 - val_loss: 0.6031\n",
            "Epoch 12/50\n",
            "1261/1261 [==============================] - 10s 8ms/step - loss: 0.5905 - val_loss: 0.6033\n",
            "Epoch 13/50\n",
            "1261/1261 [==============================] - 10s 8ms/step - loss: 0.5901 - val_loss: 0.6030\n",
            "Epoch 14/50\n",
            "1261/1261 [==============================] - 10s 8ms/step - loss: 0.5898 - val_loss: 0.6020\n",
            "Epoch 15/50\n",
            "1261/1261 [==============================] - 10s 8ms/step - loss: 0.5896 - val_loss: 0.6043\n",
            "Epoch 16/50\n",
            "1261/1261 [==============================] - 10s 8ms/step - loss: 0.5894 - val_loss: 0.6021\n",
            "Epoch 17/50\n",
            "1261/1261 [==============================] - 10s 8ms/step - loss: 0.5891 - val_loss: 0.6020\n",
            "Epoch 18/50\n",
            "1261/1261 [==============================] - 10s 8ms/step - loss: 0.5889 - val_loss: 0.6034\n",
            "Epoch 19/50\n",
            "1261/1261 [==============================] - 10s 8ms/step - loss: 0.5887 - val_loss: 0.6020\n",
            "Epoch 20/50\n",
            "1261/1261 [==============================] - 10s 8ms/step - loss: 0.5886 - val_loss: 0.6037\n",
            "Epoch 21/50\n",
            "1261/1261 [==============================] - 11s 8ms/step - loss: 0.5883 - val_loss: 0.6057\n",
            "Epoch 22/50\n",
            "1261/1261 [==============================] - 10s 8ms/step - loss: 0.5883 - val_loss: 0.6043\n",
            "Epoch 23/50\n",
            "1261/1261 [==============================] - 10s 8ms/step - loss: 0.5883 - val_loss: 0.6024\n",
            "Epoch 24/50\n",
            "1261/1261 [==============================] - 10s 8ms/step - loss: 0.5882 - val_loss: 0.6020\n",
            "Epoch 25/50\n",
            "1261/1261 [==============================] - 10s 8ms/step - loss: 0.5880 - val_loss: 0.6027\n",
            "Epoch 26/50\n",
            "1261/1261 [==============================] - 10s 8ms/step - loss: 0.5879 - val_loss: 0.6023\n",
            "Epoch 27/50\n",
            "1261/1261 [==============================] - 10s 8ms/step - loss: 0.5878 - val_loss: 0.6022\n",
            "Epoch 28/50\n",
            "1261/1261 [==============================] - 10s 8ms/step - loss: 0.5877 - val_loss: 0.6026\n",
            "Epoch 29/50\n",
            "1261/1261 [==============================] - 10s 8ms/step - loss: 0.5876 - val_loss: 0.6028\n",
            "Epoch 30/50\n",
            "1261/1261 [==============================] - 10s 8ms/step - loss: 0.5876 - val_loss: 0.6026\n",
            "Epoch 31/50\n",
            "1261/1261 [==============================] - 10s 8ms/step - loss: 0.5875 - val_loss: 0.6023\n",
            "Epoch 32/50\n",
            "1261/1261 [==============================] - 10s 8ms/step - loss: 0.5875 - val_loss: 0.6025\n",
            "Epoch 33/50\n",
            "1261/1261 [==============================] - 10s 8ms/step - loss: 0.5872 - val_loss: 0.6022\n",
            "Epoch 34/50\n",
            "1261/1261 [==============================] - 10s 8ms/step - loss: 0.5872 - val_loss: 0.6041\n",
            "Epoch 35/50\n",
            "1261/1261 [==============================] - 10s 8ms/step - loss: 0.5870 - val_loss: 0.6023\n",
            "Epoch 36/50\n",
            "1261/1261 [==============================] - 10s 8ms/step - loss: 0.5871 - val_loss: 0.6030\n",
            "Epoch 37/50\n",
            "1261/1261 [==============================] - 10s 8ms/step - loss: 0.5870 - val_loss: 0.6025\n",
            "Epoch 38/50\n",
            "1261/1261 [==============================] - 10s 8ms/step - loss: 0.5870 - val_loss: 0.6031\n",
            "Epoch 39/50\n",
            "1261/1261 [==============================] - 10s 8ms/step - loss: 0.5869 - val_loss: 0.6024\n",
            "Epoch 40/50\n",
            "1261/1261 [==============================] - 10s 8ms/step - loss: 0.5871 - val_loss: 0.6021\n",
            "Epoch 41/50\n",
            "1261/1261 [==============================] - 10s 8ms/step - loss: 0.5869 - val_loss: 0.6022\n",
            "Epoch 42/50\n",
            "1261/1261 [==============================] - 10s 8ms/step - loss: 0.5867 - val_loss: 0.6016\n",
            "Epoch 43/50\n",
            "1261/1261 [==============================] - 10s 8ms/step - loss: 0.5868 - val_loss: 0.6019\n",
            "Epoch 44/50\n",
            "1261/1261 [==============================] - 10s 8ms/step - loss: 0.5867 - val_loss: 0.6020\n",
            "Epoch 45/50\n",
            "1261/1261 [==============================] - 10s 8ms/step - loss: 0.5868 - val_loss: 0.6018\n",
            "Epoch 46/50\n",
            "1261/1261 [==============================] - 10s 8ms/step - loss: 0.5867 - val_loss: 0.6022\n",
            "Epoch 47/50\n",
            "1261/1261 [==============================] - 10s 8ms/step - loss: 0.5867 - val_loss: 0.6019\n",
            "Epoch 48/50\n",
            "1261/1261 [==============================] - 10s 8ms/step - loss: 0.5867 - val_loss: 0.6023\n",
            "Epoch 49/50\n",
            "1261/1261 [==============================] - 10s 8ms/step - loss: 0.5865 - val_loss: 0.6021\n",
            "Epoch 50/50\n",
            "1261/1261 [==============================] - 10s 8ms/step - loss: 0.5863 - val_loss: 0.6017\n"
          ],
          "name": "stdout"
        }
      ]
    },
    {
      "cell_type": "markdown",
      "metadata": {
        "id": "PLhrfLyVaRn1"
      },
      "source": [
        "#### 평가"
      ]
    },
    {
      "cell_type": "code",
      "metadata": {
        "id": "NJ1fQToSaSQw",
        "outputId": "94b26b3d-2192-4ac4-ada4-5c5d81aa9d3f",
        "colab": {
          "base_uri": "https://localhost:8080/",
          "height": 295
        }
      },
      "source": [
        "plt.plot(history3.history[\"loss\"],c=\"red\")\n",
        "plt.plot(history3.history[\"val_loss\"],c=\"blue\")\n",
        "plt.title(\"model loss\")\n",
        "plt.ylabel(\"loss\")\n",
        "plt.xlabel(\"epoch\")\n",
        "plt.legend([\"train\", \"test\"], loc=\"upper left\")\n",
        "plt.show()"
      ],
      "execution_count": 143,
      "outputs": [
        {
          "output_type": "display_data",
          "data": {
            "image/png": "[encoded data removed]",
            "text/plain": [
              "<Figure size 432x288 with 1 Axes>"
            ]
          },
          "metadata": {
            "tags": [],
            "needs_background": "light"
          }
        }
      ]
    },
    {
      "cell_type": "markdown",
      "metadata": {
        "id": "EK84ZL-1VjX9"
      },
      "source": [
        "# 4 영화 추천해주기"
      ]
    },
    {
      "cell_type": "code",
      "metadata": {
        "id": "3ur0F8XeVlr6"
      },
      "source": [
        "movie_df = pd.read_csv(movielens_dir / \"movies.csv\")"
      ],
      "execution_count": 305,
      "outputs": []
    },
    {
      "cell_type": "code",
      "metadata": {
        "id": "jUHb1aJhnCpU",
        "outputId": "c061acf0-679c-4c3e-9661-b8845b431454",
        "colab": {
          "base_uri": "https://localhost:8080/",
          "height": 80
        }
      },
      "source": [
        "movie_df.head(1)"
      ],
      "execution_count": 306,
      "outputs": [
        {
          "output_type": "execute_result",
          "data": {
            "text/html": [
              "<div>\n",
              "<style scoped>\n",
              "    .dataframe tbody tr th:only-of-type {\n",
              "        vertical-align: middle;\n",
              "    }\n",
              "\n",
              "    .dataframe tbody tr th {\n",
              "        vertical-align: top;\n",
              "    }\n",
              "\n",
              "    .dataframe thead th {\n",
              "        text-align: right;\n",
              "    }\n",
              "</style>\n",
              "<table border=\"1\" class=\"dataframe\">\n",
              "  <thead>\n",
              "    <tr style=\"text-align: right;\">\n",
              "      <th></th>\n",
              "      <th>movieId</th>\n",
              "      <th>title</th>\n",
              "      <th>genres</th>\n",
              "    </tr>\n",
              "  </thead>\n",
              "  <tbody>\n",
              "    <tr>\n",
              "      <th>0</th>\n",
              "      <td>1</td>\n",
              "      <td>Toy Story (1995)</td>\n",
              "      <td>Adventure|Animation|Children|Comedy|Fantasy</td>\n",
              "    </tr>\n",
              "  </tbody>\n",
              "</table>\n",
              "</div>"
            ],
            "text/plain": [
              "   movieId             title                                       genres\n",
              "0        1  Toy Story (1995)  Adventure|Animation|Children|Comedy|Fantasy"
            ]
          },
          "metadata": {
            "tags": []
          },
          "execution_count": 306
        }
      ]
    },
    {
      "cell_type": "markdown",
      "metadata": {
        "id": "qLETNnsfqdY4"
      },
      "source": [
        "##### 임의로 한 명의 유저를 뽑아보자. 이 유저를 A라고 해보자."
      ]
    },
    {
      "cell_type": "code",
      "metadata": {
        "id": "NVHaAOt9nQdL",
        "outputId": "8f4d1e54-396d-4696-b586-ed726a88e08e",
        "colab": {
          "base_uri": "https://localhost:8080/"
        }
      },
      "source": [
        "user_id = df['userId'].sample(1).iloc[0] # Return a random sample of items from an axis of object.\n",
        "print(user_id)"
      ],
      "execution_count": 338,
      "outputs": [
        {
          "output_type": "stream",
          "text": [
            "587\n"
          ],
          "name": "stdout"
        }
      ]
    },
    {
      "cell_type": "markdown",
      "metadata": {
        "id": "JeZDR1Fyq0Ht"
      },
      "source": [
        "##### A가 본 영화들과 그가 그 영화들에 대해 매긴 평점 df"
      ]
    },
    {
      "cell_type": "code",
      "metadata": {
        "id": "JMS7g2wGqfwR",
        "outputId": "c7b9235b-1d21-4825-ede6-dcd484689fdf",
        "colab": {
          "base_uri": "https://localhost:8080/"
        }
      },
      "source": [
        "movies_watched_by_the_sampled_user = df[df['userId']==user_id]\n",
        "print(movies_watched_by_the_sampled_user)"
      ],
      "execution_count": 339,
      "outputs": [
        {
          "output_type": "stream",
          "text": [
            "       userId  movieId  rating  timestamp  user  movie\n",
            "90276     587      380     4.0  953138831   586    472\n",
            "90286     587      590     5.0  953141749   586     32\n",
            "90382     587     2738     4.0  953139233   586   8914\n",
            "90336     587     1614     4.0  953139233   586   1499\n",
            "90325     587     1371     4.0  953142126   586    270\n",
            "...       ...      ...     ...        ...   ...    ...\n",
            "90355     587     2239     5.0  953139907   586   5056\n",
            "90373     587     2539     1.0  953139269   586   1626\n",
            "90327     587     1373     4.0  953142126   586   1469\n",
            "90397     587     3260     5.0  953141970   586   2201\n",
            "90272     587      345     4.0  953138446   586    310\n",
            "\n",
            "[165 rows x 6 columns]\n"
          ],
          "name": "stdout"
        }
      ]
    },
    {
      "cell_type": "markdown",
      "metadata": {
        "id": "1rmZ1lfTsH2Z"
      },
      "source": [
        "##### 유저 A가 보지 않은 영화 목록을 df로 만들자."
      ]
    },
    {
      "cell_type": "code",
      "metadata": {
        "id": "pfsCMY4CqyVL"
      },
      "source": [
        "movies_not_watched_by_the_sampled_user = movie_df[~movie_df['movieId'].isin(movies_watched_by_the_sampled_user['movieId'].values)]"
      ],
      "execution_count": 340,
      "outputs": []
    },
    {
      "cell_type": "code",
      "metadata": {
        "id": "Ge4wJpOssGS2",
        "outputId": "0fe3bba4-7874-4ce4-dffe-5012e29c1d32",
        "colab": {
          "base_uri": "https://localhost:8080/",
          "height": 419
        }
      },
      "source": [
        "movies_not_watched_by_the_sampled_user"
      ],
      "execution_count": 341,
      "outputs": [
        {
          "output_type": "execute_result",
          "data": {
            "text/html": [
              "<div>\n",
              "<style scoped>\n",
              "    .dataframe tbody tr th:only-of-type {\n",
              "        vertical-align: middle;\n",
              "    }\n",
              "\n",
              "    .dataframe tbody tr th {\n",
              "        vertical-align: top;\n",
              "    }\n",
              "\n",
              "    .dataframe thead th {\n",
              "        text-align: right;\n",
              "    }\n",
              "</style>\n",
              "<table border=\"1\" class=\"dataframe\">\n",
              "  <thead>\n",
              "    <tr style=\"text-align: right;\">\n",
              "      <th></th>\n",
              "      <th>movieId</th>\n",
              "      <th>title</th>\n",
              "      <th>genres</th>\n",
              "    </tr>\n",
              "  </thead>\n",
              "  <tbody>\n",
              "    <tr>\n",
              "      <th>1</th>\n",
              "      <td>2</td>\n",
              "      <td>Jumanji (1995)</td>\n",
              "      <td>Adventure|Children|Fantasy</td>\n",
              "    </tr>\n",
              "    <tr>\n",
              "      <th>2</th>\n",
              "      <td>3</td>\n",
              "      <td>Grumpier Old Men (1995)</td>\n",
              "      <td>Comedy|Romance</td>\n",
              "    </tr>\n",
              "    <tr>\n",
              "      <th>3</th>\n",
              "      <td>4</td>\n",
              "      <td>Waiting to Exhale (1995)</td>\n",
              "      <td>Comedy|Drama|Romance</td>\n",
              "    </tr>\n",
              "    <tr>\n",
              "      <th>4</th>\n",
              "      <td>5</td>\n",
              "      <td>Father of the Bride Part II (1995)</td>\n",
              "      <td>Comedy</td>\n",
              "    </tr>\n",
              "    <tr>\n",
              "      <th>5</th>\n",
              "      <td>6</td>\n",
              "      <td>Heat (1995)</td>\n",
              "      <td>Action|Crime|Thriller</td>\n",
              "    </tr>\n",
              "    <tr>\n",
              "      <th>...</th>\n",
              "      <td>...</td>\n",
              "      <td>...</td>\n",
              "      <td>...</td>\n",
              "    </tr>\n",
              "    <tr>\n",
              "      <th>9737</th>\n",
              "      <td>193581</td>\n",
              "      <td>Black Butler: Book of the Atlantic (2017)</td>\n",
              "      <td>Action|Animation|Comedy|Fantasy</td>\n",
              "    </tr>\n",
              "    <tr>\n",
              "      <th>9738</th>\n",
              "      <td>193583</td>\n",
              "      <td>No Game No Life: Zero (2017)</td>\n",
              "      <td>Animation|Comedy|Fantasy</td>\n",
              "    </tr>\n",
              "    <tr>\n",
              "      <th>9739</th>\n",
              "      <td>193585</td>\n",
              "      <td>Flint (2017)</td>\n",
              "      <td>Drama</td>\n",
              "    </tr>\n",
              "    <tr>\n",
              "      <th>9740</th>\n",
              "      <td>193587</td>\n",
              "      <td>Bungo Stray Dogs: Dead Apple (2018)</td>\n",
              "      <td>Action|Animation</td>\n",
              "    </tr>\n",
              "    <tr>\n",
              "      <th>9741</th>\n",
              "      <td>193609</td>\n",
              "      <td>Andrew Dice Clay: Dice Rules (1991)</td>\n",
              "      <td>Comedy</td>\n",
              "    </tr>\n",
              "  </tbody>\n",
              "</table>\n",
              "<p>9577 rows × 3 columns</p>\n",
              "</div>"
            ],
            "text/plain": [
              "      movieId  ...                           genres\n",
              "1           2  ...       Adventure|Children|Fantasy\n",
              "2           3  ...                   Comedy|Romance\n",
              "3           4  ...             Comedy|Drama|Romance\n",
              "4           5  ...                           Comedy\n",
              "5           6  ...            Action|Crime|Thriller\n",
              "...       ...  ...                              ...\n",
              "9737   193581  ...  Action|Animation|Comedy|Fantasy\n",
              "9738   193583  ...         Animation|Comedy|Fantasy\n",
              "9739   193585  ...                            Drama\n",
              "9740   193587  ...                 Action|Animation\n",
              "9741   193609  ...                           Comedy\n",
              "\n",
              "[9577 rows x 3 columns]"
            ]
          },
          "metadata": {
            "tags": []
          },
          "execution_count": 341
        }
      ]
    },
    {
      "cell_type": "code",
      "metadata": {
        "id": "NzeW5po20DEZ"
      },
      "source": [
        "movies_not_watched_list=[]\n",
        "\n",
        "for i in movies_not_watched_by_the_sampled_user['movieId']:\n",
        "    movies_not_watched_list.append(i)"
      ],
      "execution_count": 342,
      "outputs": []
    },
    {
      "cell_type": "code",
      "metadata": {
        "id": "IgqUAH1ytXVj",
        "outputId": "7cb06845-c2ef-471f-bf50-9c26efb8e213",
        "colab": {
          "base_uri": "https://localhost:8080/"
        }
      },
      "source": [
        "len(movies_not_watched_list)"
      ],
      "execution_count": 343,
      "outputs": [
        {
          "output_type": "execute_result",
          "data": {
            "text/plain": [
              "9577"
            ]
          },
          "metadata": {
            "tags": []
          },
          "execution_count": 343
        }
      ]
    },
    {
      "cell_type": "markdown",
      "metadata": {
        "id": "pPY-VUmY4Dh9"
      },
      "source": [
        "두 set 간의 교집합"
      ]
    },
    {
      "cell_type": "code",
      "metadata": {
        "id": "SIpBJKyctqVM",
        "outputId": "505b6737-7469-42ac-d3f8-71f8b04f8c43",
        "colab": {
          "base_uri": "https://localhost:8080/"
        }
      },
      "source": [
        "movies_not_watched_list = list(set(movies_not_watched_list).intersection(set(movie2i.keys())))\n",
        "print(len(movies_not_watched_list)) # 두 set 간의 교집합"
      ],
      "execution_count": 344,
      "outputs": [
        {
          "output_type": "stream",
          "text": [
            "9559\n"
          ],
          "name": "stdout"
        }
      ]
    },
    {
      "cell_type": "code",
      "metadata": {
        "id": "RbPN8iDst_d4"
      },
      "source": [
        "movies_not_watched_list = [[movie2i.get(x)] for x in movies_not_watched_list]"
      ],
      "execution_count": 345,
      "outputs": []
    },
    {
      "cell_type": "markdown",
      "metadata": {
        "id": "x8dyXp0evkDV"
      },
      "source": [
        "#####  user의 인덱스 추출"
      ]
    },
    {
      "cell_type": "code",
      "metadata": {
        "id": "ZgAwADYPvaKP",
        "outputId": "ece65e32-4fbf-43c5-bceb-d450e5d5528a",
        "colab": {
          "base_uri": "https://localhost:8080/"
        }
      },
      "source": [
        "user_encoder = user2i.get(user_id)\n",
        "print(user_encoder) # user의 인덱스 추출"
      ],
      "execution_count": 346,
      "outputs": [
        {
          "output_type": "stream",
          "text": [
            "118\n"
          ],
          "name": "stdout"
        }
      ]
    },
    {
      "cell_type": "code",
      "metadata": {
        "id": "B4Y6JkjevigA",
        "outputId": "667b460e-fd0f-4689-e2a4-4c1ce8cb515a",
        "colab": {
          "base_uri": "https://localhost:8080/"
        }
      },
      "source": [
        "user_movie_array = np.hstack(([[user_encoder]] * len(movies_not_watched_list), movies_not_watched_list))\n",
        "print(user_movie_array.shape)"
      ],
      "execution_count": 347,
      "outputs": [
        {
          "output_type": "stream",
          "text": [
            "(9559, 2)\n"
          ],
          "name": "stdout"
        }
      ]
    },
    {
      "cell_type": "markdown",
      "metadata": {
        "id": "b9NK5N5BwBQM"
      },
      "source": [
        "### 모델1의 영화 추천 목록"
      ]
    },
    {
      "cell_type": "code",
      "metadata": {
        "id": "-HY7e02swCfo",
        "outputId": "c09f435c-3deb-49a7-dbe1-e58bca976cf0",
        "colab": {
          "base_uri": "https://localhost:8080/"
        }
      },
      "source": [
        "print(ratings.shape)\n",
        "ratings = model.predict(user_movie_array).flatten()\n",
        "print(ratings.shape)\n",
        "top_ratings_indices = ratings.argsort()[-10:][::-1]\n",
        "recommended_movie_ids = [i2movie.get(movies_not_watched_list[x][0]) for x in top_ratings_indices]\n",
        "print(top_ratings_indices)\n",
        "print(recommended_movie_ids)"
      ],
      "execution_count": 348,
      "outputs": [
        {
          "output_type": "stream",
          "text": [
            "(9076,)\n",
            "(9559,)\n",
            "[1491 3987 3689 6585  412 3362  124 6807 5246 6904]\n",
            "[1845, 103253, 4571, 142456, 448, 102445, 135, 78499, 72405, 112175]\n"
          ],
          "name": "stdout"
        }
      ]
    },
    {
      "cell_type": "code",
      "metadata": {
        "id": "1uWK8NLjwQF8",
        "outputId": "edf6af69-8f76-46dd-a521-6c0ecefab866",
        "colab": {
          "base_uri": "https://localhost:8080/"
        }
      },
      "source": [
        "print(\"유저 {} 를 위한 추천 목록\".format(user_id))\n",
        "print(\"====\" * 9)\n",
        "print(\"유저가 가장 높은 평점을 부여한 영화들\")\n",
        "print(\"----\" * 8)\n",
        "top_movies_user = (\n",
        "    movies_watched_by_the_sampled_user.sort_values(by=\"rating\", ascending=False).head(5).movieId.values\n",
        ")\n",
        "movie_df_rows = movie_df[movie_df[\"movieId\"].isin(top_movies_user)]\n",
        "\n",
        "cnt=1\n",
        "for row in movie_df_rows.itertuples():\n",
        "    print(cnt,'.',row.title, \":\", row.genres,'\\n')\n",
        "    cnt+=1"
      ],
      "execution_count": 353,
      "outputs": [
        {
          "output_type": "stream",
          "text": [
            "유저 587 를 위한 추천 목록\n",
            "====================================\n",
            "유저가 가장 높은 평점을 부여한 영화들\n",
            "--------------------------------\n",
            "1 . Usual Suspects, The (1995) : Crime|Mystery|Thriller \n",
            "\n",
            "2 . Primal Fear (1996) : Crime|Drama|Mystery|Thriller \n",
            "\n",
            "3 . One Flew Over the Cuckoo's Nest (1975) : Drama \n",
            "\n",
            "4 . Little Big Man (1970) : Western \n",
            "\n",
            "5 . Bull Durham (1988) : Comedy|Drama|Romance \n",
            "\n"
          ],
          "name": "stdout"
        }
      ]
    },
    {
      "cell_type": "code",
      "metadata": {
        "id": "ulQg4m-g61oM",
        "outputId": "f395cf4d-03d5-4bf0-ea5e-618da9332baf",
        "colab": {
          "base_uri": "https://localhost:8080/"
        }
      },
      "source": [
        "print(\"----\" * 8)\n",
        "print(\"----\" * 8)\n",
        "print(\"Top 10 영화 추천\")\n",
        "print(\"----\" * 8)\n",
        "print(\"----\" * 8)\n",
        "recommended_movies = movie_df[movie_df[\"movieId\"].isin(recommended_movie_ids)]\n",
        "cnt=1\n",
        "for row in recommended_movies.itertuples():\n",
        "    print(cnt,'.',row.title, \":\", row.genres,'\\n')\n",
        "    cnt+=1"
      ],
      "execution_count": 354,
      "outputs": [
        {
          "output_type": "stream",
          "text": [
            "--------------------------------\n",
            "--------------------------------\n",
            "Top 10 영화 추천\n",
            "--------------------------------\n",
            "--------------------------------\n",
            "1 . Down Periscope (1996) : Comedy \n",
            "\n",
            "2 . Fearless (1993) : Drama \n",
            "\n",
            "3 . Zero Effect (1998) : Comedy|Mystery|Thriller \n",
            "\n",
            "4 . Bill & Ted's Excellent Adventure (1989) : Adventure|Comedy|Sci-Fi \n",
            "\n",
            "5 . Bad Lieutenant: Port of Call New Orleans (2009) : Crime|Drama \n",
            "\n",
            "6 . Toy Story 3 (2010) : Adventure|Animation|Children|Comedy|Fantasy|IMAX \n",
            "\n",
            "7 . Star Trek Into Darkness (2013) : Action|Adventure|Sci-Fi|IMAX \n",
            "\n",
            "8 . Elysium (2013) : Action|Drama|Sci-Fi|IMAX \n",
            "\n",
            "9 . How to Train Your Dragon 2 (2014) : Action|Adventure|Animation \n",
            "\n",
            "10 . The Brand New Testament (2015) : (no genres listed) \n",
            "\n"
          ],
          "name": "stdout"
        }
      ]
    },
    {
      "cell_type": "markdown",
      "metadata": {
        "id": "pM3Lo01K7f6J"
      },
      "source": [
        "### 모델2의 영화 추천 목록"
      ]
    },
    {
      "cell_type": "code",
      "metadata": {
        "id": "03aaMEAw7ga7",
        "outputId": "04b7ecb9-411f-4e4e-80a2-be5acc87667f",
        "colab": {
          "base_uri": "https://localhost:8080/"
        }
      },
      "source": [
        "ratings = model2.predict(user_movie_array).flatten()\n",
        "top_ratings_indices = ratings.argsort()[-10:][::-1]\n",
        "recommended_movie_ids = [i2movie.get(movies_not_watched_list[x][0]) for x in top_ratings_indices]\n",
        "\n",
        "print(\"모델 2의 유저 {} 를 위한 추천 목록\".format(user_id))\n",
        "print(\"====\" * 9)\n",
        "print(\"유저가 가장 높은 평점을 부여한 영화들\")\n",
        "print(\"----\" * 9,)\n",
        "print(\" \" * 8)\n",
        "top_movies_user = (\n",
        "    movies_watched_by_the_sampled_user.sort_values(by=\"rating\", ascending=False).head(5).movieId.values\n",
        ")\n",
        "movie_df_rows = movie_df[movie_df[\"movieId\"].isin(top_movies_user)]\n",
        "cnt=1\n",
        "for row in movie_df_rows.itertuples():\n",
        "    print(cnt,'.',row.title, \":\", row.genres)\n",
        "    cnt+=1\n",
        "\n",
        "print(\" \" * 8)\n",
        "print(\" \" * 8)\n",
        "print(\"Top 10 영화 추천\")\n",
        "print(\"----\" * 8)\n",
        "print(\"----\" * 8)\n",
        "recommended_movies = movie_df[movie_df[\"movieId\"].isin(recommended_movie_ids)]\n",
        "cnt=1\n",
        "for row in recommended_movies.itertuples():\n",
        "    print(cnt,'.',row.title, \":\", row.genres,'\\n')\n",
        "    cnt+=1"
      ],
      "execution_count": 355,
      "outputs": [
        {
          "output_type": "stream",
          "text": [
            "모델 2의 유저 587 를 위한 추천 목록\n",
            "====================================\n",
            "유저가 가장 높은 평점을 부여한 영화들\n",
            "------------------------------------\n",
            "        \n",
            "1 . Usual Suspects, The (1995) : Crime|Mystery|Thriller\n",
            "2 . Primal Fear (1996) : Crime|Drama|Mystery|Thriller\n",
            "3 . One Flew Over the Cuckoo's Nest (1975) : Drama\n",
            "4 . Little Big Man (1970) : Western\n",
            "5 . Bull Durham (1988) : Comedy|Drama|Romance\n",
            "        \n",
            "        \n",
            "Top 10 영화 추천\n",
            "--------------------------------\n",
            "--------------------------------\n",
            "1 . Down Periscope (1996) : Comedy \n",
            "\n",
            "2 . Drop Zone (1994) : Action|Thriller \n",
            "\n",
            "3 . Schindler's List (1993) : Drama|War \n",
            "\n",
            "4 . Primary Colors (1998) : Comedy|Drama \n",
            "\n",
            "5 . Zero Effect (1998) : Comedy|Mystery|Thriller \n",
            "\n",
            "6 . Cell, The (2000) : Drama|Horror|Thriller \n",
            "\n",
            "7 . Bill & Ted's Excellent Adventure (1989) : Adventure|Comedy|Sci-Fi \n",
            "\n",
            "8 . Bad Lieutenant: Port of Call New Orleans (2009) : Crime|Drama \n",
            "\n",
            "9 . Toy Story 3 (2010) : Adventure|Animation|Children|Comedy|Fantasy|IMAX \n",
            "\n",
            "10 . Hanna (2011) : Action|Adventure|Mystery|Thriller \n",
            "\n"
          ],
          "name": "stdout"
        }
      ]
    },
    {
      "cell_type": "markdown",
      "metadata": {
        "id": "bcUpfOtY8F-Z"
      },
      "source": [
        "### 모델3의 영화 추천 목록"
      ]
    },
    {
      "cell_type": "code",
      "metadata": {
        "id": "PAXeDGUx8G1A",
        "outputId": "179c5bd6-a774-4b71-c837-51ddfc5d7386",
        "colab": {
          "base_uri": "https://localhost:8080/"
        }
      },
      "source": [
        "ratings = model3.predict(user_movie_array).flatten()\n",
        "top_ratings_indices = ratings.argsort()[-10:][::-1]\n",
        "recommended_movie_ids = [i2movie.get(movies_not_watched_list[x][0]) for x in top_ratings_indices]\n",
        "\n",
        "print(\"모델 2의 유저 {} 를 위한 추천 목록\".format(user_id))\n",
        "print(\"====\" * 9)\n",
        "print(\"유저가 가장 높은 평점을 부여한 영화들\")\n",
        "print(\"----\" * 9,)\n",
        "print(\" \" * 8)\n",
        "top_movies_user = (\n",
        "    movies_watched_by_the_sampled_user.sort_values(by=\"rating\", ascending=False).head(5).movieId.values\n",
        ")\n",
        "movie_df_rows = movie_df[movie_df[\"movieId\"].isin(top_movies_user)]\n",
        "cnt=1\n",
        "for row in movie_df_rows.itertuples():\n",
        "    print(cnt,'.',row.title, \":\", row.genres)\n",
        "    cnt+=1\n",
        "\n",
        "print(\" \" * 8)\n",
        "print(\" \" * 8)\n",
        "print(\"Top 10 영화 추천\")\n",
        "print(\"----\" * 8)\n",
        "print(\"----\" * 8)\n",
        "recommended_movies = movie_df[movie_df[\"movieId\"].isin(recommended_movie_ids)]\n",
        "cnt=1\n",
        "for row in recommended_movies.itertuples():\n",
        "    print(cnt,'.',row.title, \":\", row.genres,'\\n')\n",
        "    cnt+=1"
      ],
      "execution_count": 356,
      "outputs": [
        {
          "output_type": "stream",
          "text": [
            "모델 2의 유저 587 를 위한 추천 목록\n",
            "====================================\n",
            "유저가 가장 높은 평점을 부여한 영화들\n",
            "------------------------------------\n",
            "        \n",
            "1 . Usual Suspects, The (1995) : Crime|Mystery|Thriller\n",
            "2 . Primal Fear (1996) : Crime|Drama|Mystery|Thriller\n",
            "3 . One Flew Over the Cuckoo's Nest (1975) : Drama\n",
            "4 . Little Big Man (1970) : Western\n",
            "5 . Bull Durham (1988) : Comedy|Drama|Romance\n",
            "        \n",
            "        \n",
            "Top 10 영화 추천\n",
            "--------------------------------\n",
            "--------------------------------\n",
            "1 . Higher Learning (1995) : Drama \n",
            "\n",
            "2 . Small Soldiers (1998) : Animation|Children|Fantasy|War \n",
            "\n",
            "3 . Goldfinger (1964) : Action|Adventure|Thriller \n",
            "\n",
            "4 . Come See the Paradise (1990) : Drama|Romance \n",
            "\n",
            "5 . Woman in the Dunes (Suna no onna) (1964) : Drama \n",
            "\n",
            "6 . Bird People in China, The (Chûgoku no chôjin) (1998) : Adventure|Comedy|Drama|Fantasy \n",
            "\n",
            "7 . State of Play (2009) : Crime|Drama|Thriller \n",
            "\n",
            "8 . Whip It (2009) : Comedy|Drama \n",
            "\n",
            "9 . Repo Men (2010) : Action|Sci-Fi|Thriller \n",
            "\n",
            "10 . Story of Film: An Odyssey, The (2011) : Documentary \n",
            "\n"
          ],
          "name": "stdout"
        }
      ]
    }
  ]
}